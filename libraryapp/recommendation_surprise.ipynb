{
 "cells": [
  {
   "cell_type": "code",
   "execution_count": 125,
   "metadata": {},
   "outputs": [],
   "source": [
    "import numpy as np\n",
    "import pandas as pd\n",
    "import matplotlib.pyplot as plt\n",
    "import seaborn as sns\n",
    "%matplotlib inline\n"
   ]
  },
  {
   "cell_type": "code",
   "execution_count": 126,
   "metadata": {},
   "outputs": [],
   "source": [
    "from surprise import Reader, Dataset\n",
    "from surprise.model_selection import cross_validate, train_test_split\n",
    "from surprise.accuracy import rmse\n",
    "from surprise import accuracy\n",
    "from surprise import KNNBaseline, KNNBasic, KNNWithMeans, KNNWithZScore\n",
    "from surprise import NormalPredictor, BaselineOnly, SVD, SVDpp, NMF, SlopeOne, CoClustering"
   ]
  },
  {
   "cell_type": "code",
   "execution_count": 127,
   "metadata": {},
   "outputs": [],
   "source": [
    "import sqlite3\n",
    "\n",
    "conn = sqlite3.connect('../db.sqlite3')"
   ]
  },
  {
   "cell_type": "code",
   "execution_count": 128,
   "metadata": {},
   "outputs": [
    {
     "output_type": "execute_result",
     "data": {
      "text/plain": "   id                                     title               publisher  \\\n0   5                                       DAA                   suman   \n1   6                                       DBA                     ram   \n2   7                              cryptography                     ram   \n3   8                          The Hunger Games  Harper Collins Collins   \n4   9  Harry Potter and the Philosopher's Stone  Harper Collins Collins   \n\n                        author  \\\n0                       suuman   \n1                        thapa   \n2                        thapa   \n3              Suzanne Collins   \n4  J.K. Rowling, Mary GrandPré   \n\n                                               image  category_id  available  \n0  book/02_-_Python_e_Django.jpg.250x250_q85_crop...            2          0  \n1                                      book/pos6.jpg            2          1  \n2                                      book/baag.jpg            1          1  \n3  https://images.gr-assets.com/books/1447303603m...            3          7  \n4  https://images.gr-assets.com/books/1474154022m...            4         24  ",
      "text/html": "<div>\n<style scoped>\n    .dataframe tbody tr th:only-of-type {\n        vertical-align: middle;\n    }\n\n    .dataframe tbody tr th {\n        vertical-align: top;\n    }\n\n    .dataframe thead th {\n        text-align: right;\n    }\n</style>\n<table border=\"1\" class=\"dataframe\">\n  <thead>\n    <tr style=\"text-align: right;\">\n      <th></th>\n      <th>id</th>\n      <th>title</th>\n      <th>publisher</th>\n      <th>author</th>\n      <th>image</th>\n      <th>category_id</th>\n      <th>available</th>\n    </tr>\n  </thead>\n  <tbody>\n    <tr>\n      <th>0</th>\n      <td>5</td>\n      <td>DAA</td>\n      <td>suman</td>\n      <td>suuman</td>\n      <td>book/02_-_Python_e_Django.jpg.250x250_q85_crop...</td>\n      <td>2</td>\n      <td>0</td>\n    </tr>\n    <tr>\n      <th>1</th>\n      <td>6</td>\n      <td>DBA</td>\n      <td>ram</td>\n      <td>thapa</td>\n      <td>book/pos6.jpg</td>\n      <td>2</td>\n      <td>1</td>\n    </tr>\n    <tr>\n      <th>2</th>\n      <td>7</td>\n      <td>cryptography</td>\n      <td>ram</td>\n      <td>thapa</td>\n      <td>book/baag.jpg</td>\n      <td>1</td>\n      <td>1</td>\n    </tr>\n    <tr>\n      <th>3</th>\n      <td>8</td>\n      <td>The Hunger Games</td>\n      <td>Harper Collins Collins</td>\n      <td>Suzanne Collins</td>\n      <td>https://images.gr-assets.com/books/1447303603m...</td>\n      <td>3</td>\n      <td>7</td>\n    </tr>\n    <tr>\n      <th>4</th>\n      <td>9</td>\n      <td>Harry Potter and the Philosopher's Stone</td>\n      <td>Harper Collins Collins</td>\n      <td>J.K. Rowling, Mary GrandPré</td>\n      <td>https://images.gr-assets.com/books/1474154022m...</td>\n      <td>4</td>\n      <td>24</td>\n    </tr>\n  </tbody>\n</table>\n</div>"
     },
     "metadata": {},
     "execution_count": 128
    }
   ],
   "source": [
    "FETCH_BOOK_QUERY = \"SELECT `id`, `title`, `publisher`, `author`, `image`, `category_id`, `available` FROM `libraryapp_book` \"\n",
    "\n",
    "book_list = pd.read_sql_query(FETCH_BOOK_QUERY, conn)\n",
    "book_list.head()"
   ]
  },
  {
   "cell_type": "code",
   "execution_count": 129,
   "metadata": {},
   "outputs": [
    {
     "output_type": "execute_result",
     "data": {
      "text/plain": "id             205\ntitle          205\npublisher      205\nauthor         205\nimage          205\ncategory_id    205\navailable      205\ndtype: int64"
     },
     "metadata": {},
     "execution_count": 129
    }
   ],
   "source": [
    "book_list.count()"
   ]
  },
  {
   "cell_type": "code",
   "execution_count": 130,
   "metadata": {},
   "outputs": [
    {
     "output_type": "execute_result",
     "data": {
      "text/plain": "     book_id                                         book_title  \\\n0          5                                                DAA   \n1          6                                                DBA   \n2          7                                       cryptography   \n3          8                                   The Hunger Games   \n4          9           Harry Potter and the Philosopher's Stone   \n..       ...                                                ...   \n200      205  The Devil in the White City: Murder, Magic, an...   \n201      206                                       Bared to You   \n202      207                           The Chronicles of Narnia   \n203      208  Twilight: The Complete Illustrated Movie Compa...   \n204      209                                         Networking   \n\n                       publisher                       author  \\\n0                          suman                       suuman   \n1                            ram                        thapa   \n2                            ram                        thapa   \n3         Harper Collins Collins              Suzanne Collins   \n4         Harper Collins Collins  J.K. Rowling, Mary GrandPré   \n..                           ...                          ...   \n200               New Directions    Erik Larson, Tony Goldwyn   \n201                    Actes Sud                   Sylvia Day   \n202  Penguin Books Ltd. (London)   C.S. Lewis, Pauline Baynes   \n203                Business Plus               Mark Cotta Vaz   \n204                      Pearson                      Unknown   \n\n                                            book_image  category_id  available  \n0    book/02_-_Python_e_Django.jpg.250x250_q85_crop...            2          0  \n1                                        book/pos6.jpg            2          1  \n2                                        book/baag.jpg            1          1  \n3    https://images.gr-assets.com/books/1447303603m...            3          7  \n4    https://images.gr-assets.com/books/1474154022m...            4         24  \n..                                                 ...          ...        ...  \n200  https://images.gr-assets.com/books/1312066724m...            3         47  \n201  https://images.gr-assets.com/books/1477803272m...            4         26  \n202  https://images.gr-assets.com/books/1449868701m...            3         30  \n203  https://images.gr-assets.com/books/1352539022m...            4         49  \n204                      book/alone-tree-sunset-qe.jpg            2          3  \n\n[205 rows x 7 columns]",
      "text/html": "<div>\n<style scoped>\n    .dataframe tbody tr th:only-of-type {\n        vertical-align: middle;\n    }\n\n    .dataframe tbody tr th {\n        vertical-align: top;\n    }\n\n    .dataframe thead th {\n        text-align: right;\n    }\n</style>\n<table border=\"1\" class=\"dataframe\">\n  <thead>\n    <tr style=\"text-align: right;\">\n      <th></th>\n      <th>book_id</th>\n      <th>book_title</th>\n      <th>publisher</th>\n      <th>author</th>\n      <th>book_image</th>\n      <th>category_id</th>\n      <th>available</th>\n    </tr>\n  </thead>\n  <tbody>\n    <tr>\n      <th>0</th>\n      <td>5</td>\n      <td>DAA</td>\n      <td>suman</td>\n      <td>suuman</td>\n      <td>book/02_-_Python_e_Django.jpg.250x250_q85_crop...</td>\n      <td>2</td>\n      <td>0</td>\n    </tr>\n    <tr>\n      <th>1</th>\n      <td>6</td>\n      <td>DBA</td>\n      <td>ram</td>\n      <td>thapa</td>\n      <td>book/pos6.jpg</td>\n      <td>2</td>\n      <td>1</td>\n    </tr>\n    <tr>\n      <th>2</th>\n      <td>7</td>\n      <td>cryptography</td>\n      <td>ram</td>\n      <td>thapa</td>\n      <td>book/baag.jpg</td>\n      <td>1</td>\n      <td>1</td>\n    </tr>\n    <tr>\n      <th>3</th>\n      <td>8</td>\n      <td>The Hunger Games</td>\n      <td>Harper Collins Collins</td>\n      <td>Suzanne Collins</td>\n      <td>https://images.gr-assets.com/books/1447303603m...</td>\n      <td>3</td>\n      <td>7</td>\n    </tr>\n    <tr>\n      <th>4</th>\n      <td>9</td>\n      <td>Harry Potter and the Philosopher's Stone</td>\n      <td>Harper Collins Collins</td>\n      <td>J.K. Rowling, Mary GrandPré</td>\n      <td>https://images.gr-assets.com/books/1474154022m...</td>\n      <td>4</td>\n      <td>24</td>\n    </tr>\n    <tr>\n      <th>...</th>\n      <td>...</td>\n      <td>...</td>\n      <td>...</td>\n      <td>...</td>\n      <td>...</td>\n      <td>...</td>\n      <td>...</td>\n    </tr>\n    <tr>\n      <th>200</th>\n      <td>205</td>\n      <td>The Devil in the White City: Murder, Magic, an...</td>\n      <td>New Directions</td>\n      <td>Erik Larson, Tony Goldwyn</td>\n      <td>https://images.gr-assets.com/books/1312066724m...</td>\n      <td>3</td>\n      <td>47</td>\n    </tr>\n    <tr>\n      <th>201</th>\n      <td>206</td>\n      <td>Bared to You</td>\n      <td>Actes Sud</td>\n      <td>Sylvia Day</td>\n      <td>https://images.gr-assets.com/books/1477803272m...</td>\n      <td>4</td>\n      <td>26</td>\n    </tr>\n    <tr>\n      <th>202</th>\n      <td>207</td>\n      <td>The Chronicles of Narnia</td>\n      <td>Penguin Books Ltd. (London)</td>\n      <td>C.S. Lewis, Pauline Baynes</td>\n      <td>https://images.gr-assets.com/books/1449868701m...</td>\n      <td>3</td>\n      <td>30</td>\n    </tr>\n    <tr>\n      <th>203</th>\n      <td>208</td>\n      <td>Twilight: The Complete Illustrated Movie Compa...</td>\n      <td>Business Plus</td>\n      <td>Mark Cotta Vaz</td>\n      <td>https://images.gr-assets.com/books/1352539022m...</td>\n      <td>4</td>\n      <td>49</td>\n    </tr>\n    <tr>\n      <th>204</th>\n      <td>209</td>\n      <td>Networking</td>\n      <td>Pearson</td>\n      <td>Unknown</td>\n      <td>book/alone-tree-sunset-qe.jpg</td>\n      <td>2</td>\n      <td>3</td>\n    </tr>\n  </tbody>\n</table>\n<p>205 rows × 7 columns</p>\n</div>"
     },
     "metadata": {},
     "execution_count": 130
    }
   ],
   "source": [
    "# rename book list dataframe columns\n",
    "books = book_list.rename(\n",
    "    {'id': 'book_id', 'title': 'book_title', 'image': 'book_image'}, axis=1)\n",
    "books"
   ]
  },
  {
   "cell_type": "code",
   "execution_count": 131,
   "metadata": {},
   "outputs": [
    {
     "output_type": "execute_result",
     "data": {
      "text/plain": "   category_id category_title  \\\n0            1    interseting   \n1            2    educational   \n2            3        Fiction   \n3            4        Fantasy   \n\n                                      category_image  \n0                         bookcategory/download.jpeg  \n1                                bookcategory/e1.jpg  \n2  https://www.google.com/url?sa=i&url=https%3A%2...  \n3  https://www.google.com/url?sa=i&url=https%3A%2...  ",
      "text/html": "<div>\n<style scoped>\n    .dataframe tbody tr th:only-of-type {\n        vertical-align: middle;\n    }\n\n    .dataframe tbody tr th {\n        vertical-align: top;\n    }\n\n    .dataframe thead th {\n        text-align: right;\n    }\n</style>\n<table border=\"1\" class=\"dataframe\">\n  <thead>\n    <tr style=\"text-align: right;\">\n      <th></th>\n      <th>category_id</th>\n      <th>category_title</th>\n      <th>category_image</th>\n    </tr>\n  </thead>\n  <tbody>\n    <tr>\n      <th>0</th>\n      <td>1</td>\n      <td>interseting</td>\n      <td>bookcategory/download.jpeg</td>\n    </tr>\n    <tr>\n      <th>1</th>\n      <td>2</td>\n      <td>educational</td>\n      <td>bookcategory/e1.jpg</td>\n    </tr>\n    <tr>\n      <th>2</th>\n      <td>3</td>\n      <td>Fiction</td>\n      <td>https://www.google.com/url?sa=i&amp;url=https%3A%2...</td>\n    </tr>\n    <tr>\n      <th>3</th>\n      <td>4</td>\n      <td>Fantasy</td>\n      <td>https://www.google.com/url?sa=i&amp;url=https%3A%2...</td>\n    </tr>\n  </tbody>\n</table>\n</div>"
     },
     "metadata": {},
     "execution_count": 131
    }
   ],
   "source": [
    "books_category = pd.read_sql_query(\"SELECT `id` as `category_id`, `title` as `category_title`, `image` as `category_image` FROM `libraryapp_bookcategory`\", conn)\n",
    "\n",
    "books_category.head()"
   ]
  },
  {
   "cell_type": "code",
   "execution_count": 132,
   "metadata": {},
   "outputs": [
    {
     "output_type": "execute_result",
     "data": {
      "text/plain": "     book_id                                         book_title  \\\n0          5                                                DAA   \n1          6                                                DBA   \n2        209                                         Networking   \n3          7                                       cryptography   \n4          8                                   The Hunger Games   \n..       ...                                                ...   \n200      197                                  One for the Money   \n201      202                                    Die Verwandlung   \n202      203                                  The Titan's Curse   \n203      206                                       Bared to You   \n204      208  Twilight: The Complete Illustrated Movie Compa...   \n\n                  publisher                         author  \\\n0                     suman                         suuman   \n1                       ram                          thapa   \n2                   Pearson                        Unknown   \n3                       ram                          thapa   \n4    Harper Collins Collins                Suzanne Collins   \n..                      ...                            ...   \n200           Penguin Books                Janet Evanovich   \n201           Penguin Books  Franz Kafka, Stanley Corngold   \n202    Henry Holt & Company                   Rick Riordan   \n203               Actes Sud                     Sylvia Day   \n204           Business Plus                 Mark Cotta Vaz   \n\n                                            book_image  category_id  \\\n0    book/02_-_Python_e_Django.jpg.250x250_q85_crop...            2   \n1                                        book/pos6.jpg            2   \n2                        book/alone-tree-sunset-qe.jpg            2   \n3                                        book/baag.jpg            1   \n4    https://images.gr-assets.com/books/1447303603m...            3   \n..                                                 ...          ...   \n200  https://images.gr-assets.com/books/1316730230m...            4   \n201  https://images.gr-assets.com/books/1359061917m...            4   \n202  https://images.gr-assets.com/books/1361038385m...            4   \n203  https://images.gr-assets.com/books/1477803272m...            4   \n204  https://images.gr-assets.com/books/1352539022m...            4   \n\n     available category_title  \\\n0            0    educational   \n1            1    educational   \n2            3    educational   \n3            1    interseting   \n4            7        Fiction   \n..         ...            ...   \n200         26        Fantasy   \n201          6        Fantasy   \n202         26        Fantasy   \n203         26        Fantasy   \n204         49        Fantasy   \n\n                                        category_image  \n0                                  bookcategory/e1.jpg  \n1                                  bookcategory/e1.jpg  \n2                                  bookcategory/e1.jpg  \n3                           bookcategory/download.jpeg  \n4    https://www.google.com/url?sa=i&url=https%3A%2...  \n..                                                 ...  \n200  https://www.google.com/url?sa=i&url=https%3A%2...  \n201  https://www.google.com/url?sa=i&url=https%3A%2...  \n202  https://www.google.com/url?sa=i&url=https%3A%2...  \n203  https://www.google.com/url?sa=i&url=https%3A%2...  \n204  https://www.google.com/url?sa=i&url=https%3A%2...  \n\n[205 rows x 9 columns]",
      "text/html": "<div>\n<style scoped>\n    .dataframe tbody tr th:only-of-type {\n        vertical-align: middle;\n    }\n\n    .dataframe tbody tr th {\n        vertical-align: top;\n    }\n\n    .dataframe thead th {\n        text-align: right;\n    }\n</style>\n<table border=\"1\" class=\"dataframe\">\n  <thead>\n    <tr style=\"text-align: right;\">\n      <th></th>\n      <th>book_id</th>\n      <th>book_title</th>\n      <th>publisher</th>\n      <th>author</th>\n      <th>book_image</th>\n      <th>category_id</th>\n      <th>available</th>\n      <th>category_title</th>\n      <th>category_image</th>\n    </tr>\n  </thead>\n  <tbody>\n    <tr>\n      <th>0</th>\n      <td>5</td>\n      <td>DAA</td>\n      <td>suman</td>\n      <td>suuman</td>\n      <td>book/02_-_Python_e_Django.jpg.250x250_q85_crop...</td>\n      <td>2</td>\n      <td>0</td>\n      <td>educational</td>\n      <td>bookcategory/e1.jpg</td>\n    </tr>\n    <tr>\n      <th>1</th>\n      <td>6</td>\n      <td>DBA</td>\n      <td>ram</td>\n      <td>thapa</td>\n      <td>book/pos6.jpg</td>\n      <td>2</td>\n      <td>1</td>\n      <td>educational</td>\n      <td>bookcategory/e1.jpg</td>\n    </tr>\n    <tr>\n      <th>2</th>\n      <td>209</td>\n      <td>Networking</td>\n      <td>Pearson</td>\n      <td>Unknown</td>\n      <td>book/alone-tree-sunset-qe.jpg</td>\n      <td>2</td>\n      <td>3</td>\n      <td>educational</td>\n      <td>bookcategory/e1.jpg</td>\n    </tr>\n    <tr>\n      <th>3</th>\n      <td>7</td>\n      <td>cryptography</td>\n      <td>ram</td>\n      <td>thapa</td>\n      <td>book/baag.jpg</td>\n      <td>1</td>\n      <td>1</td>\n      <td>interseting</td>\n      <td>bookcategory/download.jpeg</td>\n    </tr>\n    <tr>\n      <th>4</th>\n      <td>8</td>\n      <td>The Hunger Games</td>\n      <td>Harper Collins Collins</td>\n      <td>Suzanne Collins</td>\n      <td>https://images.gr-assets.com/books/1447303603m...</td>\n      <td>3</td>\n      <td>7</td>\n      <td>Fiction</td>\n      <td>https://www.google.com/url?sa=i&amp;url=https%3A%2...</td>\n    </tr>\n    <tr>\n      <th>...</th>\n      <td>...</td>\n      <td>...</td>\n      <td>...</td>\n      <td>...</td>\n      <td>...</td>\n      <td>...</td>\n      <td>...</td>\n      <td>...</td>\n      <td>...</td>\n    </tr>\n    <tr>\n      <th>200</th>\n      <td>197</td>\n      <td>One for the Money</td>\n      <td>Penguin Books</td>\n      <td>Janet Evanovich</td>\n      <td>https://images.gr-assets.com/books/1316730230m...</td>\n      <td>4</td>\n      <td>26</td>\n      <td>Fantasy</td>\n      <td>https://www.google.com/url?sa=i&amp;url=https%3A%2...</td>\n    </tr>\n    <tr>\n      <th>201</th>\n      <td>202</td>\n      <td>Die Verwandlung</td>\n      <td>Penguin Books</td>\n      <td>Franz Kafka, Stanley Corngold</td>\n      <td>https://images.gr-assets.com/books/1359061917m...</td>\n      <td>4</td>\n      <td>6</td>\n      <td>Fantasy</td>\n      <td>https://www.google.com/url?sa=i&amp;url=https%3A%2...</td>\n    </tr>\n    <tr>\n      <th>202</th>\n      <td>203</td>\n      <td>The Titan's Curse</td>\n      <td>Henry Holt &amp; Company</td>\n      <td>Rick Riordan</td>\n      <td>https://images.gr-assets.com/books/1361038385m...</td>\n      <td>4</td>\n      <td>26</td>\n      <td>Fantasy</td>\n      <td>https://www.google.com/url?sa=i&amp;url=https%3A%2...</td>\n    </tr>\n    <tr>\n      <th>203</th>\n      <td>206</td>\n      <td>Bared to You</td>\n      <td>Actes Sud</td>\n      <td>Sylvia Day</td>\n      <td>https://images.gr-assets.com/books/1477803272m...</td>\n      <td>4</td>\n      <td>26</td>\n      <td>Fantasy</td>\n      <td>https://www.google.com/url?sa=i&amp;url=https%3A%2...</td>\n    </tr>\n    <tr>\n      <th>204</th>\n      <td>208</td>\n      <td>Twilight: The Complete Illustrated Movie Compa...</td>\n      <td>Business Plus</td>\n      <td>Mark Cotta Vaz</td>\n      <td>https://images.gr-assets.com/books/1352539022m...</td>\n      <td>4</td>\n      <td>49</td>\n      <td>Fantasy</td>\n      <td>https://www.google.com/url?sa=i&amp;url=https%3A%2...</td>\n    </tr>\n  </tbody>\n</table>\n<p>205 rows × 9 columns</p>\n</div>"
     },
     "metadata": {},
     "execution_count": 132
    }
   ],
   "source": [
    "# merge books and book_category\n",
    "books_data = pd.merge(books, books_category, on='category_id')\n",
    "books_data"
   ]
  },
  {
   "cell_type": "code",
   "execution_count": 133,
   "metadata": {},
   "outputs": [
    {
     "output_type": "execute_result",
     "data": {
      "text/plain": "   id  rating  book_id  user_id\n0   1       3        5        5\n1   2       4        5        6\n2   3       4        6        6\n3   4       4        5        6\n4   5       3        5        5",
      "text/html": "<div>\n<style scoped>\n    .dataframe tbody tr th:only-of-type {\n        vertical-align: middle;\n    }\n\n    .dataframe tbody tr th {\n        vertical-align: top;\n    }\n\n    .dataframe thead th {\n        text-align: right;\n    }\n</style>\n<table border=\"1\" class=\"dataframe\">\n  <thead>\n    <tr style=\"text-align: right;\">\n      <th></th>\n      <th>id</th>\n      <th>rating</th>\n      <th>book_id</th>\n      <th>user_id</th>\n    </tr>\n  </thead>\n  <tbody>\n    <tr>\n      <th>0</th>\n      <td>1</td>\n      <td>3</td>\n      <td>5</td>\n      <td>5</td>\n    </tr>\n    <tr>\n      <th>1</th>\n      <td>2</td>\n      <td>4</td>\n      <td>5</td>\n      <td>6</td>\n    </tr>\n    <tr>\n      <th>2</th>\n      <td>3</td>\n      <td>4</td>\n      <td>6</td>\n      <td>6</td>\n    </tr>\n    <tr>\n      <th>3</th>\n      <td>4</td>\n      <td>4</td>\n      <td>5</td>\n      <td>6</td>\n    </tr>\n    <tr>\n      <th>4</th>\n      <td>5</td>\n      <td>3</td>\n      <td>5</td>\n      <td>5</td>\n    </tr>\n  </tbody>\n</table>\n</div>"
     },
     "metadata": {},
     "execution_count": 133
    }
   ],
   "source": [
    "book_ratings = pd.read_sql_query(\"SELECT `id`, `rating`, `book_id`, `user_id` from `libraryapp_bookrating` \", conn)\n",
    "book_ratings.head()"
   ]
  },
  {
   "cell_type": "markdown",
   "metadata": {},
   "source": [
    "## Merge boo_list and book_ratings"
   ]
  },
  {
   "cell_type": "code",
   "execution_count": 134,
   "metadata": {},
   "outputs": [
    {
     "output_type": "execute_result",
     "data": {
      "text/plain": "     book_id                                         book_title  \\\n0          5                                                DAA   \n1          5                                                DAA   \n2          5                                                DAA   \n3          5                                                DAA   \n4          5                                                DAA   \n..       ...                                                ...   \n238      206                                       Bared to You   \n239      206                                       Bared to You   \n240      208  Twilight: The Complete Illustrated Movie Compa...   \n241      208  Twilight: The Complete Illustrated Movie Compa...   \n242      208  Twilight: The Complete Illustrated Movie Compa...   \n\n         publisher          author  \\\n0            suman          suuman   \n1            suman          suuman   \n2            suman          suuman   \n3            suman          suuman   \n4            suman          suuman   \n..             ...             ...   \n238      Actes Sud      Sylvia Day   \n239      Actes Sud      Sylvia Day   \n240  Business Plus  Mark Cotta Vaz   \n241  Business Plus  Mark Cotta Vaz   \n242  Business Plus  Mark Cotta Vaz   \n\n                                            book_image  category_id  \\\n0    book/02_-_Python_e_Django.jpg.250x250_q85_crop...            2   \n1    book/02_-_Python_e_Django.jpg.250x250_q85_crop...            2   \n2    book/02_-_Python_e_Django.jpg.250x250_q85_crop...            2   \n3    book/02_-_Python_e_Django.jpg.250x250_q85_crop...            2   \n4    book/02_-_Python_e_Django.jpg.250x250_q85_crop...            2   \n..                                                 ...          ...   \n238  https://images.gr-assets.com/books/1477803272m...            4   \n239  https://images.gr-assets.com/books/1477803272m...            4   \n240  https://images.gr-assets.com/books/1352539022m...            4   \n241  https://images.gr-assets.com/books/1352539022m...            4   \n242  https://images.gr-assets.com/books/1352539022m...            4   \n\n     available category_title  \\\n0            0    educational   \n1            0    educational   \n2            0    educational   \n3            0    educational   \n4            0    educational   \n..         ...            ...   \n238         26        Fantasy   \n239         26        Fantasy   \n240         49        Fantasy   \n241         49        Fantasy   \n242         49        Fantasy   \n\n                                        category_image   id  rating  user_id  \n0                                  bookcategory/e1.jpg    1       3        5  \n1                                  bookcategory/e1.jpg    2       4        6  \n2                                  bookcategory/e1.jpg    4       4        6  \n3                                  bookcategory/e1.jpg    5       3        5  \n4                                  bookcategory/e1.jpg    6       4        6  \n..                                                 ...  ...     ...      ...  \n238  https://www.google.com/url?sa=i&url=https%3A%2...  194       4        8  \n239  https://www.google.com/url?sa=i&url=https%3A%2...  207       5        7  \n240  https://www.google.com/url?sa=i&url=https%3A%2...   56       4        6  \n241  https://www.google.com/url?sa=i&url=https%3A%2...  233       4        8  \n242  https://www.google.com/url?sa=i&url=https%3A%2...  238       4       10  \n\n[243 rows x 12 columns]",
      "text/html": "<div>\n<style scoped>\n    .dataframe tbody tr th:only-of-type {\n        vertical-align: middle;\n    }\n\n    .dataframe tbody tr th {\n        vertical-align: top;\n    }\n\n    .dataframe thead th {\n        text-align: right;\n    }\n</style>\n<table border=\"1\" class=\"dataframe\">\n  <thead>\n    <tr style=\"text-align: right;\">\n      <th></th>\n      <th>book_id</th>\n      <th>book_title</th>\n      <th>publisher</th>\n      <th>author</th>\n      <th>book_image</th>\n      <th>category_id</th>\n      <th>available</th>\n      <th>category_title</th>\n      <th>category_image</th>\n      <th>id</th>\n      <th>rating</th>\n      <th>user_id</th>\n    </tr>\n  </thead>\n  <tbody>\n    <tr>\n      <th>0</th>\n      <td>5</td>\n      <td>DAA</td>\n      <td>suman</td>\n      <td>suuman</td>\n      <td>book/02_-_Python_e_Django.jpg.250x250_q85_crop...</td>\n      <td>2</td>\n      <td>0</td>\n      <td>educational</td>\n      <td>bookcategory/e1.jpg</td>\n      <td>1</td>\n      <td>3</td>\n      <td>5</td>\n    </tr>\n    <tr>\n      <th>1</th>\n      <td>5</td>\n      <td>DAA</td>\n      <td>suman</td>\n      <td>suuman</td>\n      <td>book/02_-_Python_e_Django.jpg.250x250_q85_crop...</td>\n      <td>2</td>\n      <td>0</td>\n      <td>educational</td>\n      <td>bookcategory/e1.jpg</td>\n      <td>2</td>\n      <td>4</td>\n      <td>6</td>\n    </tr>\n    <tr>\n      <th>2</th>\n      <td>5</td>\n      <td>DAA</td>\n      <td>suman</td>\n      <td>suuman</td>\n      <td>book/02_-_Python_e_Django.jpg.250x250_q85_crop...</td>\n      <td>2</td>\n      <td>0</td>\n      <td>educational</td>\n      <td>bookcategory/e1.jpg</td>\n      <td>4</td>\n      <td>4</td>\n      <td>6</td>\n    </tr>\n    <tr>\n      <th>3</th>\n      <td>5</td>\n      <td>DAA</td>\n      <td>suman</td>\n      <td>suuman</td>\n      <td>book/02_-_Python_e_Django.jpg.250x250_q85_crop...</td>\n      <td>2</td>\n      <td>0</td>\n      <td>educational</td>\n      <td>bookcategory/e1.jpg</td>\n      <td>5</td>\n      <td>3</td>\n      <td>5</td>\n    </tr>\n    <tr>\n      <th>4</th>\n      <td>5</td>\n      <td>DAA</td>\n      <td>suman</td>\n      <td>suuman</td>\n      <td>book/02_-_Python_e_Django.jpg.250x250_q85_crop...</td>\n      <td>2</td>\n      <td>0</td>\n      <td>educational</td>\n      <td>bookcategory/e1.jpg</td>\n      <td>6</td>\n      <td>4</td>\n      <td>6</td>\n    </tr>\n    <tr>\n      <th>...</th>\n      <td>...</td>\n      <td>...</td>\n      <td>...</td>\n      <td>...</td>\n      <td>...</td>\n      <td>...</td>\n      <td>...</td>\n      <td>...</td>\n      <td>...</td>\n      <td>...</td>\n      <td>...</td>\n      <td>...</td>\n    </tr>\n    <tr>\n      <th>238</th>\n      <td>206</td>\n      <td>Bared to You</td>\n      <td>Actes Sud</td>\n      <td>Sylvia Day</td>\n      <td>https://images.gr-assets.com/books/1477803272m...</td>\n      <td>4</td>\n      <td>26</td>\n      <td>Fantasy</td>\n      <td>https://www.google.com/url?sa=i&amp;url=https%3A%2...</td>\n      <td>194</td>\n      <td>4</td>\n      <td>8</td>\n    </tr>\n    <tr>\n      <th>239</th>\n      <td>206</td>\n      <td>Bared to You</td>\n      <td>Actes Sud</td>\n      <td>Sylvia Day</td>\n      <td>https://images.gr-assets.com/books/1477803272m...</td>\n      <td>4</td>\n      <td>26</td>\n      <td>Fantasy</td>\n      <td>https://www.google.com/url?sa=i&amp;url=https%3A%2...</td>\n      <td>207</td>\n      <td>5</td>\n      <td>7</td>\n    </tr>\n    <tr>\n      <th>240</th>\n      <td>208</td>\n      <td>Twilight: The Complete Illustrated Movie Compa...</td>\n      <td>Business Plus</td>\n      <td>Mark Cotta Vaz</td>\n      <td>https://images.gr-assets.com/books/1352539022m...</td>\n      <td>4</td>\n      <td>49</td>\n      <td>Fantasy</td>\n      <td>https://www.google.com/url?sa=i&amp;url=https%3A%2...</td>\n      <td>56</td>\n      <td>4</td>\n      <td>6</td>\n    </tr>\n    <tr>\n      <th>241</th>\n      <td>208</td>\n      <td>Twilight: The Complete Illustrated Movie Compa...</td>\n      <td>Business Plus</td>\n      <td>Mark Cotta Vaz</td>\n      <td>https://images.gr-assets.com/books/1352539022m...</td>\n      <td>4</td>\n      <td>49</td>\n      <td>Fantasy</td>\n      <td>https://www.google.com/url?sa=i&amp;url=https%3A%2...</td>\n      <td>233</td>\n      <td>4</td>\n      <td>8</td>\n    </tr>\n    <tr>\n      <th>242</th>\n      <td>208</td>\n      <td>Twilight: The Complete Illustrated Movie Compa...</td>\n      <td>Business Plus</td>\n      <td>Mark Cotta Vaz</td>\n      <td>https://images.gr-assets.com/books/1352539022m...</td>\n      <td>4</td>\n      <td>49</td>\n      <td>Fantasy</td>\n      <td>https://www.google.com/url?sa=i&amp;url=https%3A%2...</td>\n      <td>238</td>\n      <td>4</td>\n      <td>10</td>\n    </tr>\n  </tbody>\n</table>\n<p>243 rows × 12 columns</p>\n</div>"
     },
     "metadata": {},
     "execution_count": 134
    }
   ],
   "source": [
    "books_with_rating = pd.merge(books_data, book_ratings, on='book_id')\n",
    "books_with_rating"
   ]
  },
  {
   "cell_type": "code",
   "execution_count": 135,
   "metadata": {},
   "outputs": [
    {
     "output_type": "execute_result",
     "data": {
      "text/plain": "book_title\n The Fellowship of the Ring                                   2\nA Christmas Carol                                             2\nA Clockwork Orange                                            1\nA Feast for Crows                                             2\nA Game of Thrones                                             2\n                                                             ..\nWhere the Wild Things Are                                     3\nWicked: The Life and Times of the Wicked Witch of the West    1\nWuthering Heights                                             1\ncryptography                                                  4\nАнна Каренина                                                 2\nName: rating, Length: 131, dtype: int64"
     },
     "metadata": {},
     "execution_count": 135
    }
   ],
   "source": [
    "books_with_rating.groupby('book_title')['rating'].count()"
   ]
  },
  {
   "cell_type": "code",
   "execution_count": 136,
   "metadata": {},
   "outputs": [
    {
     "output_type": "execute_result",
     "data": {
      "text/plain": "                                                      rating  total_rating\nbook_title                                                                \n The Fellowship of the Ring                         4.500000             2\nA Christmas Carol                                   3.000000             2\nA Clockwork Orange                                  4.000000             1\nA Feast for Crows                                   4.000000             2\nA Game of Thrones                                   3.000000             2\n...                                                      ...           ...\nWhere the Wild Things Are                           4.666667             3\nWicked: The Life and Times of the Wicked Witch ...  5.000000             1\nWuthering Heights                                   5.000000             1\ncryptography                                        2.750000             4\nАнна Каренина                                       4.500000             2\n\n[131 rows x 2 columns]",
      "text/html": "<div>\n<style scoped>\n    .dataframe tbody tr th:only-of-type {\n        vertical-align: middle;\n    }\n\n    .dataframe tbody tr th {\n        vertical-align: top;\n    }\n\n    .dataframe thead th {\n        text-align: right;\n    }\n</style>\n<table border=\"1\" class=\"dataframe\">\n  <thead>\n    <tr style=\"text-align: right;\">\n      <th></th>\n      <th>rating</th>\n      <th>total_rating</th>\n    </tr>\n    <tr>\n      <th>book_title</th>\n      <th></th>\n      <th></th>\n    </tr>\n  </thead>\n  <tbody>\n    <tr>\n      <th>The Fellowship of the Ring</th>\n      <td>4.500000</td>\n      <td>2</td>\n    </tr>\n    <tr>\n      <th>A Christmas Carol</th>\n      <td>3.000000</td>\n      <td>2</td>\n    </tr>\n    <tr>\n      <th>A Clockwork Orange</th>\n      <td>4.000000</td>\n      <td>1</td>\n    </tr>\n    <tr>\n      <th>A Feast for Crows</th>\n      <td>4.000000</td>\n      <td>2</td>\n    </tr>\n    <tr>\n      <th>A Game of Thrones</th>\n      <td>3.000000</td>\n      <td>2</td>\n    </tr>\n    <tr>\n      <th>...</th>\n      <td>...</td>\n      <td>...</td>\n    </tr>\n    <tr>\n      <th>Where the Wild Things Are</th>\n      <td>4.666667</td>\n      <td>3</td>\n    </tr>\n    <tr>\n      <th>Wicked: The Life and Times of the Wicked Witch of the West</th>\n      <td>5.000000</td>\n      <td>1</td>\n    </tr>\n    <tr>\n      <th>Wuthering Heights</th>\n      <td>5.000000</td>\n      <td>1</td>\n    </tr>\n    <tr>\n      <th>cryptography</th>\n      <td>2.750000</td>\n      <td>4</td>\n    </tr>\n    <tr>\n      <th>Анна Каренина</th>\n      <td>4.500000</td>\n      <td>2</td>\n    </tr>\n  </tbody>\n</table>\n<p>131 rows × 2 columns</p>\n</div>"
     },
     "metadata": {},
     "execution_count": 136
    }
   ],
   "source": [
    "ratings = pd.DataFrame(books_with_rating.groupby('book_title')['rating'].mean())\n",
    "ratings['total_rating'] = pd.DataFrame(books_with_rating.groupby('book_title')['rating'].count())\n",
    "ratings"
   ]
  },
  {
   "cell_type": "markdown",
   "metadata": {},
   "source": [
    "## Data Preparation"
   ]
  },
  {
   "cell_type": "code",
   "execution_count": 137,
   "metadata": {},
   "outputs": [
    {
     "output_type": "execute_result",
     "data": {
      "text/plain": "                                                      rating  total_rating\nbook_title                                                                \n The Fellowship of the Ring                         4.500000             2\nA Christmas Carol                                   3.000000             2\nA Clockwork Orange                                  4.000000             1\nA Feast for Crows                                   4.000000             2\nA Game of Thrones                                   3.000000             2\n...                                                      ...           ...\nWhere the Wild Things Are                           4.666667             3\nWicked: The Life and Times of the Wicked Witch ...  5.000000             1\nWuthering Heights                                   5.000000             1\ncryptography                                        2.750000             4\nАнна Каренина                                       4.500000             2\n\n[131 rows x 2 columns]",
      "text/html": "<div>\n<style scoped>\n    .dataframe tbody tr th:only-of-type {\n        vertical-align: middle;\n    }\n\n    .dataframe tbody tr th {\n        vertical-align: top;\n    }\n\n    .dataframe thead th {\n        text-align: right;\n    }\n</style>\n<table border=\"1\" class=\"dataframe\">\n  <thead>\n    <tr style=\"text-align: right;\">\n      <th></th>\n      <th>rating</th>\n      <th>total_rating</th>\n    </tr>\n    <tr>\n      <th>book_title</th>\n      <th></th>\n      <th></th>\n    </tr>\n  </thead>\n  <tbody>\n    <tr>\n      <th>The Fellowship of the Ring</th>\n      <td>4.500000</td>\n      <td>2</td>\n    </tr>\n    <tr>\n      <th>A Christmas Carol</th>\n      <td>3.000000</td>\n      <td>2</td>\n    </tr>\n    <tr>\n      <th>A Clockwork Orange</th>\n      <td>4.000000</td>\n      <td>1</td>\n    </tr>\n    <tr>\n      <th>A Feast for Crows</th>\n      <td>4.000000</td>\n      <td>2</td>\n    </tr>\n    <tr>\n      <th>A Game of Thrones</th>\n      <td>3.000000</td>\n      <td>2</td>\n    </tr>\n    <tr>\n      <th>...</th>\n      <td>...</td>\n      <td>...</td>\n    </tr>\n    <tr>\n      <th>Where the Wild Things Are</th>\n      <td>4.666667</td>\n      <td>3</td>\n    </tr>\n    <tr>\n      <th>Wicked: The Life and Times of the Wicked Witch of the West</th>\n      <td>5.000000</td>\n      <td>1</td>\n    </tr>\n    <tr>\n      <th>Wuthering Heights</th>\n      <td>5.000000</td>\n      <td>1</td>\n    </tr>\n    <tr>\n      <th>cryptography</th>\n      <td>2.750000</td>\n      <td>4</td>\n    </tr>\n    <tr>\n      <th>Анна Каренина</th>\n      <td>4.500000</td>\n      <td>2</td>\n    </tr>\n  </tbody>\n</table>\n<p>131 rows × 2 columns</p>\n</div>"
     },
     "metadata": {},
     "execution_count": 137
    }
   ],
   "source": [
    "ratings"
   ]
  },
  {
   "cell_type": "code",
   "execution_count": 138,
   "metadata": {},
   "outputs": [
    {
     "output_type": "display_data",
     "data": {
      "text/plain": "<Figure size 432x288 with 1 Axes>",
      "image/svg+xml": "<?xml version=\"1.0\" encoding=\"utf-8\" standalone=\"no\"?>\n<!DOCTYPE svg PUBLIC \"-//W3C//DTD SVG 1.1//EN\"\n  \"http://www.w3.org/Graphics/SVG/1.1/DTD/svg11.dtd\">\n<!-- Created with matplotlib (https://matplotlib.org/) -->\n<svg height=\"248.518125pt\" version=\"1.1\" viewBox=\"0 0 382.603125 248.518125\" width=\"382.603125pt\" xmlns=\"http://www.w3.org/2000/svg\" xmlns:xlink=\"http://www.w3.org/1999/xlink\">\n <defs>\n  <style type=\"text/css\">\n*{stroke-linecap:butt;stroke-linejoin:round;}\n  </style>\n </defs>\n <g id=\"figure_1\">\n  <g id=\"patch_1\">\n   <path d=\"M 0 248.518125 \nL 382.603125 248.518125 \nL 382.603125 0 \nL 0 0 \nz\n\" style=\"fill:none;\"/>\n  </g>\n  <g id=\"axes_1\">\n   <g id=\"patch_2\">\n    <path d=\"M 40.603125 224.64 \nL 375.403125 224.64 \nL 375.403125 7.2 \nL 40.603125 7.2 \nz\n\" style=\"fill:#ffffff;\"/>\n   </g>\n   <g id=\"patch_3\">\n    <path clip-path=\"url(#pd038c1ede2)\" d=\"M 55.821307 224.64 \nL 63.430398 224.64 \nL 63.430398 192.780659 \nL 55.821307 192.780659 \nz\n\" style=\"fill:#1f77b4;\"/>\n   </g>\n   <g id=\"patch_4\">\n    <path clip-path=\"url(#pd038c1ede2)\" d=\"M 63.430398 224.64 \nL 71.039489 224.64 \nL 71.039489 224.64 \nL 63.430398 224.64 \nz\n\" style=\"fill:#1f77b4;\"/>\n   </g>\n   <g id=\"patch_5\">\n    <path clip-path=\"url(#pd038c1ede2)\" d=\"M 71.039489 224.64 \nL 78.64858 224.64 \nL 78.64858 224.64 \nL 71.039489 224.64 \nz\n\" style=\"fill:#1f77b4;\"/>\n   </g>\n   <g id=\"patch_6\">\n    <path clip-path=\"url(#pd038c1ede2)\" d=\"M 78.64858 224.64 \nL 86.25767 224.64 \nL 86.25767 224.64 \nL 78.64858 224.64 \nz\n\" style=\"fill:#1f77b4;\"/>\n   </g>\n   <g id=\"patch_7\">\n    <path clip-path=\"url(#pd038c1ede2)\" d=\"M 86.25767 224.64 \nL 93.866761 224.64 \nL 93.866761 224.64 \nL 86.25767 224.64 \nz\n\" style=\"fill:#1f77b4;\"/>\n   </g>\n   <g id=\"patch_8\">\n    <path clip-path=\"url(#pd038c1ede2)\" d=\"M 93.866761 224.64 \nL 101.475852 224.64 \nL 101.475852 224.64 \nL 93.866761 224.64 \nz\n\" style=\"fill:#1f77b4;\"/>\n   </g>\n   <g id=\"patch_9\">\n    <path clip-path=\"url(#pd038c1ede2)\" d=\"M 101.475852 224.64 \nL 109.084943 224.64 \nL 109.084943 214.02022 \nL 101.475852 214.02022 \nz\n\" style=\"fill:#1f77b4;\"/>\n   </g>\n   <g id=\"patch_10\">\n    <path clip-path=\"url(#pd038c1ede2)\" d=\"M 109.084943 224.64 \nL 116.694034 224.64 \nL 116.694034 224.64 \nL 109.084943 224.64 \nz\n\" style=\"fill:#1f77b4;\"/>\n   </g>\n   <g id=\"patch_11\">\n    <path clip-path=\"url(#pd038c1ede2)\" d=\"M 116.694034 224.64 \nL 124.303125 224.64 \nL 124.303125 219.33011 \nL 116.694034 219.33011 \nz\n\" style=\"fill:#1f77b4;\"/>\n   </g>\n   <g id=\"patch_12\">\n    <path clip-path=\"url(#pd038c1ede2)\" d=\"M 124.303125 224.64 \nL 131.912216 224.64 \nL 131.912216 224.64 \nL 124.303125 224.64 \nz\n\" style=\"fill:#1f77b4;\"/>\n   </g>\n   <g id=\"patch_13\">\n    <path clip-path=\"url(#pd038c1ede2)\" d=\"M 131.912216 224.64 \nL 139.521307 224.64 \nL 139.521307 219.33011 \nL 131.912216 219.33011 \nz\n\" style=\"fill:#1f77b4;\"/>\n   </g>\n   <g id=\"patch_14\">\n    <path clip-path=\"url(#pd038c1ede2)\" d=\"M 139.521307 224.64 \nL 147.130398 224.64 \nL 147.130398 224.64 \nL 139.521307 224.64 \nz\n\" style=\"fill:#1f77b4;\"/>\n   </g>\n   <g id=\"patch_15\">\n    <path clip-path=\"url(#pd038c1ede2)\" d=\"M 147.130398 224.64 \nL 154.739489 224.64 \nL 154.739489 224.64 \nL 147.130398 224.64 \nz\n\" style=\"fill:#1f77b4;\"/>\n   </g>\n   <g id=\"patch_16\">\n    <path clip-path=\"url(#pd038c1ede2)\" d=\"M 154.739489 224.64 \nL 162.34858 224.64 \nL 162.34858 160.921319 \nL 154.739489 160.921319 \nz\n\" style=\"fill:#1f77b4;\"/>\n   </g>\n   <g id=\"patch_17\">\n    <path clip-path=\"url(#pd038c1ede2)\" d=\"M 162.34858 224.64 \nL 169.95767 224.64 \nL 169.95767 224.64 \nL 162.34858 224.64 \nz\n\" style=\"fill:#1f77b4;\"/>\n   </g>\n   <g id=\"patch_18\">\n    <path clip-path=\"url(#pd038c1ede2)\" d=\"M 169.95767 224.64 \nL 177.566761 224.64 \nL 177.566761 224.64 \nL 169.95767 224.64 \nz\n\" style=\"fill:#1f77b4;\"/>\n   </g>\n   <g id=\"patch_19\">\n    <path clip-path=\"url(#pd038c1ede2)\" d=\"M 177.566761 224.64 \nL 185.175852 224.64 \nL 185.175852 224.64 \nL 177.566761 224.64 \nz\n\" style=\"fill:#1f77b4;\"/>\n   </g>\n   <g id=\"patch_20\">\n    <path clip-path=\"url(#pd038c1ede2)\" d=\"M 185.175852 224.64 \nL 192.784943 224.64 \nL 192.784943 214.02022 \nL 185.175852 214.02022 \nz\n\" style=\"fill:#1f77b4;\"/>\n   </g>\n   <g id=\"patch_21\">\n    <path clip-path=\"url(#pd038c1ede2)\" d=\"M 192.784943 224.64 \nL 200.394034 224.64 \nL 200.394034 224.64 \nL 192.784943 224.64 \nz\n\" style=\"fill:#1f77b4;\"/>\n   </g>\n   <g id=\"patch_22\">\n    <path clip-path=\"url(#pd038c1ede2)\" d=\"M 200.394034 224.64 \nL 208.003125 224.64 \nL 208.003125 224.64 \nL 200.394034 224.64 \nz\n\" style=\"fill:#1f77b4;\"/>\n   </g>\n   <g id=\"patch_23\">\n    <path clip-path=\"url(#pd038c1ede2)\" d=\"M 208.003125 224.64 \nL 215.612216 224.64 \nL 215.612216 198.090549 \nL 208.003125 198.090549 \nz\n\" style=\"fill:#1f77b4;\"/>\n   </g>\n   <g id=\"patch_24\">\n    <path clip-path=\"url(#pd038c1ede2)\" d=\"M 215.612216 224.64 \nL 223.221307 224.64 \nL 223.221307 224.64 \nL 215.612216 224.64 \nz\n\" style=\"fill:#1f77b4;\"/>\n   </g>\n   <g id=\"patch_25\">\n    <path clip-path=\"url(#pd038c1ede2)\" d=\"M 223.221307 224.64 \nL 230.830398 224.64 \nL 230.830398 208.71033 \nL 223.221307 208.71033 \nz\n\" style=\"fill:#1f77b4;\"/>\n   </g>\n   <g id=\"patch_26\">\n    <path clip-path=\"url(#pd038c1ede2)\" d=\"M 230.830398 224.64 \nL 238.439489 224.64 \nL 238.439489 219.33011 \nL 230.830398 219.33011 \nz\n\" style=\"fill:#1f77b4;\"/>\n   </g>\n   <g id=\"patch_27\">\n    <path clip-path=\"url(#pd038c1ede2)\" d=\"M 238.439489 224.64 \nL 246.04858 224.64 \nL 246.04858 224.64 \nL 238.439489 224.64 \nz\n\" style=\"fill:#1f77b4;\"/>\n   </g>\n   <g id=\"patch_28\">\n    <path clip-path=\"url(#pd038c1ede2)\" d=\"M 246.04858 224.64 \nL 253.65767 224.64 \nL 253.65767 224.64 \nL 246.04858 224.64 \nz\n\" style=\"fill:#1f77b4;\"/>\n   </g>\n   <g id=\"patch_29\">\n    <path clip-path=\"url(#pd038c1ede2)\" d=\"M 253.65767 224.64 \nL 261.266761 224.64 \nL 261.266761 17.554286 \nL 253.65767 17.554286 \nz\n\" style=\"fill:#1f77b4;\"/>\n   </g>\n   <g id=\"patch_30\">\n    <path clip-path=\"url(#pd038c1ede2)\" d=\"M 261.266761 224.64 \nL 268.875852 224.64 \nL 268.875852 224.64 \nL 261.266761 224.64 \nz\n\" style=\"fill:#1f77b4;\"/>\n   </g>\n   <g id=\"patch_31\">\n    <path clip-path=\"url(#pd038c1ede2)\" d=\"M 268.875852 224.64 \nL 276.484943 224.64 \nL 276.484943 224.64 \nL 268.875852 224.64 \nz\n\" style=\"fill:#1f77b4;\"/>\n   </g>\n   <g id=\"patch_32\">\n    <path clip-path=\"url(#pd038c1ede2)\" d=\"M 276.484943 224.64 \nL 284.094034 224.64 \nL 284.094034 224.64 \nL 276.484943 224.64 \nz\n\" style=\"fill:#1f77b4;\"/>\n   </g>\n   <g id=\"patch_33\">\n    <path clip-path=\"url(#pd038c1ede2)\" d=\"M 284.094034 224.64 \nL 291.703125 224.64 \nL 291.703125 219.33011 \nL 284.094034 219.33011 \nz\n\" style=\"fill:#1f77b4;\"/>\n   </g>\n   <g id=\"patch_34\">\n    <path clip-path=\"url(#pd038c1ede2)\" d=\"M 291.703125 224.64 \nL 299.312216 224.64 \nL 299.312216 203.40044 \nL 291.703125 203.40044 \nz\n\" style=\"fill:#1f77b4;\"/>\n   </g>\n   <g id=\"patch_35\">\n    <path clip-path=\"url(#pd038c1ede2)\" d=\"M 299.312216 224.64 \nL 306.921307 224.64 \nL 306.921307 224.64 \nL 299.312216 224.64 \nz\n\" style=\"fill:#1f77b4;\"/>\n   </g>\n   <g id=\"patch_36\">\n    <path clip-path=\"url(#pd038c1ede2)\" d=\"M 306.921307 224.64 \nL 314.530398 224.64 \nL 314.530398 171.541099 \nL 306.921307 171.541099 \nz\n\" style=\"fill:#1f77b4;\"/>\n   </g>\n   <g id=\"patch_37\">\n    <path clip-path=\"url(#pd038c1ede2)\" d=\"M 314.530398 224.64 \nL 322.139489 224.64 \nL 322.139489 219.33011 \nL 314.530398 219.33011 \nz\n\" style=\"fill:#1f77b4;\"/>\n   </g>\n   <g id=\"patch_38\">\n    <path clip-path=\"url(#pd038c1ede2)\" d=\"M 322.139489 224.64 \nL 329.74858 224.64 \nL 329.74858 203.40044 \nL 322.139489 203.40044 \nz\n\" style=\"fill:#1f77b4;\"/>\n   </g>\n   <g id=\"patch_39\">\n    <path clip-path=\"url(#pd038c1ede2)\" d=\"M 329.74858 224.64 \nL 337.35767 224.64 \nL 337.35767 219.33011 \nL 329.74858 219.33011 \nz\n\" style=\"fill:#1f77b4;\"/>\n   </g>\n   <g id=\"patch_40\">\n    <path clip-path=\"url(#pd038c1ede2)\" d=\"M 337.35767 224.64 \nL 344.966761 224.64 \nL 344.966761 224.64 \nL 337.35767 224.64 \nz\n\" style=\"fill:#1f77b4;\"/>\n   </g>\n   <g id=\"patch_41\">\n    <path clip-path=\"url(#pd038c1ede2)\" d=\"M 344.966761 224.64 \nL 352.575852 224.64 \nL 352.575852 224.64 \nL 344.966761 224.64 \nz\n\" style=\"fill:#1f77b4;\"/>\n   </g>\n   <g id=\"patch_42\">\n    <path clip-path=\"url(#pd038c1ede2)\" d=\"M 352.575852 224.64 \nL 360.184943 224.64 \nL 360.184943 22.864176 \nL 352.575852 22.864176 \nz\n\" style=\"fill:#1f77b4;\"/>\n   </g>\n   <g id=\"matplotlib.axis_1\">\n    <g id=\"xtick_1\">\n     <g id=\"line2d_1\">\n      <defs>\n       <path d=\"M 0 0 \nL 0 3.5 \n\" id=\"ma8d00c639a\" style=\"stroke:#000000;stroke-width:0.8;\"/>\n      </defs>\n      <g>\n       <use style=\"stroke:#000000;stroke-width:0.8;\" x=\"55.821307\" xlink:href=\"#ma8d00c639a\" y=\"224.64\"/>\n      </g>\n     </g>\n     <g id=\"text_1\">\n      <!-- 2.0 -->\n      <defs>\n       <path d=\"M 19.1875 8.296875 \nL 53.609375 8.296875 \nL 53.609375 0 \nL 7.328125 0 \nL 7.328125 8.296875 \nQ 12.9375 14.109375 22.625 23.890625 \nQ 32.328125 33.6875 34.8125 36.53125 \nQ 39.546875 41.84375 41.421875 45.53125 \nQ 43.3125 49.21875 43.3125 52.78125 \nQ 43.3125 58.59375 39.234375 62.25 \nQ 35.15625 65.921875 28.609375 65.921875 \nQ 23.96875 65.921875 18.8125 64.3125 \nQ 13.671875 62.703125 7.8125 59.421875 \nL 7.8125 69.390625 \nQ 13.765625 71.78125 18.9375 73 \nQ 24.125 74.21875 28.421875 74.21875 \nQ 39.75 74.21875 46.484375 68.546875 \nQ 53.21875 62.890625 53.21875 53.421875 \nQ 53.21875 48.921875 51.53125 44.890625 \nQ 49.859375 40.875 45.40625 35.40625 \nQ 44.1875 33.984375 37.640625 27.21875 \nQ 31.109375 20.453125 19.1875 8.296875 \nz\n\" id=\"DejaVuSans-50\"/>\n       <path d=\"M 10.6875 12.40625 \nL 21 12.40625 \nL 21 0 \nL 10.6875 0 \nz\n\" id=\"DejaVuSans-46\"/>\n       <path d=\"M 31.78125 66.40625 \nQ 24.171875 66.40625 20.328125 58.90625 \nQ 16.5 51.421875 16.5 36.375 \nQ 16.5 21.390625 20.328125 13.890625 \nQ 24.171875 6.390625 31.78125 6.390625 \nQ 39.453125 6.390625 43.28125 13.890625 \nQ 47.125 21.390625 47.125 36.375 \nQ 47.125 51.421875 43.28125 58.90625 \nQ 39.453125 66.40625 31.78125 66.40625 \nz\nM 31.78125 74.21875 \nQ 44.046875 74.21875 50.515625 64.515625 \nQ 56.984375 54.828125 56.984375 36.375 \nQ 56.984375 17.96875 50.515625 8.265625 \nQ 44.046875 -1.421875 31.78125 -1.421875 \nQ 19.53125 -1.421875 13.0625 8.265625 \nQ 6.59375 17.96875 6.59375 36.375 \nQ 6.59375 54.828125 13.0625 64.515625 \nQ 19.53125 74.21875 31.78125 74.21875 \nz\n\" id=\"DejaVuSans-48\"/>\n      </defs>\n      <g transform=\"translate(47.869744 239.238437)scale(0.1 -0.1)\">\n       <use xlink:href=\"#DejaVuSans-50\"/>\n       <use x=\"63.623047\" xlink:href=\"#DejaVuSans-46\"/>\n       <use x=\"95.410156\" xlink:href=\"#DejaVuSans-48\"/>\n      </g>\n     </g>\n    </g>\n    <g id=\"xtick_2\">\n     <g id=\"line2d_2\">\n      <g>\n       <use style=\"stroke:#000000;stroke-width:0.8;\" x=\"106.54858\" xlink:href=\"#ma8d00c639a\" y=\"224.64\"/>\n      </g>\n     </g>\n     <g id=\"text_2\">\n      <!-- 2.5 -->\n      <defs>\n       <path d=\"M 10.796875 72.90625 \nL 49.515625 72.90625 \nL 49.515625 64.59375 \nL 19.828125 64.59375 \nL 19.828125 46.734375 \nQ 21.96875 47.46875 24.109375 47.828125 \nQ 26.265625 48.1875 28.421875 48.1875 \nQ 40.625 48.1875 47.75 41.5 \nQ 54.890625 34.8125 54.890625 23.390625 \nQ 54.890625 11.625 47.5625 5.09375 \nQ 40.234375 -1.421875 26.90625 -1.421875 \nQ 22.3125 -1.421875 17.546875 -0.640625 \nQ 12.796875 0.140625 7.71875 1.703125 \nL 7.71875 11.625 \nQ 12.109375 9.234375 16.796875 8.0625 \nQ 21.484375 6.890625 26.703125 6.890625 \nQ 35.15625 6.890625 40.078125 11.328125 \nQ 45.015625 15.765625 45.015625 23.390625 \nQ 45.015625 31 40.078125 35.4375 \nQ 35.15625 39.890625 26.703125 39.890625 \nQ 22.75 39.890625 18.8125 39.015625 \nQ 14.890625 38.140625 10.796875 36.28125 \nz\n\" id=\"DejaVuSans-53\"/>\n      </defs>\n      <g transform=\"translate(98.597017 239.238437)scale(0.1 -0.1)\">\n       <use xlink:href=\"#DejaVuSans-50\"/>\n       <use x=\"63.623047\" xlink:href=\"#DejaVuSans-46\"/>\n       <use x=\"95.410156\" xlink:href=\"#DejaVuSans-53\"/>\n      </g>\n     </g>\n    </g>\n    <g id=\"xtick_3\">\n     <g id=\"line2d_3\">\n      <g>\n       <use style=\"stroke:#000000;stroke-width:0.8;\" x=\"157.275852\" xlink:href=\"#ma8d00c639a\" y=\"224.64\"/>\n      </g>\n     </g>\n     <g id=\"text_3\">\n      <!-- 3.0 -->\n      <defs>\n       <path d=\"M 40.578125 39.3125 \nQ 47.65625 37.796875 51.625 33 \nQ 55.609375 28.21875 55.609375 21.1875 \nQ 55.609375 10.40625 48.1875 4.484375 \nQ 40.765625 -1.421875 27.09375 -1.421875 \nQ 22.515625 -1.421875 17.65625 -0.515625 \nQ 12.796875 0.390625 7.625 2.203125 \nL 7.625 11.71875 \nQ 11.71875 9.328125 16.59375 8.109375 \nQ 21.484375 6.890625 26.8125 6.890625 \nQ 36.078125 6.890625 40.9375 10.546875 \nQ 45.796875 14.203125 45.796875 21.1875 \nQ 45.796875 27.640625 41.28125 31.265625 \nQ 36.765625 34.90625 28.71875 34.90625 \nL 20.21875 34.90625 \nL 20.21875 43.015625 \nL 29.109375 43.015625 \nQ 36.375 43.015625 40.234375 45.921875 \nQ 44.09375 48.828125 44.09375 54.296875 \nQ 44.09375 59.90625 40.109375 62.90625 \nQ 36.140625 65.921875 28.71875 65.921875 \nQ 24.65625 65.921875 20.015625 65.03125 \nQ 15.375 64.15625 9.8125 62.3125 \nL 9.8125 71.09375 \nQ 15.4375 72.65625 20.34375 73.4375 \nQ 25.25 74.21875 29.59375 74.21875 \nQ 40.828125 74.21875 47.359375 69.109375 \nQ 53.90625 64.015625 53.90625 55.328125 \nQ 53.90625 49.265625 50.4375 45.09375 \nQ 46.96875 40.921875 40.578125 39.3125 \nz\n\" id=\"DejaVuSans-51\"/>\n      </defs>\n      <g transform=\"translate(149.32429 239.238437)scale(0.1 -0.1)\">\n       <use xlink:href=\"#DejaVuSans-51\"/>\n       <use x=\"63.623047\" xlink:href=\"#DejaVuSans-46\"/>\n       <use x=\"95.410156\" xlink:href=\"#DejaVuSans-48\"/>\n      </g>\n     </g>\n    </g>\n    <g id=\"xtick_4\">\n     <g id=\"line2d_4\">\n      <g>\n       <use style=\"stroke:#000000;stroke-width:0.8;\" x=\"208.003125\" xlink:href=\"#ma8d00c639a\" y=\"224.64\"/>\n      </g>\n     </g>\n     <g id=\"text_4\">\n      <!-- 3.5 -->\n      <g transform=\"translate(200.051562 239.238437)scale(0.1 -0.1)\">\n       <use xlink:href=\"#DejaVuSans-51\"/>\n       <use x=\"63.623047\" xlink:href=\"#DejaVuSans-46\"/>\n       <use x=\"95.410156\" xlink:href=\"#DejaVuSans-53\"/>\n      </g>\n     </g>\n    </g>\n    <g id=\"xtick_5\">\n     <g id=\"line2d_5\">\n      <g>\n       <use style=\"stroke:#000000;stroke-width:0.8;\" x=\"258.730398\" xlink:href=\"#ma8d00c639a\" y=\"224.64\"/>\n      </g>\n     </g>\n     <g id=\"text_5\">\n      <!-- 4.0 -->\n      <defs>\n       <path d=\"M 37.796875 64.3125 \nL 12.890625 25.390625 \nL 37.796875 25.390625 \nz\nM 35.203125 72.90625 \nL 47.609375 72.90625 \nL 47.609375 25.390625 \nL 58.015625 25.390625 \nL 58.015625 17.1875 \nL 47.609375 17.1875 \nL 47.609375 0 \nL 37.796875 0 \nL 37.796875 17.1875 \nL 4.890625 17.1875 \nL 4.890625 26.703125 \nz\n\" id=\"DejaVuSans-52\"/>\n      </defs>\n      <g transform=\"translate(250.778835 239.238437)scale(0.1 -0.1)\">\n       <use xlink:href=\"#DejaVuSans-52\"/>\n       <use x=\"63.623047\" xlink:href=\"#DejaVuSans-46\"/>\n       <use x=\"95.410156\" xlink:href=\"#DejaVuSans-48\"/>\n      </g>\n     </g>\n    </g>\n    <g id=\"xtick_6\">\n     <g id=\"line2d_6\">\n      <g>\n       <use style=\"stroke:#000000;stroke-width:0.8;\" x=\"309.45767\" xlink:href=\"#ma8d00c639a\" y=\"224.64\"/>\n      </g>\n     </g>\n     <g id=\"text_6\">\n      <!-- 4.5 -->\n      <g transform=\"translate(301.506108 239.238437)scale(0.1 -0.1)\">\n       <use xlink:href=\"#DejaVuSans-52\"/>\n       <use x=\"63.623047\" xlink:href=\"#DejaVuSans-46\"/>\n       <use x=\"95.410156\" xlink:href=\"#DejaVuSans-53\"/>\n      </g>\n     </g>\n    </g>\n    <g id=\"xtick_7\">\n     <g id=\"line2d_7\">\n      <g>\n       <use style=\"stroke:#000000;stroke-width:0.8;\" x=\"360.184943\" xlink:href=\"#ma8d00c639a\" y=\"224.64\"/>\n      </g>\n     </g>\n     <g id=\"text_7\">\n      <!-- 5.0 -->\n      <g transform=\"translate(352.233381 239.238437)scale(0.1 -0.1)\">\n       <use xlink:href=\"#DejaVuSans-53\"/>\n       <use x=\"63.623047\" xlink:href=\"#DejaVuSans-46\"/>\n       <use x=\"95.410156\" xlink:href=\"#DejaVuSans-48\"/>\n      </g>\n     </g>\n    </g>\n   </g>\n   <g id=\"matplotlib.axis_2\">\n    <g id=\"ytick_1\">\n     <g id=\"line2d_8\">\n      <defs>\n       <path d=\"M 0 0 \nL -3.5 0 \n\" id=\"m553328e8eb\" style=\"stroke:#000000;stroke-width:0.8;\"/>\n      </defs>\n      <g>\n       <use style=\"stroke:#000000;stroke-width:0.8;\" x=\"40.603125\" xlink:href=\"#m553328e8eb\" y=\"224.64\"/>\n      </g>\n     </g>\n     <g id=\"text_8\">\n      <!-- 0 -->\n      <g transform=\"translate(27.240625 228.439219)scale(0.1 -0.1)\">\n       <use xlink:href=\"#DejaVuSans-48\"/>\n      </g>\n     </g>\n    </g>\n    <g id=\"ytick_2\">\n     <g id=\"line2d_9\">\n      <g>\n       <use style=\"stroke:#000000;stroke-width:0.8;\" x=\"40.603125\" xlink:href=\"#m553328e8eb\" y=\"198.090549\"/>\n      </g>\n     </g>\n     <g id=\"text_9\">\n      <!-- 5 -->\n      <g transform=\"translate(27.240625 201.889768)scale(0.1 -0.1)\">\n       <use xlink:href=\"#DejaVuSans-53\"/>\n      </g>\n     </g>\n    </g>\n    <g id=\"ytick_3\">\n     <g id=\"line2d_10\">\n      <g>\n       <use style=\"stroke:#000000;stroke-width:0.8;\" x=\"40.603125\" xlink:href=\"#m553328e8eb\" y=\"171.541099\"/>\n      </g>\n     </g>\n     <g id=\"text_10\">\n      <!-- 10 -->\n      <defs>\n       <path d=\"M 12.40625 8.296875 \nL 28.515625 8.296875 \nL 28.515625 63.921875 \nL 10.984375 60.40625 \nL 10.984375 69.390625 \nL 28.421875 72.90625 \nL 38.28125 72.90625 \nL 38.28125 8.296875 \nL 54.390625 8.296875 \nL 54.390625 0 \nL 12.40625 0 \nz\n\" id=\"DejaVuSans-49\"/>\n      </defs>\n      <g transform=\"translate(20.878125 175.340318)scale(0.1 -0.1)\">\n       <use xlink:href=\"#DejaVuSans-49\"/>\n       <use x=\"63.623047\" xlink:href=\"#DejaVuSans-48\"/>\n      </g>\n     </g>\n    </g>\n    <g id=\"ytick_4\">\n     <g id=\"line2d_11\">\n      <g>\n       <use style=\"stroke:#000000;stroke-width:0.8;\" x=\"40.603125\" xlink:href=\"#m553328e8eb\" y=\"144.991648\"/>\n      </g>\n     </g>\n     <g id=\"text_11\">\n      <!-- 15 -->\n      <g transform=\"translate(20.878125 148.790867)scale(0.1 -0.1)\">\n       <use xlink:href=\"#DejaVuSans-49\"/>\n       <use x=\"63.623047\" xlink:href=\"#DejaVuSans-53\"/>\n      </g>\n     </g>\n    </g>\n    <g id=\"ytick_5\">\n     <g id=\"line2d_12\">\n      <g>\n       <use style=\"stroke:#000000;stroke-width:0.8;\" x=\"40.603125\" xlink:href=\"#m553328e8eb\" y=\"118.442198\"/>\n      </g>\n     </g>\n     <g id=\"text_12\">\n      <!-- 20 -->\n      <g transform=\"translate(20.878125 122.241417)scale(0.1 -0.1)\">\n       <use xlink:href=\"#DejaVuSans-50\"/>\n       <use x=\"63.623047\" xlink:href=\"#DejaVuSans-48\"/>\n      </g>\n     </g>\n    </g>\n    <g id=\"ytick_6\">\n     <g id=\"line2d_13\">\n      <g>\n       <use style=\"stroke:#000000;stroke-width:0.8;\" x=\"40.603125\" xlink:href=\"#m553328e8eb\" y=\"91.892747\"/>\n      </g>\n     </g>\n     <g id=\"text_13\">\n      <!-- 25 -->\n      <g transform=\"translate(20.878125 95.691966)scale(0.1 -0.1)\">\n       <use xlink:href=\"#DejaVuSans-50\"/>\n       <use x=\"63.623047\" xlink:href=\"#DejaVuSans-53\"/>\n      </g>\n     </g>\n    </g>\n    <g id=\"ytick_7\">\n     <g id=\"line2d_14\">\n      <g>\n       <use style=\"stroke:#000000;stroke-width:0.8;\" x=\"40.603125\" xlink:href=\"#m553328e8eb\" y=\"65.343297\"/>\n      </g>\n     </g>\n     <g id=\"text_14\">\n      <!-- 30 -->\n      <g transform=\"translate(20.878125 69.142515)scale(0.1 -0.1)\">\n       <use xlink:href=\"#DejaVuSans-51\"/>\n       <use x=\"63.623047\" xlink:href=\"#DejaVuSans-48\"/>\n      </g>\n     </g>\n    </g>\n    <g id=\"ytick_8\">\n     <g id=\"line2d_15\">\n      <g>\n       <use style=\"stroke:#000000;stroke-width:0.8;\" x=\"40.603125\" xlink:href=\"#m553328e8eb\" y=\"38.793846\"/>\n      </g>\n     </g>\n     <g id=\"text_15\">\n      <!-- 35 -->\n      <g transform=\"translate(20.878125 42.593065)scale(0.1 -0.1)\">\n       <use xlink:href=\"#DejaVuSans-51\"/>\n       <use x=\"63.623047\" xlink:href=\"#DejaVuSans-53\"/>\n      </g>\n     </g>\n    </g>\n    <g id=\"ytick_9\">\n     <g id=\"line2d_16\">\n      <g>\n       <use style=\"stroke:#000000;stroke-width:0.8;\" x=\"40.603125\" xlink:href=\"#m553328e8eb\" y=\"12.244396\"/>\n      </g>\n     </g>\n     <g id=\"text_16\">\n      <!-- 40 -->\n      <g transform=\"translate(20.878125 16.043614)scale(0.1 -0.1)\">\n       <use xlink:href=\"#DejaVuSans-52\"/>\n       <use x=\"63.623047\" xlink:href=\"#DejaVuSans-48\"/>\n      </g>\n     </g>\n    </g>\n    <g id=\"text_17\">\n     <!-- Frequency -->\n     <defs>\n      <path d=\"M 9.8125 72.90625 \nL 51.703125 72.90625 \nL 51.703125 64.59375 \nL 19.671875 64.59375 \nL 19.671875 43.109375 \nL 48.578125 43.109375 \nL 48.578125 34.8125 \nL 19.671875 34.8125 \nL 19.671875 0 \nL 9.8125 0 \nz\n\" id=\"DejaVuSans-70\"/>\n      <path d=\"M 41.109375 46.296875 \nQ 39.59375 47.171875 37.8125 47.578125 \nQ 36.03125 48 33.890625 48 \nQ 26.265625 48 22.1875 43.046875 \nQ 18.109375 38.09375 18.109375 28.8125 \nL 18.109375 0 \nL 9.078125 0 \nL 9.078125 54.6875 \nL 18.109375 54.6875 \nL 18.109375 46.1875 \nQ 20.953125 51.171875 25.484375 53.578125 \nQ 30.03125 56 36.53125 56 \nQ 37.453125 56 38.578125 55.875 \nQ 39.703125 55.765625 41.0625 55.515625 \nz\n\" id=\"DejaVuSans-114\"/>\n      <path d=\"M 56.203125 29.59375 \nL 56.203125 25.203125 \nL 14.890625 25.203125 \nQ 15.484375 15.921875 20.484375 11.0625 \nQ 25.484375 6.203125 34.421875 6.203125 \nQ 39.59375 6.203125 44.453125 7.46875 \nQ 49.3125 8.734375 54.109375 11.28125 \nL 54.109375 2.78125 \nQ 49.265625 0.734375 44.1875 -0.34375 \nQ 39.109375 -1.421875 33.890625 -1.421875 \nQ 20.796875 -1.421875 13.15625 6.1875 \nQ 5.515625 13.8125 5.515625 26.8125 \nQ 5.515625 40.234375 12.765625 48.109375 \nQ 20.015625 56 32.328125 56 \nQ 43.359375 56 49.78125 48.890625 \nQ 56.203125 41.796875 56.203125 29.59375 \nz\nM 47.21875 32.234375 \nQ 47.125 39.59375 43.09375 43.984375 \nQ 39.0625 48.390625 32.421875 48.390625 \nQ 24.90625 48.390625 20.390625 44.140625 \nQ 15.875 39.890625 15.1875 32.171875 \nz\n\" id=\"DejaVuSans-101\"/>\n      <path d=\"M 14.796875 27.296875 \nQ 14.796875 17.390625 18.875 11.75 \nQ 22.953125 6.109375 30.078125 6.109375 \nQ 37.203125 6.109375 41.296875 11.75 \nQ 45.40625 17.390625 45.40625 27.296875 \nQ 45.40625 37.203125 41.296875 42.84375 \nQ 37.203125 48.484375 30.078125 48.484375 \nQ 22.953125 48.484375 18.875 42.84375 \nQ 14.796875 37.203125 14.796875 27.296875 \nz\nM 45.40625 8.203125 \nQ 42.578125 3.328125 38.25 0.953125 \nQ 33.9375 -1.421875 27.875 -1.421875 \nQ 17.96875 -1.421875 11.734375 6.484375 \nQ 5.515625 14.40625 5.515625 27.296875 \nQ 5.515625 40.1875 11.734375 48.09375 \nQ 17.96875 56 27.875 56 \nQ 33.9375 56 38.25 53.625 \nQ 42.578125 51.265625 45.40625 46.390625 \nL 45.40625 54.6875 \nL 54.390625 54.6875 \nL 54.390625 -20.796875 \nL 45.40625 -20.796875 \nz\n\" id=\"DejaVuSans-113\"/>\n      <path d=\"M 8.5 21.578125 \nL 8.5 54.6875 \nL 17.484375 54.6875 \nL 17.484375 21.921875 \nQ 17.484375 14.15625 20.5 10.265625 \nQ 23.53125 6.390625 29.59375 6.390625 \nQ 36.859375 6.390625 41.078125 11.03125 \nQ 45.3125 15.671875 45.3125 23.6875 \nL 45.3125 54.6875 \nL 54.296875 54.6875 \nL 54.296875 0 \nL 45.3125 0 \nL 45.3125 8.40625 \nQ 42.046875 3.421875 37.71875 1 \nQ 33.40625 -1.421875 27.6875 -1.421875 \nQ 18.265625 -1.421875 13.375 4.4375 \nQ 8.5 10.296875 8.5 21.578125 \nz\nM 31.109375 56 \nz\n\" id=\"DejaVuSans-117\"/>\n      <path d=\"M 54.890625 33.015625 \nL 54.890625 0 \nL 45.90625 0 \nL 45.90625 32.71875 \nQ 45.90625 40.484375 42.875 44.328125 \nQ 39.84375 48.1875 33.796875 48.1875 \nQ 26.515625 48.1875 22.3125 43.546875 \nQ 18.109375 38.921875 18.109375 30.90625 \nL 18.109375 0 \nL 9.078125 0 \nL 9.078125 54.6875 \nL 18.109375 54.6875 \nL 18.109375 46.1875 \nQ 21.34375 51.125 25.703125 53.5625 \nQ 30.078125 56 35.796875 56 \nQ 45.21875 56 50.046875 50.171875 \nQ 54.890625 44.34375 54.890625 33.015625 \nz\n\" id=\"DejaVuSans-110\"/>\n      <path d=\"M 48.78125 52.59375 \nL 48.78125 44.1875 \nQ 44.96875 46.296875 41.140625 47.34375 \nQ 37.3125 48.390625 33.40625 48.390625 \nQ 24.65625 48.390625 19.8125 42.84375 \nQ 14.984375 37.3125 14.984375 27.296875 \nQ 14.984375 17.28125 19.8125 11.734375 \nQ 24.65625 6.203125 33.40625 6.203125 \nQ 37.3125 6.203125 41.140625 7.25 \nQ 44.96875 8.296875 48.78125 10.40625 \nL 48.78125 2.09375 \nQ 45.015625 0.34375 40.984375 -0.53125 \nQ 36.96875 -1.421875 32.421875 -1.421875 \nQ 20.0625 -1.421875 12.78125 6.34375 \nQ 5.515625 14.109375 5.515625 27.296875 \nQ 5.515625 40.671875 12.859375 48.328125 \nQ 20.21875 56 33.015625 56 \nQ 37.15625 56 41.109375 55.140625 \nQ 45.0625 54.296875 48.78125 52.59375 \nz\n\" id=\"DejaVuSans-99\"/>\n      <path d=\"M 32.171875 -5.078125 \nQ 28.375 -14.84375 24.75 -17.8125 \nQ 21.140625 -20.796875 15.09375 -20.796875 \nL 7.90625 -20.796875 \nL 7.90625 -13.28125 \nL 13.1875 -13.28125 \nQ 16.890625 -13.28125 18.9375 -11.515625 \nQ 21 -9.765625 23.484375 -3.21875 \nL 25.09375 0.875 \nL 2.984375 54.6875 \nL 12.5 54.6875 \nL 29.59375 11.921875 \nL 46.6875 54.6875 \nL 56.203125 54.6875 \nz\n\" id=\"DejaVuSans-121\"/>\n     </defs>\n     <g transform=\"translate(14.798438 141.749687)rotate(-90)scale(0.1 -0.1)\">\n      <use xlink:href=\"#DejaVuSans-70\"/>\n      <use x=\"50.269531\" xlink:href=\"#DejaVuSans-114\"/>\n      <use x=\"89.132812\" xlink:href=\"#DejaVuSans-101\"/>\n      <use x=\"150.65625\" xlink:href=\"#DejaVuSans-113\"/>\n      <use x=\"214.132812\" xlink:href=\"#DejaVuSans-117\"/>\n      <use x=\"277.511719\" xlink:href=\"#DejaVuSans-101\"/>\n      <use x=\"339.035156\" xlink:href=\"#DejaVuSans-110\"/>\n      <use x=\"402.414062\" xlink:href=\"#DejaVuSans-99\"/>\n      <use x=\"457.394531\" xlink:href=\"#DejaVuSans-121\"/>\n     </g>\n    </g>\n   </g>\n   <g id=\"patch_43\">\n    <path d=\"M 40.603125 224.64 \nL 40.603125 7.2 \n\" style=\"fill:none;stroke:#000000;stroke-linecap:square;stroke-linejoin:miter;stroke-width:0.8;\"/>\n   </g>\n   <g id=\"patch_44\">\n    <path d=\"M 375.403125 224.64 \nL 375.403125 7.2 \n\" style=\"fill:none;stroke:#000000;stroke-linecap:square;stroke-linejoin:miter;stroke-width:0.8;\"/>\n   </g>\n   <g id=\"patch_45\">\n    <path d=\"M 40.603125 224.64 \nL 375.403125 224.64 \n\" style=\"fill:none;stroke:#000000;stroke-linecap:square;stroke-linejoin:miter;stroke-width:0.8;\"/>\n   </g>\n   <g id=\"patch_46\">\n    <path d=\"M 40.603125 7.2 \nL 375.403125 7.2 \n\" style=\"fill:none;stroke:#000000;stroke-linecap:square;stroke-linejoin:miter;stroke-width:0.8;\"/>\n   </g>\n  </g>\n </g>\n <defs>\n  <clipPath id=\"pd038c1ede2\">\n   <rect height=\"217.44\" width=\"334.8\" x=\"40.603125\" y=\"7.2\"/>\n  </clipPath>\n </defs>\n</svg>\n",
      "image/png": "[encoded data removed]"
     },
     "metadata": {
      "needs_background": "light"
     }
    }
   ],
   "source": [
    "ratings['rating'].plot.hist(bins=40);"
   ]
  },
  {
   "cell_type": "code",
   "execution_count": 139,
   "metadata": {},
   "outputs": [
    {
     "output_type": "execute_result",
     "data": {
      "text/plain": "user_id\n5     39\n6     50\n7     50\n8     47\n9     45\n10     5\n11     2\n12     1\n13     1\n14     1\nName: rating, dtype: int64"
     },
     "metadata": {},
     "execution_count": 139
    }
   ],
   "source": [
    "user_rating = books_with_rating.groupby('user_id')['rating'].count().clip(upper=50)\n",
    "user_rating"
   ]
  },
  {
   "cell_type": "code",
   "execution_count": 140,
   "metadata": {},
   "outputs": [
    {
     "output_type": "display_data",
     "data": {
      "text/plain": "<Figure size 432x288 with 1 Axes>",
      "image/svg+xml": "<?xml version=\"1.0\" encoding=\"utf-8\" standalone=\"no\"?>\n<!DOCTYPE svg PUBLIC \"-//W3C//DTD SVG 1.1//EN\"\n  \"http://www.w3.org/Graphics/SVG/1.1/DTD/svg11.dtd\">\n<!-- Created with matplotlib (https://matplotlib.org/) -->\n<svg height=\"248.518125pt\" version=\"1.1\" viewBox=\"0 0 385.78125 248.518125\" width=\"385.78125pt\" xmlns=\"http://www.w3.org/2000/svg\" xmlns:xlink=\"http://www.w3.org/1999/xlink\">\n <defs>\n  <style type=\"text/css\">\n*{stroke-linecap:butt;stroke-linejoin:round;}\n  </style>\n </defs>\n <g id=\"figure_1\">\n  <g id=\"patch_1\">\n   <path d=\"M 0 248.518125 \nL 385.78125 248.518125 \nL 385.78125 0 \nL 0 0 \nz\n\" style=\"fill:none;\"/>\n  </g>\n  <g id=\"axes_1\">\n   <g id=\"patch_2\">\n    <path d=\"M 43.78125 224.64 \nL 378.58125 224.64 \nL 378.58125 7.2 \nL 43.78125 7.2 \nz\n\" style=\"fill:#ffffff;\"/>\n   </g>\n   <g id=\"patch_3\">\n    <path clip-path=\"url(#pb0c43828d0)\" d=\"M 58.999432 224.64 \nL 66.608523 224.64 \nL 66.608523 17.554286 \nL 58.999432 17.554286 \nz\n\" style=\"fill:#1f77b4;\"/>\n   </g>\n   <g id=\"patch_4\">\n    <path clip-path=\"url(#pb0c43828d0)\" d=\"M 66.608523 224.64 \nL 74.217614 224.64 \nL 74.217614 224.64 \nL 66.608523 224.64 \nz\n\" style=\"fill:#1f77b4;\"/>\n   </g>\n   <g id=\"patch_5\">\n    <path clip-path=\"url(#pb0c43828d0)\" d=\"M 74.217614 224.64 \nL 81.826705 224.64 \nL 81.826705 224.64 \nL 74.217614 224.64 \nz\n\" style=\"fill:#1f77b4;\"/>\n   </g>\n   <g id=\"patch_6\">\n    <path clip-path=\"url(#pb0c43828d0)\" d=\"M 81.826705 224.64 \nL 89.435795 224.64 \nL 89.435795 172.868571 \nL 81.826705 172.868571 \nz\n\" style=\"fill:#1f77b4;\"/>\n   </g>\n   <g id=\"patch_7\">\n    <path clip-path=\"url(#pb0c43828d0)\" d=\"M 89.435795 224.64 \nL 97.044886 224.64 \nL 97.044886 224.64 \nL 89.435795 224.64 \nz\n\" style=\"fill:#1f77b4;\"/>\n   </g>\n   <g id=\"patch_8\">\n    <path clip-path=\"url(#pb0c43828d0)\" d=\"M 97.044886 224.64 \nL 104.653977 224.64 \nL 104.653977 224.64 \nL 97.044886 224.64 \nz\n\" style=\"fill:#1f77b4;\"/>\n   </g>\n   <g id=\"patch_9\">\n    <path clip-path=\"url(#pb0c43828d0)\" d=\"M 104.653977 224.64 \nL 112.263068 224.64 \nL 112.263068 224.64 \nL 104.653977 224.64 \nz\n\" style=\"fill:#1f77b4;\"/>\n   </g>\n   <g id=\"patch_10\">\n    <path clip-path=\"url(#pb0c43828d0)\" d=\"M 112.263068 224.64 \nL 119.872159 224.64 \nL 119.872159 224.64 \nL 112.263068 224.64 \nz\n\" style=\"fill:#1f77b4;\"/>\n   </g>\n   <g id=\"patch_11\">\n    <path clip-path=\"url(#pb0c43828d0)\" d=\"M 119.872159 224.64 \nL 127.48125 224.64 \nL 127.48125 224.64 \nL 119.872159 224.64 \nz\n\" style=\"fill:#1f77b4;\"/>\n   </g>\n   <g id=\"patch_12\">\n    <path clip-path=\"url(#pb0c43828d0)\" d=\"M 127.48125 224.64 \nL 135.090341 224.64 \nL 135.090341 224.64 \nL 127.48125 224.64 \nz\n\" style=\"fill:#1f77b4;\"/>\n   </g>\n   <g id=\"patch_13\">\n    <path clip-path=\"url(#pb0c43828d0)\" d=\"M 135.090341 224.64 \nL 142.699432 224.64 \nL 142.699432 224.64 \nL 135.090341 224.64 \nz\n\" style=\"fill:#1f77b4;\"/>\n   </g>\n   <g id=\"patch_14\">\n    <path clip-path=\"url(#pb0c43828d0)\" d=\"M 142.699432 224.64 \nL 150.308523 224.64 \nL 150.308523 224.64 \nL 142.699432 224.64 \nz\n\" style=\"fill:#1f77b4;\"/>\n   </g>\n   <g id=\"patch_15\">\n    <path clip-path=\"url(#pb0c43828d0)\" d=\"M 150.308523 224.64 \nL 157.917614 224.64 \nL 157.917614 224.64 \nL 150.308523 224.64 \nz\n\" style=\"fill:#1f77b4;\"/>\n   </g>\n   <g id=\"patch_16\">\n    <path clip-path=\"url(#pb0c43828d0)\" d=\"M 157.917614 224.64 \nL 165.526705 224.64 \nL 165.526705 224.64 \nL 157.917614 224.64 \nz\n\" style=\"fill:#1f77b4;\"/>\n   </g>\n   <g id=\"patch_17\">\n    <path clip-path=\"url(#pb0c43828d0)\" d=\"M 165.526705 224.64 \nL 173.135795 224.64 \nL 173.135795 224.64 \nL 165.526705 224.64 \nz\n\" style=\"fill:#1f77b4;\"/>\n   </g>\n   <g id=\"patch_18\">\n    <path clip-path=\"url(#pb0c43828d0)\" d=\"M 173.135795 224.64 \nL 180.744886 224.64 \nL 180.744886 224.64 \nL 173.135795 224.64 \nz\n\" style=\"fill:#1f77b4;\"/>\n   </g>\n   <g id=\"patch_19\">\n    <path clip-path=\"url(#pb0c43828d0)\" d=\"M 180.744886 224.64 \nL 188.353977 224.64 \nL 188.353977 224.64 \nL 180.744886 224.64 \nz\n\" style=\"fill:#1f77b4;\"/>\n   </g>\n   <g id=\"patch_20\">\n    <path clip-path=\"url(#pb0c43828d0)\" d=\"M 188.353977 224.64 \nL 195.963068 224.64 \nL 195.963068 224.64 \nL 188.353977 224.64 \nz\n\" style=\"fill:#1f77b4;\"/>\n   </g>\n   <g id=\"patch_21\">\n    <path clip-path=\"url(#pb0c43828d0)\" d=\"M 195.963068 224.64 \nL 203.572159 224.64 \nL 203.572159 224.64 \nL 195.963068 224.64 \nz\n\" style=\"fill:#1f77b4;\"/>\n   </g>\n   <g id=\"patch_22\">\n    <path clip-path=\"url(#pb0c43828d0)\" d=\"M 203.572159 224.64 \nL 211.18125 224.64 \nL 211.18125 224.64 \nL 203.572159 224.64 \nz\n\" style=\"fill:#1f77b4;\"/>\n   </g>\n   <g id=\"patch_23\">\n    <path clip-path=\"url(#pb0c43828d0)\" d=\"M 211.18125 224.64 \nL 218.790341 224.64 \nL 218.790341 224.64 \nL 211.18125 224.64 \nz\n\" style=\"fill:#1f77b4;\"/>\n   </g>\n   <g id=\"patch_24\">\n    <path clip-path=\"url(#pb0c43828d0)\" d=\"M 218.790341 224.64 \nL 226.399432 224.64 \nL 226.399432 224.64 \nL 218.790341 224.64 \nz\n\" style=\"fill:#1f77b4;\"/>\n   </g>\n   <g id=\"patch_25\">\n    <path clip-path=\"url(#pb0c43828d0)\" d=\"M 226.399432 224.64 \nL 234.008523 224.64 \nL 234.008523 224.64 \nL 226.399432 224.64 \nz\n\" style=\"fill:#1f77b4;\"/>\n   </g>\n   <g id=\"patch_26\">\n    <path clip-path=\"url(#pb0c43828d0)\" d=\"M 234.008523 224.64 \nL 241.617614 224.64 \nL 241.617614 224.64 \nL 234.008523 224.64 \nz\n\" style=\"fill:#1f77b4;\"/>\n   </g>\n   <g id=\"patch_27\">\n    <path clip-path=\"url(#pb0c43828d0)\" d=\"M 241.617614 224.64 \nL 249.226705 224.64 \nL 249.226705 224.64 \nL 241.617614 224.64 \nz\n\" style=\"fill:#1f77b4;\"/>\n   </g>\n   <g id=\"patch_28\">\n    <path clip-path=\"url(#pb0c43828d0)\" d=\"M 249.226705 224.64 \nL 256.835795 224.64 \nL 256.835795 224.64 \nL 249.226705 224.64 \nz\n\" style=\"fill:#1f77b4;\"/>\n   </g>\n   <g id=\"patch_29\">\n    <path clip-path=\"url(#pb0c43828d0)\" d=\"M 256.835795 224.64 \nL 264.444886 224.64 \nL 264.444886 224.64 \nL 256.835795 224.64 \nz\n\" style=\"fill:#1f77b4;\"/>\n   </g>\n   <g id=\"patch_30\">\n    <path clip-path=\"url(#pb0c43828d0)\" d=\"M 264.444886 224.64 \nL 272.053977 224.64 \nL 272.053977 224.64 \nL 264.444886 224.64 \nz\n\" style=\"fill:#1f77b4;\"/>\n   </g>\n   <g id=\"patch_31\">\n    <path clip-path=\"url(#pb0c43828d0)\" d=\"M 272.053977 224.64 \nL 279.663068 224.64 \nL 279.663068 224.64 \nL 272.053977 224.64 \nz\n\" style=\"fill:#1f77b4;\"/>\n   </g>\n   <g id=\"patch_32\">\n    <path clip-path=\"url(#pb0c43828d0)\" d=\"M 279.663068 224.64 \nL 287.272159 224.64 \nL 287.272159 224.64 \nL 279.663068 224.64 \nz\n\" style=\"fill:#1f77b4;\"/>\n   </g>\n   <g id=\"patch_33\">\n    <path clip-path=\"url(#pb0c43828d0)\" d=\"M 287.272159 224.64 \nL 294.88125 224.64 \nL 294.88125 224.64 \nL 287.272159 224.64 \nz\n\" style=\"fill:#1f77b4;\"/>\n   </g>\n   <g id=\"patch_34\">\n    <path clip-path=\"url(#pb0c43828d0)\" d=\"M 294.88125 224.64 \nL 302.490341 224.64 \nL 302.490341 172.868571 \nL 294.88125 172.868571 \nz\n\" style=\"fill:#1f77b4;\"/>\n   </g>\n   <g id=\"patch_35\">\n    <path clip-path=\"url(#pb0c43828d0)\" d=\"M 302.490341 224.64 \nL 310.099432 224.64 \nL 310.099432 224.64 \nL 302.490341 224.64 \nz\n\" style=\"fill:#1f77b4;\"/>\n   </g>\n   <g id=\"patch_36\">\n    <path clip-path=\"url(#pb0c43828d0)\" d=\"M 310.099432 224.64 \nL 317.708523 224.64 \nL 317.708523 224.64 \nL 310.099432 224.64 \nz\n\" style=\"fill:#1f77b4;\"/>\n   </g>\n   <g id=\"patch_37\">\n    <path clip-path=\"url(#pb0c43828d0)\" d=\"M 317.708523 224.64 \nL 325.317614 224.64 \nL 325.317614 224.64 \nL 317.708523 224.64 \nz\n\" style=\"fill:#1f77b4;\"/>\n   </g>\n   <g id=\"patch_38\">\n    <path clip-path=\"url(#pb0c43828d0)\" d=\"M 325.317614 224.64 \nL 332.926705 224.64 \nL 332.926705 172.868571 \nL 325.317614 172.868571 \nz\n\" style=\"fill:#1f77b4;\"/>\n   </g>\n   <g id=\"patch_39\">\n    <path clip-path=\"url(#pb0c43828d0)\" d=\"M 332.926705 224.64 \nL 340.535795 224.64 \nL 340.535795 224.64 \nL 332.926705 224.64 \nz\n\" style=\"fill:#1f77b4;\"/>\n   </g>\n   <g id=\"patch_40\">\n    <path clip-path=\"url(#pb0c43828d0)\" d=\"M 340.535795 224.64 \nL 348.144886 224.64 \nL 348.144886 172.868571 \nL 340.535795 172.868571 \nz\n\" style=\"fill:#1f77b4;\"/>\n   </g>\n   <g id=\"patch_41\">\n    <path clip-path=\"url(#pb0c43828d0)\" d=\"M 348.144886 224.64 \nL 355.753977 224.64 \nL 355.753977 224.64 \nL 348.144886 224.64 \nz\n\" style=\"fill:#1f77b4;\"/>\n   </g>\n   <g id=\"patch_42\">\n    <path clip-path=\"url(#pb0c43828d0)\" d=\"M 355.753977 224.64 \nL 363.363068 224.64 \nL 363.363068 121.097143 \nL 355.753977 121.097143 \nz\n\" style=\"fill:#1f77b4;\"/>\n   </g>\n   <g id=\"matplotlib.axis_1\">\n    <g id=\"xtick_1\">\n     <g id=\"line2d_1\">\n      <defs>\n       <path d=\"M 0 0 \nL 0 3.5 \n\" id=\"me87f4c698e\" style=\"stroke:#000000;stroke-width:0.8;\"/>\n      </defs>\n      <g>\n       <use style=\"stroke:#000000;stroke-width:0.8;\" x=\"52.787929\" xlink:href=\"#me87f4c698e\" y=\"224.64\"/>\n      </g>\n     </g>\n     <g id=\"text_1\">\n      <!-- 0 -->\n      <defs>\n       <path d=\"M 31.78125 66.40625 \nQ 24.171875 66.40625 20.328125 58.90625 \nQ 16.5 51.421875 16.5 36.375 \nQ 16.5 21.390625 20.328125 13.890625 \nQ 24.171875 6.390625 31.78125 6.390625 \nQ 39.453125 6.390625 43.28125 13.890625 \nQ 47.125 21.390625 47.125 36.375 \nQ 47.125 51.421875 43.28125 58.90625 \nQ 39.453125 66.40625 31.78125 66.40625 \nz\nM 31.78125 74.21875 \nQ 44.046875 74.21875 50.515625 64.515625 \nQ 56.984375 54.828125 56.984375 36.375 \nQ 56.984375 17.96875 50.515625 8.265625 \nQ 44.046875 -1.421875 31.78125 -1.421875 \nQ 19.53125 -1.421875 13.0625 8.265625 \nQ 6.59375 17.96875 6.59375 36.375 \nQ 6.59375 54.828125 13.0625 64.515625 \nQ 19.53125 74.21875 31.78125 74.21875 \nz\n\" id=\"DejaVuSans-48\"/>\n      </defs>\n      <g transform=\"translate(49.606679 239.238437)scale(0.1 -0.1)\">\n       <use xlink:href=\"#DejaVuSans-48\"/>\n      </g>\n     </g>\n    </g>\n    <g id=\"xtick_2\">\n     <g id=\"line2d_2\">\n      <g>\n       <use style=\"stroke:#000000;stroke-width:0.8;\" x=\"114.902957\" xlink:href=\"#me87f4c698e\" y=\"224.64\"/>\n      </g>\n     </g>\n     <g id=\"text_2\">\n      <!-- 10 -->\n      <defs>\n       <path d=\"M 12.40625 8.296875 \nL 28.515625 8.296875 \nL 28.515625 63.921875 \nL 10.984375 60.40625 \nL 10.984375 69.390625 \nL 28.421875 72.90625 \nL 38.28125 72.90625 \nL 38.28125 8.296875 \nL 54.390625 8.296875 \nL 54.390625 0 \nL 12.40625 0 \nz\n\" id=\"DejaVuSans-49\"/>\n      </defs>\n      <g transform=\"translate(108.540457 239.238437)scale(0.1 -0.1)\">\n       <use xlink:href=\"#DejaVuSans-49\"/>\n       <use x=\"63.623047\" xlink:href=\"#DejaVuSans-48\"/>\n      </g>\n     </g>\n    </g>\n    <g id=\"xtick_3\">\n     <g id=\"line2d_3\">\n      <g>\n       <use style=\"stroke:#000000;stroke-width:0.8;\" x=\"177.017985\" xlink:href=\"#me87f4c698e\" y=\"224.64\"/>\n      </g>\n     </g>\n     <g id=\"text_3\">\n      <!-- 20 -->\n      <defs>\n       <path d=\"M 19.1875 8.296875 \nL 53.609375 8.296875 \nL 53.609375 0 \nL 7.328125 0 \nL 7.328125 8.296875 \nQ 12.9375 14.109375 22.625 23.890625 \nQ 32.328125 33.6875 34.8125 36.53125 \nQ 39.546875 41.84375 41.421875 45.53125 \nQ 43.3125 49.21875 43.3125 52.78125 \nQ 43.3125 58.59375 39.234375 62.25 \nQ 35.15625 65.921875 28.609375 65.921875 \nQ 23.96875 65.921875 18.8125 64.3125 \nQ 13.671875 62.703125 7.8125 59.421875 \nL 7.8125 69.390625 \nQ 13.765625 71.78125 18.9375 73 \nQ 24.125 74.21875 28.421875 74.21875 \nQ 39.75 74.21875 46.484375 68.546875 \nQ 53.21875 62.890625 53.21875 53.421875 \nQ 53.21875 48.921875 51.53125 44.890625 \nQ 49.859375 40.875 45.40625 35.40625 \nQ 44.1875 33.984375 37.640625 27.21875 \nQ 31.109375 20.453125 19.1875 8.296875 \nz\n\" id=\"DejaVuSans-50\"/>\n      </defs>\n      <g transform=\"translate(170.655485 239.238437)scale(0.1 -0.1)\">\n       <use xlink:href=\"#DejaVuSans-50\"/>\n       <use x=\"63.623047\" xlink:href=\"#DejaVuSans-48\"/>\n      </g>\n     </g>\n    </g>\n    <g id=\"xtick_4\">\n     <g id=\"line2d_4\">\n      <g>\n       <use style=\"stroke:#000000;stroke-width:0.8;\" x=\"239.133013\" xlink:href=\"#me87f4c698e\" y=\"224.64\"/>\n      </g>\n     </g>\n     <g id=\"text_4\">\n      <!-- 30 -->\n      <defs>\n       <path d=\"M 40.578125 39.3125 \nQ 47.65625 37.796875 51.625 33 \nQ 55.609375 28.21875 55.609375 21.1875 \nQ 55.609375 10.40625 48.1875 4.484375 \nQ 40.765625 -1.421875 27.09375 -1.421875 \nQ 22.515625 -1.421875 17.65625 -0.515625 \nQ 12.796875 0.390625 7.625 2.203125 \nL 7.625 11.71875 \nQ 11.71875 9.328125 16.59375 8.109375 \nQ 21.484375 6.890625 26.8125 6.890625 \nQ 36.078125 6.890625 40.9375 10.546875 \nQ 45.796875 14.203125 45.796875 21.1875 \nQ 45.796875 27.640625 41.28125 31.265625 \nQ 36.765625 34.90625 28.71875 34.90625 \nL 20.21875 34.90625 \nL 20.21875 43.015625 \nL 29.109375 43.015625 \nQ 36.375 43.015625 40.234375 45.921875 \nQ 44.09375 48.828125 44.09375 54.296875 \nQ 44.09375 59.90625 40.109375 62.90625 \nQ 36.140625 65.921875 28.71875 65.921875 \nQ 24.65625 65.921875 20.015625 65.03125 \nQ 15.375 64.15625 9.8125 62.3125 \nL 9.8125 71.09375 \nQ 15.4375 72.65625 20.34375 73.4375 \nQ 25.25 74.21875 29.59375 74.21875 \nQ 40.828125 74.21875 47.359375 69.109375 \nQ 53.90625 64.015625 53.90625 55.328125 \nQ 53.90625 49.265625 50.4375 45.09375 \nQ 46.96875 40.921875 40.578125 39.3125 \nz\n\" id=\"DejaVuSans-51\"/>\n      </defs>\n      <g transform=\"translate(232.770513 239.238437)scale(0.1 -0.1)\">\n       <use xlink:href=\"#DejaVuSans-51\"/>\n       <use x=\"63.623047\" xlink:href=\"#DejaVuSans-48\"/>\n      </g>\n     </g>\n    </g>\n    <g id=\"xtick_5\">\n     <g id=\"line2d_5\">\n      <g>\n       <use style=\"stroke:#000000;stroke-width:0.8;\" x=\"301.24804\" xlink:href=\"#me87f4c698e\" y=\"224.64\"/>\n      </g>\n     </g>\n     <g id=\"text_5\">\n      <!-- 40 -->\n      <defs>\n       <path d=\"M 37.796875 64.3125 \nL 12.890625 25.390625 \nL 37.796875 25.390625 \nz\nM 35.203125 72.90625 \nL 47.609375 72.90625 \nL 47.609375 25.390625 \nL 58.015625 25.390625 \nL 58.015625 17.1875 \nL 47.609375 17.1875 \nL 47.609375 0 \nL 37.796875 0 \nL 37.796875 17.1875 \nL 4.890625 17.1875 \nL 4.890625 26.703125 \nz\n\" id=\"DejaVuSans-52\"/>\n      </defs>\n      <g transform=\"translate(294.88554 239.238437)scale(0.1 -0.1)\">\n       <use xlink:href=\"#DejaVuSans-52\"/>\n       <use x=\"63.623047\" xlink:href=\"#DejaVuSans-48\"/>\n      </g>\n     </g>\n    </g>\n    <g id=\"xtick_6\">\n     <g id=\"line2d_6\">\n      <g>\n       <use style=\"stroke:#000000;stroke-width:0.8;\" x=\"363.363068\" xlink:href=\"#me87f4c698e\" y=\"224.64\"/>\n      </g>\n     </g>\n     <g id=\"text_6\">\n      <!-- 50 -->\n      <defs>\n       <path d=\"M 10.796875 72.90625 \nL 49.515625 72.90625 \nL 49.515625 64.59375 \nL 19.828125 64.59375 \nL 19.828125 46.734375 \nQ 21.96875 47.46875 24.109375 47.828125 \nQ 26.265625 48.1875 28.421875 48.1875 \nQ 40.625 48.1875 47.75 41.5 \nQ 54.890625 34.8125 54.890625 23.390625 \nQ 54.890625 11.625 47.5625 5.09375 \nQ 40.234375 -1.421875 26.90625 -1.421875 \nQ 22.3125 -1.421875 17.546875 -0.640625 \nQ 12.796875 0.140625 7.71875 1.703125 \nL 7.71875 11.625 \nQ 12.109375 9.234375 16.796875 8.0625 \nQ 21.484375 6.890625 26.703125 6.890625 \nQ 35.15625 6.890625 40.078125 11.328125 \nQ 45.015625 15.765625 45.015625 23.390625 \nQ 45.015625 31 40.078125 35.4375 \nQ 35.15625 39.890625 26.703125 39.890625 \nQ 22.75 39.890625 18.8125 39.015625 \nQ 14.890625 38.140625 10.796875 36.28125 \nz\n\" id=\"DejaVuSans-53\"/>\n      </defs>\n      <g transform=\"translate(357.000568 239.238437)scale(0.1 -0.1)\">\n       <use xlink:href=\"#DejaVuSans-53\"/>\n       <use x=\"63.623047\" xlink:href=\"#DejaVuSans-48\"/>\n      </g>\n     </g>\n    </g>\n   </g>\n   <g id=\"matplotlib.axis_2\">\n    <g id=\"ytick_1\">\n     <g id=\"line2d_7\">\n      <defs>\n       <path d=\"M 0 0 \nL -3.5 0 \n\" id=\"mf52dec02a4\" style=\"stroke:#000000;stroke-width:0.8;\"/>\n      </defs>\n      <g>\n       <use style=\"stroke:#000000;stroke-width:0.8;\" x=\"43.78125\" xlink:href=\"#mf52dec02a4\" y=\"224.64\"/>\n      </g>\n     </g>\n     <g id=\"text_7\">\n      <!-- 0.0 -->\n      <defs>\n       <path d=\"M 10.6875 12.40625 \nL 21 12.40625 \nL 21 0 \nL 10.6875 0 \nz\n\" id=\"DejaVuSans-46\"/>\n      </defs>\n      <g transform=\"translate(20.878125 228.439219)scale(0.1 -0.1)\">\n       <use xlink:href=\"#DejaVuSans-48\"/>\n       <use x=\"63.623047\" xlink:href=\"#DejaVuSans-46\"/>\n       <use x=\"95.410156\" xlink:href=\"#DejaVuSans-48\"/>\n      </g>\n     </g>\n    </g>\n    <g id=\"ytick_2\">\n     <g id=\"line2d_8\">\n      <g>\n       <use style=\"stroke:#000000;stroke-width:0.8;\" x=\"43.78125\" xlink:href=\"#mf52dec02a4\" y=\"198.754286\"/>\n      </g>\n     </g>\n     <g id=\"text_8\">\n      <!-- 0.5 -->\n      <g transform=\"translate(20.878125 202.553504)scale(0.1 -0.1)\">\n       <use xlink:href=\"#DejaVuSans-48\"/>\n       <use x=\"63.623047\" xlink:href=\"#DejaVuSans-46\"/>\n       <use x=\"95.410156\" xlink:href=\"#DejaVuSans-53\"/>\n      </g>\n     </g>\n    </g>\n    <g id=\"ytick_3\">\n     <g id=\"line2d_9\">\n      <g>\n       <use style=\"stroke:#000000;stroke-width:0.8;\" x=\"43.78125\" xlink:href=\"#mf52dec02a4\" y=\"172.868571\"/>\n      </g>\n     </g>\n     <g id=\"text_9\">\n      <!-- 1.0 -->\n      <g transform=\"translate(20.878125 176.66779)scale(0.1 -0.1)\">\n       <use xlink:href=\"#DejaVuSans-49\"/>\n       <use x=\"63.623047\" xlink:href=\"#DejaVuSans-46\"/>\n       <use x=\"95.410156\" xlink:href=\"#DejaVuSans-48\"/>\n      </g>\n     </g>\n    </g>\n    <g id=\"ytick_4\">\n     <g id=\"line2d_10\">\n      <g>\n       <use style=\"stroke:#000000;stroke-width:0.8;\" x=\"43.78125\" xlink:href=\"#mf52dec02a4\" y=\"146.982857\"/>\n      </g>\n     </g>\n     <g id=\"text_10\">\n      <!-- 1.5 -->\n      <g transform=\"translate(20.878125 150.782076)scale(0.1 -0.1)\">\n       <use xlink:href=\"#DejaVuSans-49\"/>\n       <use x=\"63.623047\" xlink:href=\"#DejaVuSans-46\"/>\n       <use x=\"95.410156\" xlink:href=\"#DejaVuSans-53\"/>\n      </g>\n     </g>\n    </g>\n    <g id=\"ytick_5\">\n     <g id=\"line2d_11\">\n      <g>\n       <use style=\"stroke:#000000;stroke-width:0.8;\" x=\"43.78125\" xlink:href=\"#mf52dec02a4\" y=\"121.097143\"/>\n      </g>\n     </g>\n     <g id=\"text_11\">\n      <!-- 2.0 -->\n      <g transform=\"translate(20.878125 124.896362)scale(0.1 -0.1)\">\n       <use xlink:href=\"#DejaVuSans-50\"/>\n       <use x=\"63.623047\" xlink:href=\"#DejaVuSans-46\"/>\n       <use x=\"95.410156\" xlink:href=\"#DejaVuSans-48\"/>\n      </g>\n     </g>\n    </g>\n    <g id=\"ytick_6\">\n     <g id=\"line2d_12\">\n      <g>\n       <use style=\"stroke:#000000;stroke-width:0.8;\" x=\"43.78125\" xlink:href=\"#mf52dec02a4\" y=\"95.211429\"/>\n      </g>\n     </g>\n     <g id=\"text_12\">\n      <!-- 2.5 -->\n      <g transform=\"translate(20.878125 99.010647)scale(0.1 -0.1)\">\n       <use xlink:href=\"#DejaVuSans-50\"/>\n       <use x=\"63.623047\" xlink:href=\"#DejaVuSans-46\"/>\n       <use x=\"95.410156\" xlink:href=\"#DejaVuSans-53\"/>\n      </g>\n     </g>\n    </g>\n    <g id=\"ytick_7\">\n     <g id=\"line2d_13\">\n      <g>\n       <use style=\"stroke:#000000;stroke-width:0.8;\" x=\"43.78125\" xlink:href=\"#mf52dec02a4\" y=\"69.325714\"/>\n      </g>\n     </g>\n     <g id=\"text_13\">\n      <!-- 3.0 -->\n      <g transform=\"translate(20.878125 73.124933)scale(0.1 -0.1)\">\n       <use xlink:href=\"#DejaVuSans-51\"/>\n       <use x=\"63.623047\" xlink:href=\"#DejaVuSans-46\"/>\n       <use x=\"95.410156\" xlink:href=\"#DejaVuSans-48\"/>\n      </g>\n     </g>\n    </g>\n    <g id=\"ytick_8\">\n     <g id=\"line2d_14\">\n      <g>\n       <use style=\"stroke:#000000;stroke-width:0.8;\" x=\"43.78125\" xlink:href=\"#mf52dec02a4\" y=\"43.44\"/>\n      </g>\n     </g>\n     <g id=\"text_14\">\n      <!-- 3.5 -->\n      <g transform=\"translate(20.878125 47.239219)scale(0.1 -0.1)\">\n       <use xlink:href=\"#DejaVuSans-51\"/>\n       <use x=\"63.623047\" xlink:href=\"#DejaVuSans-46\"/>\n       <use x=\"95.410156\" xlink:href=\"#DejaVuSans-53\"/>\n      </g>\n     </g>\n    </g>\n    <g id=\"ytick_9\">\n     <g id=\"line2d_15\">\n      <g>\n       <use style=\"stroke:#000000;stroke-width:0.8;\" x=\"43.78125\" xlink:href=\"#mf52dec02a4\" y=\"17.554286\"/>\n      </g>\n     </g>\n     <g id=\"text_15\">\n      <!-- 4.0 -->\n      <g transform=\"translate(20.878125 21.353504)scale(0.1 -0.1)\">\n       <use xlink:href=\"#DejaVuSans-52\"/>\n       <use x=\"63.623047\" xlink:href=\"#DejaVuSans-46\"/>\n       <use x=\"95.410156\" xlink:href=\"#DejaVuSans-48\"/>\n      </g>\n     </g>\n    </g>\n    <g id=\"text_16\">\n     <!-- Frequency -->\n     <defs>\n      <path d=\"M 9.8125 72.90625 \nL 51.703125 72.90625 \nL 51.703125 64.59375 \nL 19.671875 64.59375 \nL 19.671875 43.109375 \nL 48.578125 43.109375 \nL 48.578125 34.8125 \nL 19.671875 34.8125 \nL 19.671875 0 \nL 9.8125 0 \nz\n\" id=\"DejaVuSans-70\"/>\n      <path d=\"M 41.109375 46.296875 \nQ 39.59375 47.171875 37.8125 47.578125 \nQ 36.03125 48 33.890625 48 \nQ 26.265625 48 22.1875 43.046875 \nQ 18.109375 38.09375 18.109375 28.8125 \nL 18.109375 0 \nL 9.078125 0 \nL 9.078125 54.6875 \nL 18.109375 54.6875 \nL 18.109375 46.1875 \nQ 20.953125 51.171875 25.484375 53.578125 \nQ 30.03125 56 36.53125 56 \nQ 37.453125 56 38.578125 55.875 \nQ 39.703125 55.765625 41.0625 55.515625 \nz\n\" id=\"DejaVuSans-114\"/>\n      <path d=\"M 56.203125 29.59375 \nL 56.203125 25.203125 \nL 14.890625 25.203125 \nQ 15.484375 15.921875 20.484375 11.0625 \nQ 25.484375 6.203125 34.421875 6.203125 \nQ 39.59375 6.203125 44.453125 7.46875 \nQ 49.3125 8.734375 54.109375 11.28125 \nL 54.109375 2.78125 \nQ 49.265625 0.734375 44.1875 -0.34375 \nQ 39.109375 -1.421875 33.890625 -1.421875 \nQ 20.796875 -1.421875 13.15625 6.1875 \nQ 5.515625 13.8125 5.515625 26.8125 \nQ 5.515625 40.234375 12.765625 48.109375 \nQ 20.015625 56 32.328125 56 \nQ 43.359375 56 49.78125 48.890625 \nQ 56.203125 41.796875 56.203125 29.59375 \nz\nM 47.21875 32.234375 \nQ 47.125 39.59375 43.09375 43.984375 \nQ 39.0625 48.390625 32.421875 48.390625 \nQ 24.90625 48.390625 20.390625 44.140625 \nQ 15.875 39.890625 15.1875 32.171875 \nz\n\" id=\"DejaVuSans-101\"/>\n      <path d=\"M 14.796875 27.296875 \nQ 14.796875 17.390625 18.875 11.75 \nQ 22.953125 6.109375 30.078125 6.109375 \nQ 37.203125 6.109375 41.296875 11.75 \nQ 45.40625 17.390625 45.40625 27.296875 \nQ 45.40625 37.203125 41.296875 42.84375 \nQ 37.203125 48.484375 30.078125 48.484375 \nQ 22.953125 48.484375 18.875 42.84375 \nQ 14.796875 37.203125 14.796875 27.296875 \nz\nM 45.40625 8.203125 \nQ 42.578125 3.328125 38.25 0.953125 \nQ 33.9375 -1.421875 27.875 -1.421875 \nQ 17.96875 -1.421875 11.734375 6.484375 \nQ 5.515625 14.40625 5.515625 27.296875 \nQ 5.515625 40.1875 11.734375 48.09375 \nQ 17.96875 56 27.875 56 \nQ 33.9375 56 38.25 53.625 \nQ 42.578125 51.265625 45.40625 46.390625 \nL 45.40625 54.6875 \nL 54.390625 54.6875 \nL 54.390625 -20.796875 \nL 45.40625 -20.796875 \nz\n\" id=\"DejaVuSans-113\"/>\n      <path d=\"M 8.5 21.578125 \nL 8.5 54.6875 \nL 17.484375 54.6875 \nL 17.484375 21.921875 \nQ 17.484375 14.15625 20.5 10.265625 \nQ 23.53125 6.390625 29.59375 6.390625 \nQ 36.859375 6.390625 41.078125 11.03125 \nQ 45.3125 15.671875 45.3125 23.6875 \nL 45.3125 54.6875 \nL 54.296875 54.6875 \nL 54.296875 0 \nL 45.3125 0 \nL 45.3125 8.40625 \nQ 42.046875 3.421875 37.71875 1 \nQ 33.40625 -1.421875 27.6875 -1.421875 \nQ 18.265625 -1.421875 13.375 4.4375 \nQ 8.5 10.296875 8.5 21.578125 \nz\nM 31.109375 56 \nz\n\" id=\"DejaVuSans-117\"/>\n      <path d=\"M 54.890625 33.015625 \nL 54.890625 0 \nL 45.90625 0 \nL 45.90625 32.71875 \nQ 45.90625 40.484375 42.875 44.328125 \nQ 39.84375 48.1875 33.796875 48.1875 \nQ 26.515625 48.1875 22.3125 43.546875 \nQ 18.109375 38.921875 18.109375 30.90625 \nL 18.109375 0 \nL 9.078125 0 \nL 9.078125 54.6875 \nL 18.109375 54.6875 \nL 18.109375 46.1875 \nQ 21.34375 51.125 25.703125 53.5625 \nQ 30.078125 56 35.796875 56 \nQ 45.21875 56 50.046875 50.171875 \nQ 54.890625 44.34375 54.890625 33.015625 \nz\n\" id=\"DejaVuSans-110\"/>\n      <path d=\"M 48.78125 52.59375 \nL 48.78125 44.1875 \nQ 44.96875 46.296875 41.140625 47.34375 \nQ 37.3125 48.390625 33.40625 48.390625 \nQ 24.65625 48.390625 19.8125 42.84375 \nQ 14.984375 37.3125 14.984375 27.296875 \nQ 14.984375 17.28125 19.8125 11.734375 \nQ 24.65625 6.203125 33.40625 6.203125 \nQ 37.3125 6.203125 41.140625 7.25 \nQ 44.96875 8.296875 48.78125 10.40625 \nL 48.78125 2.09375 \nQ 45.015625 0.34375 40.984375 -0.53125 \nQ 36.96875 -1.421875 32.421875 -1.421875 \nQ 20.0625 -1.421875 12.78125 6.34375 \nQ 5.515625 14.109375 5.515625 27.296875 \nQ 5.515625 40.671875 12.859375 48.328125 \nQ 20.21875 56 33.015625 56 \nQ 37.15625 56 41.109375 55.140625 \nQ 45.0625 54.296875 48.78125 52.59375 \nz\n\" id=\"DejaVuSans-99\"/>\n      <path d=\"M 32.171875 -5.078125 \nQ 28.375 -14.84375 24.75 -17.8125 \nQ 21.140625 -20.796875 15.09375 -20.796875 \nL 7.90625 -20.796875 \nL 7.90625 -13.28125 \nL 13.1875 -13.28125 \nQ 16.890625 -13.28125 18.9375 -11.515625 \nQ 21 -9.765625 23.484375 -3.21875 \nL 25.09375 0.875 \nL 2.984375 54.6875 \nL 12.5 54.6875 \nL 29.59375 11.921875 \nL 46.6875 54.6875 \nL 56.203125 54.6875 \nz\n\" id=\"DejaVuSans-121\"/>\n     </defs>\n     <g transform=\"translate(14.798438 141.749687)rotate(-90)scale(0.1 -0.1)\">\n      <use xlink:href=\"#DejaVuSans-70\"/>\n      <use x=\"50.269531\" xlink:href=\"#DejaVuSans-114\"/>\n      <use x=\"89.132812\" xlink:href=\"#DejaVuSans-101\"/>\n      <use x=\"150.65625\" xlink:href=\"#DejaVuSans-113\"/>\n      <use x=\"214.132812\" xlink:href=\"#DejaVuSans-117\"/>\n      <use x=\"277.511719\" xlink:href=\"#DejaVuSans-101\"/>\n      <use x=\"339.035156\" xlink:href=\"#DejaVuSans-110\"/>\n      <use x=\"402.414062\" xlink:href=\"#DejaVuSans-99\"/>\n      <use x=\"457.394531\" xlink:href=\"#DejaVuSans-121\"/>\n     </g>\n    </g>\n   </g>\n   <g id=\"patch_43\">\n    <path d=\"M 43.78125 224.64 \nL 43.78125 7.2 \n\" style=\"fill:none;stroke:#000000;stroke-linecap:square;stroke-linejoin:miter;stroke-width:0.8;\"/>\n   </g>\n   <g id=\"patch_44\">\n    <path d=\"M 378.58125 224.64 \nL 378.58125 7.2 \n\" style=\"fill:none;stroke:#000000;stroke-linecap:square;stroke-linejoin:miter;stroke-width:0.8;\"/>\n   </g>\n   <g id=\"patch_45\">\n    <path d=\"M 43.78125 224.64 \nL 378.58125 224.64 \n\" style=\"fill:none;stroke:#000000;stroke-linecap:square;stroke-linejoin:miter;stroke-width:0.8;\"/>\n   </g>\n   <g id=\"patch_46\">\n    <path d=\"M 43.78125 7.2 \nL 378.58125 7.2 \n\" style=\"fill:none;stroke:#000000;stroke-linecap:square;stroke-linejoin:miter;stroke-width:0.8;\"/>\n   </g>\n  </g>\n </g>\n <defs>\n  <clipPath id=\"pb0c43828d0\">\n   <rect height=\"217.44\" width=\"334.8\" x=\"43.78125\" y=\"7.2\"/>\n  </clipPath>\n </defs>\n</svg>\n",
      "image/png": "[encoded data removed]"
     },
     "metadata": {
      "needs_background": "light"
     }
    }
   ],
   "source": [
    "user_rating.plot.hist(bins=40);"
   ]
  },
  {
   "cell_type": "markdown",
   "metadata": {},
   "source": [
    "# Into Collaborative Filtering\n",
    "***"
   ]
  },
  {
   "cell_type": "markdown",
   "metadata": {},
   "source": [
    "Filter Data to reduce Dimensionality"
   ]
  },
  {
   "cell_type": "code",
   "execution_count": 141,
   "metadata": {},
   "outputs": [
    {
     "output_type": "stream",
     "name": "stdout",
     "text": "Original Shape: (243, 12)\nFilter Data Shape: (240, 12)\n"
    },
    {
     "output_type": "execute_result",
     "data": {
      "text/plain": "          book_id  category_id   available         id      rating     user_id\ncount  240.000000   240.000000  240.000000  240.00000  240.000000  240.000000\nmean   102.987500     3.450000   24.412500  120.50000    4.095833    7.125000\nstd     64.275914     0.657751   15.089713   69.42622    1.003750    1.458276\nmin      5.000000     1.000000    0.000000    1.00000    1.000000    5.000000\n25%     40.500000     3.000000   12.000000   60.75000    4.000000    6.000000\n50%    103.000000     4.000000   24.000000  120.50000    4.000000    7.000000\n75%    158.500000     4.000000   37.000000  180.25000    5.000000    8.000000\nmax    208.000000     4.000000   50.000000  240.00000    5.000000   11.000000",
      "text/html": "<div>\n<style scoped>\n    .dataframe tbody tr th:only-of-type {\n        vertical-align: middle;\n    }\n\n    .dataframe tbody tr th {\n        vertical-align: top;\n    }\n\n    .dataframe thead th {\n        text-align: right;\n    }\n</style>\n<table border=\"1\" class=\"dataframe\">\n  <thead>\n    <tr style=\"text-align: right;\">\n      <th></th>\n      <th>book_id</th>\n      <th>category_id</th>\n      <th>available</th>\n      <th>id</th>\n      <th>rating</th>\n      <th>user_id</th>\n    </tr>\n  </thead>\n  <tbody>\n    <tr>\n      <th>count</th>\n      <td>240.000000</td>\n      <td>240.000000</td>\n      <td>240.000000</td>\n      <td>240.00000</td>\n      <td>240.000000</td>\n      <td>240.000000</td>\n    </tr>\n    <tr>\n      <th>mean</th>\n      <td>102.987500</td>\n      <td>3.450000</td>\n      <td>24.412500</td>\n      <td>120.50000</td>\n      <td>4.095833</td>\n      <td>7.125000</td>\n    </tr>\n    <tr>\n      <th>std</th>\n      <td>64.275914</td>\n      <td>0.657751</td>\n      <td>15.089713</td>\n      <td>69.42622</td>\n      <td>1.003750</td>\n      <td>1.458276</td>\n    </tr>\n    <tr>\n      <th>min</th>\n      <td>5.000000</td>\n      <td>1.000000</td>\n      <td>0.000000</td>\n      <td>1.00000</td>\n      <td>1.000000</td>\n      <td>5.000000</td>\n    </tr>\n    <tr>\n      <th>25%</th>\n      <td>40.500000</td>\n      <td>3.000000</td>\n      <td>12.000000</td>\n      <td>60.75000</td>\n      <td>4.000000</td>\n      <td>6.000000</td>\n    </tr>\n    <tr>\n      <th>50%</th>\n      <td>103.000000</td>\n      <td>4.000000</td>\n      <td>24.000000</td>\n      <td>120.50000</td>\n      <td>4.000000</td>\n      <td>7.000000</td>\n    </tr>\n    <tr>\n      <th>75%</th>\n      <td>158.500000</td>\n      <td>4.000000</td>\n      <td>37.000000</td>\n      <td>180.25000</td>\n      <td>5.000000</td>\n      <td>8.000000</td>\n    </tr>\n    <tr>\n      <th>max</th>\n      <td>208.000000</td>\n      <td>4.000000</td>\n      <td>50.000000</td>\n      <td>240.00000</td>\n      <td>5.000000</td>\n      <td>11.000000</td>\n    </tr>\n  </tbody>\n</table>\n</div>"
     },
     "metadata": {},
     "execution_count": 141
    }
   ],
   "source": [
    "# Minimum book rating to add  that book in books_data.\n",
    "min_book_rating = 1\n",
    "filter_books = books_with_rating['book_title'].value_counts() >= min_book_rating\n",
    "filter_books = filter_books[filter_books].index.tolist()\n",
    "\n",
    "#  at least user should should rate 2 books to be added\n",
    "MIN_USER_RATING = 2\n",
    "filter_users = books_with_rating['user_id'].value_counts() >= MIN_USER_RATING\n",
    "filter_users = filter_users[filter_users].index.tolist()\n",
    "\n",
    "books_data = books_with_rating[books_with_rating['book_title'].isin(filter_books) & \n",
    "    (books_with_rating['user_id'].isin(filter_users))]\n",
    "print(\"Original Shape: {}\".format(books_with_rating.shape))\n",
    "print(\"Filter Data Shape: {}\".format(books_data.shape))\n",
    "books_data.describe()"
   ]
  },
  {
   "cell_type": "markdown",
   "metadata": {},
   "source": [
    "## Surprise Library\n",
    "Load data from `books_data` dataframe to surprise Reader"
   ]
  },
  {
   "cell_type": "code",
   "execution_count": 142,
   "metadata": {},
   "outputs": [],
   "source": [
    "reader = Reader(rating_scale=(0, 9))\n",
    "data = Dataset.load_from_df(books_data[['user_id', 'book_title', 'rating']], reader)"
   ]
  },
  {
   "cell_type": "markdown",
   "metadata": {},
   "source": [
    "Check RMSE, MAE for different algorithms to find best suitable model"
   ]
  },
  {
   "cell_type": "code",
   "execution_count": 143,
   "metadata": {},
   "outputs": [
    {
     "output_type": "stream",
     "name": "stdout",
     "text": "Evaluating RMSE, MAE of algorithm SVD on 3 split(s).\n\n                  Fold 1  Fold 2  Fold 3  Mean    Std     \nRMSE (testset)    0.9593  0.8563  1.1664  0.9940  0.1289  \nMAE (testset)     0.7581  0.6828  0.8546  0.7652  0.0703  \nFit time          0.01    0.01    0.01    0.01    0.00    \nTest time         0.00    0.00    0.00    0.00    0.00    \nEvaluating RMSE, MAE of algorithm SVDpp on 3 split(s).\n\n                  Fold 1  Fold 2  Fold 3  Mean    Std     \nRMSE (testset)    0.9069  1.0281  1.0873  1.0075  0.0751  \nMAE (testset)     0.6983  0.7942  0.8206  0.7710  0.0525  \nFit time          0.08    0.07    0.08    0.08    0.00    \nTest time         0.00    0.00    0.00    0.00    0.00    \nEvaluating RMSE, MAE of algorithm SlopeOne on 3 split(s).\n\n                  Fold 1  Fold 2  Fold 3  Mean    Std     \nRMSE (testset)    1.1194  1.3048  1.2632  1.2292  0.0794  \nMAE (testset)     0.8882  0.9960  0.9996  0.9613  0.0517  \nFit time          0.00    0.00    0.00    0.00    0.00    \nTest time         0.00    0.00    0.00    0.00    0.00    \nEvaluating RMSE, MAE of algorithm NMF on 3 split(s).\n\n                  Fold 1  Fold 2  Fold 3  Mean    Std     \nRMSE (testset)    1.3329  1.2834  1.1302  1.2488  0.0863  \nMAE (testset)     1.0377  0.9337  0.8608  0.9441  0.0726  \nFit time          0.02    0.02    0.02    0.02    0.00    \nTest time         0.00    0.00    0.00    0.00    0.00    \nEvaluating RMSE, MAE of algorithm NormalPredictor on 3 split(s).\n\n                  Fold 1  Fold 2  Fold 3  Mean    Std     \nRMSE (testset)    1.4836  1.3316  1.4246  1.4133  0.0626  \nMAE (testset)     1.1522  1.0836  1.1656  1.1338  0.0359  \nFit time          0.00    0.00    0.00    0.00    0.00    \nTest time         0.00    0.00    0.00    0.00    0.00    \nEstimating biases using als...\nComputing the msd similarity matrix...\nDone computing similarity matrix.\nEstimating biases using als...\nComputing the msd similarity matrix...\nDone computing similarity matrix.\nEstimating biases using als...\nComputing the msd similarity matrix...\nDone computing similarity matrix.\nEvaluating RMSE, MAE of algorithm KNNBaseline on 3 split(s).\n\n                  Fold 1  Fold 2  Fold 3  Mean    Std     \nRMSE (testset)    1.1407  1.1327  1.2481  1.1738  0.0526  \nMAE (testset)     0.8403  0.8480  0.9152  0.8678  0.0337  \nFit time          0.00    0.00    0.00    0.00    0.00    \nTest time         0.00    0.00    0.00    0.00    0.00    \nComputing the msd similarity matrix...\nDone computing similarity matrix.\nComputing the msd similarity matrix...\nDone computing similarity matrix.\nComputing the msd similarity matrix...\nDone computing similarity matrix.\nEvaluating RMSE, MAE of algorithm KNNBasic on 3 split(s).\n\n                  Fold 1  Fold 2  Fold 3  Mean    Std     \nRMSE (testset)    1.0780  1.1357  1.1330  1.1156  0.0266  \nMAE (testset)     0.6940  0.8020  0.8104  0.7688  0.0530  \nFit time          0.00    0.00    0.00    0.00    0.00    \nTest time         0.00    0.00    0.00    0.00    0.00    \nComputing the msd similarity matrix...\nDone computing similarity matrix.\nComputing the msd similarity matrix...\nDone computing similarity matrix.\nComputing the msd similarity matrix...\nDone computing similarity matrix.\nEvaluating RMSE, MAE of algorithm KNNWithMeans on 3 split(s).\n\n                  Fold 1  Fold 2  Fold 3  Mean    Std     \nRMSE (testset)    1.0993  1.2616  1.1987  1.1866  0.0668  \nMAE (testset)     0.7710  0.9318  0.8894  0.8641  0.0680  \nFit time          0.00    0.00    0.00    0.00    0.00    \nTest time         0.00    0.00    0.00    0.00    0.00    \nComputing the msd similarity matrix...\nDone computing similarity matrix.\nComputing the msd similarity matrix...\nDone computing similarity matrix.\nComputing the msd similarity matrix...\nDone computing similarity matrix.\nEvaluating RMSE, MAE of algorithm KNNWithZScore on 3 split(s).\n\n                  Fold 1  Fold 2  Fold 3  Mean    Std     \nRMSE (testset)    1.3123  1.2046  0.9775  1.1648  0.1396  \nMAE (testset)     1.0002  0.8599  0.7896  0.8832  0.0875  \nFit time          0.00    0.00    0.00    0.00    0.00    \nTest time         0.00    0.00    0.00    0.00    0.00    \nEstimating biases using als...\nEstimating biases using als...\nEstimating biases using als...\nEvaluating RMSE, MAE of algorithm BaselineOnly on 3 split(s).\n\n                  Fold 1  Fold 2  Fold 3  Mean    Std     \nRMSE (testset)    1.1077  0.9690  0.9099  0.9955  0.0829  \nMAE (testset)     0.8233  0.7601  0.6812  0.7549  0.0581  \nFit time          0.00    0.00    0.00    0.00    0.00    \nTest time         0.00    0.00    0.00    0.00    0.00    \nEvaluating RMSE, MAE of algorithm CoClustering on 3 split(s).\n\n                  Fold 1  Fold 2  Fold 3  Mean    Std     \nRMSE (testset)    1.2322  1.1032  1.2101  1.1818  0.0563  \nMAE (testset)     0.8982  0.8173  0.8392  0.8516  0.0342  \nFit time          0.02    0.01    0.01    0.01    0.00    \nTest time         0.00    0.00    0.00    0.00    0.00    \n"
    }
   ],
   "source": [
    "benchmark = []\n",
    "# Iterate over all algorithms\n",
    "# KNNBaseline, KNNBasic, KNNWithMeans, KNNWithZScore\n",
    "# NormalPredictor, BaselineOnly, SVD, SVDpp, NMF, SlopeOne, CoClustering\n",
    "for algorithm in [SVD(), SVDpp(), SlopeOne(), NMF(), NormalPredictor(), KNNBaseline(), KNNBasic(), KNNWithMeans(), KNNWithZScore(), BaselineOnly(), CoClustering()]:\n",
    "    # Perform cross validation\n",
    "    results = cross_validate(algorithm, data, measures=['RMSE', 'MAE'], cv=3, verbose=True)\n",
    "    \n",
    "    # Get results & append algorithm name\n",
    "    tmp = pd.DataFrame.from_dict(results).mean(axis=0)\n",
    "    tmp = tmp.append(pd.Series([str(algorithm).split(' ')[0].split('.')[-1]], index=['Algorithm']))\n",
    "    benchmark.append(tmp)"
   ]
  },
  {
   "cell_type": "code",
   "execution_count": 144,
   "metadata": {},
   "outputs": [
    {
     "output_type": "execute_result",
     "data": {
      "text/plain": "                 test_rmse  test_mae  fit_time  test_time\nAlgorithm                                                \nSVD               0.994010  0.765161  0.012237   0.000871\nBaselineOnly      0.995537  0.754896  0.000573   0.000381\nSVDpp             1.007451  0.771008  0.077930   0.002734\nKNNBasic          1.115576  0.768808  0.000178   0.000650\nKNNWithZScore     1.164775  0.883198  0.000813   0.000811\nKNNBaseline       1.173808  0.867848  0.000779   0.000773\nCoClustering      1.181831  0.851559  0.013393   0.000422\nKNNWithMeans      1.186565  0.864074  0.000461   0.000870\nSlopeOne          1.229150  0.961292  0.000466   0.001437\nNMF               1.248833  0.944056  0.017570   0.000626\nNormalPredictor   1.413266  1.133817  0.000234   0.000569",
      "text/html": "<div>\n<style scoped>\n    .dataframe tbody tr th:only-of-type {\n        vertical-align: middle;\n    }\n\n    .dataframe tbody tr th {\n        vertical-align: top;\n    }\n\n    .dataframe thead th {\n        text-align: right;\n    }\n</style>\n<table border=\"1\" class=\"dataframe\">\n  <thead>\n    <tr style=\"text-align: right;\">\n      <th></th>\n      <th>test_rmse</th>\n      <th>test_mae</th>\n      <th>fit_time</th>\n      <th>test_time</th>\n    </tr>\n    <tr>\n      <th>Algorithm</th>\n      <th></th>\n      <th></th>\n      <th></th>\n      <th></th>\n    </tr>\n  </thead>\n  <tbody>\n    <tr>\n      <th>SVD</th>\n      <td>0.994010</td>\n      <td>0.765161</td>\n      <td>0.012237</td>\n      <td>0.000871</td>\n    </tr>\n    <tr>\n      <th>BaselineOnly</th>\n      <td>0.995537</td>\n      <td>0.754896</td>\n      <td>0.000573</td>\n      <td>0.000381</td>\n    </tr>\n    <tr>\n      <th>SVDpp</th>\n      <td>1.007451</td>\n      <td>0.771008</td>\n      <td>0.077930</td>\n      <td>0.002734</td>\n    </tr>\n    <tr>\n      <th>KNNBasic</th>\n      <td>1.115576</td>\n      <td>0.768808</td>\n      <td>0.000178</td>\n      <td>0.000650</td>\n    </tr>\n    <tr>\n      <th>KNNWithZScore</th>\n      <td>1.164775</td>\n      <td>0.883198</td>\n      <td>0.000813</td>\n      <td>0.000811</td>\n    </tr>\n    <tr>\n      <th>KNNBaseline</th>\n      <td>1.173808</td>\n      <td>0.867848</td>\n      <td>0.000779</td>\n      <td>0.000773</td>\n    </tr>\n    <tr>\n      <th>CoClustering</th>\n      <td>1.181831</td>\n      <td>0.851559</td>\n      <td>0.013393</td>\n      <td>0.000422</td>\n    </tr>\n    <tr>\n      <th>KNNWithMeans</th>\n      <td>1.186565</td>\n      <td>0.864074</td>\n      <td>0.000461</td>\n      <td>0.000870</td>\n    </tr>\n    <tr>\n      <th>SlopeOne</th>\n      <td>1.229150</td>\n      <td>0.961292</td>\n      <td>0.000466</td>\n      <td>0.001437</td>\n    </tr>\n    <tr>\n      <th>NMF</th>\n      <td>1.248833</td>\n      <td>0.944056</td>\n      <td>0.017570</td>\n      <td>0.000626</td>\n    </tr>\n    <tr>\n      <th>NormalPredictor</th>\n      <td>1.413266</td>\n      <td>1.133817</td>\n      <td>0.000234</td>\n      <td>0.000569</td>\n    </tr>\n  </tbody>\n</table>\n</div>"
     },
     "metadata": {},
     "execution_count": 144
    }
   ],
   "source": [
    "surprise_results = pd.DataFrame(benchmark).set_index('Algorithm').sort_values('test_rmse')\n",
    "surprise_results"
   ]
  },
  {
   "cell_type": "markdown",
   "metadata": {},
   "source": [
    "From Above, we can see SVD is more suitable in our dataset as it has less RMSE."
   ]
  },
  {
   "cell_type": "markdown",
   "metadata": {},
   "source": [
    "# Singular Value Decomposition (SVD)\n",
    "***\n"
   ]
  },
  {
   "cell_type": "markdown",
   "metadata": {},
   "source": [
    "## Train & Predict"
   ]
  },
  {
   "cell_type": "code",
   "execution_count": 160,
   "metadata": {},
   "outputs": [],
   "source": [
    "# print('Using ALS')\n",
    "# bsl_options = {'method': 'als',\n",
    "#                'n_epochs': 5,\n",
    "#                'reg_u': 12,\n",
    "#                'reg_i': 5\n",
    "#                }\n",
    "# algo = SVD(bsl_options=bsl_options)\n",
    "# cross_validate(algo, data, measures=['RMSE'], cv=3, verbose=False)"
   ]
  },
  {
   "cell_type": "code",
   "execution_count": 162,
   "metadata": {},
   "outputs": [
    {
     "output_type": "stream",
     "name": "stdout",
     "text": "RMSE: 0.8979\n"
    },
    {
     "output_type": "execute_result",
     "data": {
      "text/plain": "0.8978549256853974"
     },
     "metadata": {},
     "execution_count": 162
    }
   ],
   "source": [
    "# sample random trainset and testset\n",
    "# test set is made of 25% of the ratings.\n",
    "trainset, testset = train_test_split(data, test_size=0.20)\n",
    "\n",
    "algo = SVD()\n",
    "predictions = algo.fit(trainset).test(testset)\n",
    "accuracy.rmse(predictions)"
   ]
  },
  {
   "cell_type": "code",
   "execution_count": 163,
   "metadata": {},
   "outputs": [],
   "source": [
    "def get_item_rated_by_user(user_id):\n",
    "    \"\"\" return the number of items rated by given user\n",
    "    args: \n",
    "      user_id: the id of the user\n",
    "    returns: \n",
    "      the number of items rated by the user\n",
    "    \"\"\"\n",
    "    try:\n",
    "        return len(trainset.ur[trainset.to_inner_uid(user_id)])\n",
    "    except ValueError: # user was not part of the trainset\n",
    "        return 0\n",
    "\n",
    "def get_users_rated_on_item(item_id):\n",
    "    \"\"\" return number of users that have rated given item\n",
    "    args:\n",
    "      item_id: the raw id of the item\n",
    "    returns:a\n",
    "      the number of users that have rated the item.\n",
    "    \"\"\"\n",
    "    try: \n",
    "        return len(trainset.ir[trainset.to_inner_iid(item_id)])\n",
    "    except ValueError:\n",
    "        return 0\n",
    "\n",
    "\n",
    "predictions_data = pd.DataFrame(predictions, columns=['user_id', 'book_title', 'rui', 'est', 'details'])\n",
    "predictions_data['item_rated_by_user'] = predictions_data.user_id.apply(get_item_rated_by_user)\n",
    "predictions_data['users_rated_on_item'] = predictions_data.book_title.apply(get_users_rated_on_item)\n",
    "predictions_data['err'] = abs(predictions_data.est - predictions_data.rui)"
   ]
  },
  {
   "cell_type": "code",
   "execution_count": 164,
   "metadata": {},
   "outputs": [
    {
     "output_type": "execute_result",
     "data": {
      "text/plain": "   user_id                 book_title  rui       est  \\\n0        7              The Lost Hero  4.0  4.098588   \n1        9                  Atonement  2.0  4.286344   \n2        9        Memoirs of a Geisha  5.0  4.286344   \n3        8  Luftslottet som sprängdes  5.0  4.135046   \n4        7               The Bell Jar  4.0  3.963220   \n\n                     details  item_rated_by_user  users_rated_on_item  \\\n0  {'was_impossible': False}                  38                    1   \n1  {'was_impossible': False}                  34                    0   \n2  {'was_impossible': False}                  34                    0   \n3  {'was_impossible': False}                  34                    0   \n4  {'was_impossible': False}                  38                    0   \n\n        err  \n0  0.098588  \n1  2.286344  \n2  0.713656  \n3  0.864954  \n4  0.036780  ",
      "text/html": "<div>\n<style scoped>\n    .dataframe tbody tr th:only-of-type {\n        vertical-align: middle;\n    }\n\n    .dataframe tbody tr th {\n        vertical-align: top;\n    }\n\n    .dataframe thead th {\n        text-align: right;\n    }\n</style>\n<table border=\"1\" class=\"dataframe\">\n  <thead>\n    <tr style=\"text-align: right;\">\n      <th></th>\n      <th>user_id</th>\n      <th>book_title</th>\n      <th>rui</th>\n      <th>est</th>\n      <th>details</th>\n      <th>item_rated_by_user</th>\n      <th>users_rated_on_item</th>\n      <th>err</th>\n    </tr>\n  </thead>\n  <tbody>\n    <tr>\n      <th>0</th>\n      <td>7</td>\n      <td>The Lost Hero</td>\n      <td>4.0</td>\n      <td>4.098588</td>\n      <td>{'was_impossible': False}</td>\n      <td>38</td>\n      <td>1</td>\n      <td>0.098588</td>\n    </tr>\n    <tr>\n      <th>1</th>\n      <td>9</td>\n      <td>Atonement</td>\n      <td>2.0</td>\n      <td>4.286344</td>\n      <td>{'was_impossible': False}</td>\n      <td>34</td>\n      <td>0</td>\n      <td>2.286344</td>\n    </tr>\n    <tr>\n      <th>2</th>\n      <td>9</td>\n      <td>Memoirs of a Geisha</td>\n      <td>5.0</td>\n      <td>4.286344</td>\n      <td>{'was_impossible': False}</td>\n      <td>34</td>\n      <td>0</td>\n      <td>0.713656</td>\n    </tr>\n    <tr>\n      <th>3</th>\n      <td>8</td>\n      <td>Luftslottet som sprängdes</td>\n      <td>5.0</td>\n      <td>4.135046</td>\n      <td>{'was_impossible': False}</td>\n      <td>34</td>\n      <td>0</td>\n      <td>0.864954</td>\n    </tr>\n    <tr>\n      <th>4</th>\n      <td>7</td>\n      <td>The Bell Jar</td>\n      <td>4.0</td>\n      <td>3.963220</td>\n      <td>{'was_impossible': False}</td>\n      <td>38</td>\n      <td>0</td>\n      <td>0.036780</td>\n    </tr>\n  </tbody>\n</table>\n</div>"
     },
     "metadata": {},
     "execution_count": 164
    }
   ],
   "source": [
    "predictions_data.head()"
   ]
  },
  {
   "cell_type": "code",
   "execution_count": 165,
   "metadata": {},
   "outputs": [],
   "source": [
    "# def get_Iu(uid):\n",
    "#     \"\"\" return the number of items rated by given user\n",
    "#     args: \n",
    "#       uid: the id of the user\n",
    "#     returns: \n",
    "#       the number of items rated by the user\n",
    "#     \"\"\"\n",
    "#     try:\n",
    "#         return len(trainset.ur[trainset.to_inner_uid(uid)])\n",
    "#     except ValueError: # user was not part of the trainset\n",
    "#         return 0\n",
    "    \n",
    "# def get_Ui(iid):\n",
    "#     \"\"\" return number of users that have rated given item\n",
    "#     args:\n",
    "#       iid: the raw id of the item\n",
    "#     returns:\n",
    "#       the number of users that have rated the item.\n",
    "#     \"\"\"\n",
    "#     try: \n",
    "#         return len(trainset.ir[trainset.to_inner_iid(iid)])\n",
    "#     except ValueError:\n",
    "#         return 0\n",
    "    \n",
    "# df = pd.DataFrame(predictions, columns=['uid', 'iid', 'rui', 'est', 'details'])\n",
    "# df['Iu'] = df.uid.apply(get_Iu)\n",
    "# df['Ui'] = df.iid.apply(get_Ui)\n",
    "# df['err'] = abs(df.est - df.rui)\n",
    "# df['err'] = abs(df.est - df.rui)"
   ]
  },
  {
   "cell_type": "code",
   "execution_count": 166,
   "metadata": {},
   "outputs": [],
   "source": [
    "# df.head()"
   ]
  },
  {
   "cell_type": "code",
   "execution_count": 167,
   "metadata": {},
   "outputs": [],
   "source": [
    "best_predictions = predictions_data.sort_values(by='err')[:10]\n",
    "worst_predictions = predictions_data.sort_values(by='err')[-10:]\n"
   ]
  },
  {
   "cell_type": "code",
   "execution_count": 168,
   "metadata": {},
   "outputs": [
    {
     "output_type": "execute_result",
     "data": {
      "text/plain": "    user_id                                book_title  rui       est  \\\n14        6                     The Lord of the Rings  4.0  3.997653   \n44       11                         The Titan's Curse  4.0  3.975192   \n40        7                                 Atonement  4.0  3.963220   \n4         7                              The Bell Jar  4.0  3.963220   \n5         8                              Bared to You  4.0  4.071062   \n36        7                     The Girl on the Train  4.0  4.081298   \n0         7                             The Lost Hero  4.0  4.098588   \n19       10  Harry Potter and the Philosopher's Stone  4.0  4.118469   \n13        8                        Green Eggs and Ham  4.0  4.123374   \n32        9                Animal Farm: A Fairy Story  4.0  4.132242   \n\n                      details  item_rated_by_user  users_rated_on_item  \\\n14  {'was_impossible': False}                  44                    2   \n44  {'was_impossible': False}                   1                    0   \n40  {'was_impossible': False}                  38                    0   \n4   {'was_impossible': False}                  38                    0   \n5   {'was_impossible': False}                  34                    2   \n36  {'was_impossible': False}                  38                    1   \n0   {'was_impossible': False}                  38                    1   \n19  {'was_impossible': False}                   4                    1   \n13  {'was_impossible': False}                  34                    1   \n32  {'was_impossible': False}                  34                    1   \n\n         err  \n14  0.002347  \n44  0.024808  \n40  0.036780  \n4   0.036780  \n5   0.071062  \n36  0.081298  \n0   0.098588  \n19  0.118469  \n13  0.123374  \n32  0.132242  ",
      "text/html": "<div>\n<style scoped>\n    .dataframe tbody tr th:only-of-type {\n        vertical-align: middle;\n    }\n\n    .dataframe tbody tr th {\n        vertical-align: top;\n    }\n\n    .dataframe thead th {\n        text-align: right;\n    }\n</style>\n<table border=\"1\" class=\"dataframe\">\n  <thead>\n    <tr style=\"text-align: right;\">\n      <th></th>\n      <th>user_id</th>\n      <th>book_title</th>\n      <th>rui</th>\n      <th>est</th>\n      <th>details</th>\n      <th>item_rated_by_user</th>\n      <th>users_rated_on_item</th>\n      <th>err</th>\n    </tr>\n  </thead>\n  <tbody>\n    <tr>\n      <th>14</th>\n      <td>6</td>\n      <td>The Lord of the Rings</td>\n      <td>4.0</td>\n      <td>3.997653</td>\n      <td>{'was_impossible': False}</td>\n      <td>44</td>\n      <td>2</td>\n      <td>0.002347</td>\n    </tr>\n    <tr>\n      <th>44</th>\n      <td>11</td>\n      <td>The Titan's Curse</td>\n      <td>4.0</td>\n      <td>3.975192</td>\n      <td>{'was_impossible': False}</td>\n      <td>1</td>\n      <td>0</td>\n      <td>0.024808</td>\n    </tr>\n    <tr>\n      <th>40</th>\n      <td>7</td>\n      <td>Atonement</td>\n      <td>4.0</td>\n      <td>3.963220</td>\n      <td>{'was_impossible': False}</td>\n      <td>38</td>\n      <td>0</td>\n      <td>0.036780</td>\n    </tr>\n    <tr>\n      <th>4</th>\n      <td>7</td>\n      <td>The Bell Jar</td>\n      <td>4.0</td>\n      <td>3.963220</td>\n      <td>{'was_impossible': False}</td>\n      <td>38</td>\n      <td>0</td>\n      <td>0.036780</td>\n    </tr>\n    <tr>\n      <th>5</th>\n      <td>8</td>\n      <td>Bared to You</td>\n      <td>4.0</td>\n      <td>4.071062</td>\n      <td>{'was_impossible': False}</td>\n      <td>34</td>\n      <td>2</td>\n      <td>0.071062</td>\n    </tr>\n    <tr>\n      <th>36</th>\n      <td>7</td>\n      <td>The Girl on the Train</td>\n      <td>4.0</td>\n      <td>4.081298</td>\n      <td>{'was_impossible': False}</td>\n      <td>38</td>\n      <td>1</td>\n      <td>0.081298</td>\n    </tr>\n    <tr>\n      <th>0</th>\n      <td>7</td>\n      <td>The Lost Hero</td>\n      <td>4.0</td>\n      <td>4.098588</td>\n      <td>{'was_impossible': False}</td>\n      <td>38</td>\n      <td>1</td>\n      <td>0.098588</td>\n    </tr>\n    <tr>\n      <th>19</th>\n      <td>10</td>\n      <td>Harry Potter and the Philosopher's Stone</td>\n      <td>4.0</td>\n      <td>4.118469</td>\n      <td>{'was_impossible': False}</td>\n      <td>4</td>\n      <td>1</td>\n      <td>0.118469</td>\n    </tr>\n    <tr>\n      <th>13</th>\n      <td>8</td>\n      <td>Green Eggs and Ham</td>\n      <td>4.0</td>\n      <td>4.123374</td>\n      <td>{'was_impossible': False}</td>\n      <td>34</td>\n      <td>1</td>\n      <td>0.123374</td>\n    </tr>\n    <tr>\n      <th>32</th>\n      <td>9</td>\n      <td>Animal Farm: A Fairy Story</td>\n      <td>4.0</td>\n      <td>4.132242</td>\n      <td>{'was_impossible': False}</td>\n      <td>34</td>\n      <td>1</td>\n      <td>0.132242</td>\n    </tr>\n  </tbody>\n</table>\n</div>"
     },
     "metadata": {},
     "execution_count": 168
    }
   ],
   "source": [
    "best_predictions"
   ]
  },
  {
   "cell_type": "code",
   "execution_count": 169,
   "metadata": {},
   "outputs": [
    {
     "output_type": "execute_result",
     "data": {
      "text/plain": "    user_id                          book_title  rui       est  \\\n26        7                The Poisonwood Bible  5.0  3.907525   \n33        8                  Gone with the Wind  3.0  4.135046   \n37        6                            The Road  5.0  3.849466   \n41        6                           Allegiant  5.0  3.849466   \n38        9                 The Handmaid's Tale  3.0  4.221904   \n18        7                 Beautiful Creatures  5.0  3.707809   \n20        9             New Moon (Twilight, #2)  3.0  4.422458   \n34        6  The Hobbit or There and Back Again  2.0  3.849466   \n22        8                  Great Expectations  2.0  4.095797   \n1         9                           Atonement  2.0  4.286344   \n\n                      details  item_rated_by_user  users_rated_on_item  \\\n26  {'was_impossible': False}                  38                    4   \n33  {'was_impossible': False}                  34                    0   \n37  {'was_impossible': False}                  44                    0   \n41  {'was_impossible': False}                  44                    0   \n38  {'was_impossible': False}                  34                    2   \n18  {'was_impossible': False}                  38                    2   \n20  {'was_impossible': False}                  34                    1   \n34  {'was_impossible': False}                  44                    0   \n22  {'was_impossible': False}                  34                    2   \n1   {'was_impossible': False}                  34                    0   \n\n         err  \n26  1.092475  \n33  1.135046  \n37  1.150534  \n41  1.150534  \n38  1.221904  \n18  1.292191  \n20  1.422458  \n34  1.849466  \n22  2.095797  \n1   2.286344  ",
      "text/html": "<div>\n<style scoped>\n    .dataframe tbody tr th:only-of-type {\n        vertical-align: middle;\n    }\n\n    .dataframe tbody tr th {\n        vertical-align: top;\n    }\n\n    .dataframe thead th {\n        text-align: right;\n    }\n</style>\n<table border=\"1\" class=\"dataframe\">\n  <thead>\n    <tr style=\"text-align: right;\">\n      <th></th>\n      <th>user_id</th>\n      <th>book_title</th>\n      <th>rui</th>\n      <th>est</th>\n      <th>details</th>\n      <th>item_rated_by_user</th>\n      <th>users_rated_on_item</th>\n      <th>err</th>\n    </tr>\n  </thead>\n  <tbody>\n    <tr>\n      <th>26</th>\n      <td>7</td>\n      <td>The Poisonwood Bible</td>\n      <td>5.0</td>\n      <td>3.907525</td>\n      <td>{'was_impossible': False}</td>\n      <td>38</td>\n      <td>4</td>\n      <td>1.092475</td>\n    </tr>\n    <tr>\n      <th>33</th>\n      <td>8</td>\n      <td>Gone with the Wind</td>\n      <td>3.0</td>\n      <td>4.135046</td>\n      <td>{'was_impossible': False}</td>\n      <td>34</td>\n      <td>0</td>\n      <td>1.135046</td>\n    </tr>\n    <tr>\n      <th>37</th>\n      <td>6</td>\n      <td>The Road</td>\n      <td>5.0</td>\n      <td>3.849466</td>\n      <td>{'was_impossible': False}</td>\n      <td>44</td>\n      <td>0</td>\n      <td>1.150534</td>\n    </tr>\n    <tr>\n      <th>41</th>\n      <td>6</td>\n      <td>Allegiant</td>\n      <td>5.0</td>\n      <td>3.849466</td>\n      <td>{'was_impossible': False}</td>\n      <td>44</td>\n      <td>0</td>\n      <td>1.150534</td>\n    </tr>\n    <tr>\n      <th>38</th>\n      <td>9</td>\n      <td>The Handmaid's Tale</td>\n      <td>3.0</td>\n      <td>4.221904</td>\n      <td>{'was_impossible': False}</td>\n      <td>34</td>\n      <td>2</td>\n      <td>1.221904</td>\n    </tr>\n    <tr>\n      <th>18</th>\n      <td>7</td>\n      <td>Beautiful Creatures</td>\n      <td>5.0</td>\n      <td>3.707809</td>\n      <td>{'was_impossible': False}</td>\n      <td>38</td>\n      <td>2</td>\n      <td>1.292191</td>\n    </tr>\n    <tr>\n      <th>20</th>\n      <td>9</td>\n      <td>New Moon (Twilight, #2)</td>\n      <td>3.0</td>\n      <td>4.422458</td>\n      <td>{'was_impossible': False}</td>\n      <td>34</td>\n      <td>1</td>\n      <td>1.422458</td>\n    </tr>\n    <tr>\n      <th>34</th>\n      <td>6</td>\n      <td>The Hobbit or There and Back Again</td>\n      <td>2.0</td>\n      <td>3.849466</td>\n      <td>{'was_impossible': False}</td>\n      <td>44</td>\n      <td>0</td>\n      <td>1.849466</td>\n    </tr>\n    <tr>\n      <th>22</th>\n      <td>8</td>\n      <td>Great Expectations</td>\n      <td>2.0</td>\n      <td>4.095797</td>\n      <td>{'was_impossible': False}</td>\n      <td>34</td>\n      <td>2</td>\n      <td>2.095797</td>\n    </tr>\n    <tr>\n      <th>1</th>\n      <td>9</td>\n      <td>Atonement</td>\n      <td>2.0</td>\n      <td>4.286344</td>\n      <td>{'was_impossible': False}</td>\n      <td>34</td>\n      <td>0</td>\n      <td>2.286344</td>\n    </tr>\n  </tbody>\n</table>\n</div>"
     },
     "metadata": {},
     "execution_count": 169
    }
   ],
   "source": [
    "worst_predictions"
   ]
  },
  {
   "cell_type": "code",
   "execution_count": 173,
   "metadata": {},
   "outputs": [
    {
     "output_type": "execute_result",
     "data": {
      "text/plain": "    user_id                                         book_title  rui       est  \\\n4         7                                       The Bell Jar  4.0  3.963220   \n12        6                                                 It  5.0  3.936835   \n14        6                              The Lord of the Rings  4.0  3.997653   \n16        5                                   The Hunger Games  3.0  3.938515   \n18        7                                Beautiful Creatures  5.0  3.707809   \n23        6               The Immortal Life of Henrietta Lacks  4.0  3.849466   \n26        7                               The Poisonwood Bible  5.0  3.907525   \n30        6                                      Catching Fire  4.0  3.847333   \n34        6                 The Hobbit or There and Back Again  2.0  3.849466   \n37        6                                           The Road  5.0  3.849466   \n40        7                                          Atonement  4.0  3.963220   \n41        6                                          Allegiant  5.0  3.849466   \n44       11                                  The Titan's Curse  4.0  3.975192   \n47        7  Wicked: The Life and Times of the Wicked Witch...  5.0  3.963220   \n\n                      details  item_rated_by_user  users_rated_on_item  \\\n4   {'was_impossible': False}                  38                    0   \n12  {'was_impossible': False}                  44                    2   \n14  {'was_impossible': False}                  44                    2   \n16  {'was_impossible': False}                  37                    2   \n18  {'was_impossible': False}                  38                    2   \n23  {'was_impossible': False}                  44                    0   \n26  {'was_impossible': False}                  38                    4   \n30  {'was_impossible': False}                  44                    2   \n34  {'was_impossible': False}                  44                    0   \n37  {'was_impossible': False}                  44                    0   \n40  {'was_impossible': False}                  38                    0   \n41  {'was_impossible': False}                  44                    0   \n44  {'was_impossible': False}                   1                    0   \n47  {'was_impossible': False}                  38                    0   \n\n         err  \n4   0.036780  \n12  1.063165  \n14  0.002347  \n16  0.938515  \n18  1.292191  \n23  0.150534  \n26  1.092475  \n30  0.152667  \n34  1.849466  \n37  1.150534  \n40  0.036780  \n41  1.150534  \n44  0.024808  \n47  1.036780  ",
      "text/html": "<div>\n<style scoped>\n    .dataframe tbody tr th:only-of-type {\n        vertical-align: middle;\n    }\n\n    .dataframe tbody tr th {\n        vertical-align: top;\n    }\n\n    .dataframe thead th {\n        text-align: right;\n    }\n</style>\n<table border=\"1\" class=\"dataframe\">\n  <thead>\n    <tr style=\"text-align: right;\">\n      <th></th>\n      <th>user_id</th>\n      <th>book_title</th>\n      <th>rui</th>\n      <th>est</th>\n      <th>details</th>\n      <th>item_rated_by_user</th>\n      <th>users_rated_on_item</th>\n      <th>err</th>\n    </tr>\n  </thead>\n  <tbody>\n    <tr>\n      <th>4</th>\n      <td>7</td>\n      <td>The Bell Jar</td>\n      <td>4.0</td>\n      <td>3.963220</td>\n      <td>{'was_impossible': False}</td>\n      <td>38</td>\n      <td>0</td>\n      <td>0.036780</td>\n    </tr>\n    <tr>\n      <th>12</th>\n      <td>6</td>\n      <td>It</td>\n      <td>5.0</td>\n      <td>3.936835</td>\n      <td>{'was_impossible': False}</td>\n      <td>44</td>\n      <td>2</td>\n      <td>1.063165</td>\n    </tr>\n    <tr>\n      <th>14</th>\n      <td>6</td>\n      <td>The Lord of the Rings</td>\n      <td>4.0</td>\n      <td>3.997653</td>\n      <td>{'was_impossible': False}</td>\n      <td>44</td>\n      <td>2</td>\n      <td>0.002347</td>\n    </tr>\n    <tr>\n      <th>16</th>\n      <td>5</td>\n      <td>The Hunger Games</td>\n      <td>3.0</td>\n      <td>3.938515</td>\n      <td>{'was_impossible': False}</td>\n      <td>37</td>\n      <td>2</td>\n      <td>0.938515</td>\n    </tr>\n    <tr>\n      <th>18</th>\n      <td>7</td>\n      <td>Beautiful Creatures</td>\n      <td>5.0</td>\n      <td>3.707809</td>\n      <td>{'was_impossible': False}</td>\n      <td>38</td>\n      <td>2</td>\n      <td>1.292191</td>\n    </tr>\n    <tr>\n      <th>23</th>\n      <td>6</td>\n      <td>The Immortal Life of Henrietta Lacks</td>\n      <td>4.0</td>\n      <td>3.849466</td>\n      <td>{'was_impossible': False}</td>\n      <td>44</td>\n      <td>0</td>\n      <td>0.150534</td>\n    </tr>\n    <tr>\n      <th>26</th>\n      <td>7</td>\n      <td>The Poisonwood Bible</td>\n      <td>5.0</td>\n      <td>3.907525</td>\n      <td>{'was_impossible': False}</td>\n      <td>38</td>\n      <td>4</td>\n      <td>1.092475</td>\n    </tr>\n    <tr>\n      <th>30</th>\n      <td>6</td>\n      <td>Catching Fire</td>\n      <td>4.0</td>\n      <td>3.847333</td>\n      <td>{'was_impossible': False}</td>\n      <td>44</td>\n      <td>2</td>\n      <td>0.152667</td>\n    </tr>\n    <tr>\n      <th>34</th>\n      <td>6</td>\n      <td>The Hobbit or There and Back Again</td>\n      <td>2.0</td>\n      <td>3.849466</td>\n      <td>{'was_impossible': False}</td>\n      <td>44</td>\n      <td>0</td>\n      <td>1.849466</td>\n    </tr>\n    <tr>\n      <th>37</th>\n      <td>6</td>\n      <td>The Road</td>\n      <td>5.0</td>\n      <td>3.849466</td>\n      <td>{'was_impossible': False}</td>\n      <td>44</td>\n      <td>0</td>\n      <td>1.150534</td>\n    </tr>\n    <tr>\n      <th>40</th>\n      <td>7</td>\n      <td>Atonement</td>\n      <td>4.0</td>\n      <td>3.963220</td>\n      <td>{'was_impossible': False}</td>\n      <td>38</td>\n      <td>0</td>\n      <td>0.036780</td>\n    </tr>\n    <tr>\n      <th>41</th>\n      <td>6</td>\n      <td>Allegiant</td>\n      <td>5.0</td>\n      <td>3.849466</td>\n      <td>{'was_impossible': False}</td>\n      <td>44</td>\n      <td>0</td>\n      <td>1.150534</td>\n    </tr>\n    <tr>\n      <th>44</th>\n      <td>11</td>\n      <td>The Titan's Curse</td>\n      <td>4.0</td>\n      <td>3.975192</td>\n      <td>{'was_impossible': False}</td>\n      <td>1</td>\n      <td>0</td>\n      <td>0.024808</td>\n    </tr>\n    <tr>\n      <th>47</th>\n      <td>7</td>\n      <td>Wicked: The Life and Times of the Wicked Witch...</td>\n      <td>5.0</td>\n      <td>3.963220</td>\n      <td>{'was_impossible': False}</td>\n      <td>38</td>\n      <td>0</td>\n      <td>1.036780</td>\n    </tr>\n  </tbody>\n</table>\n</div>"
     },
     "metadata": {},
     "execution_count": 173
    }
   ],
   "source": [
    "predictions_data[predictions_data['est'] < 4]"
   ]
  },
  {
   "cell_type": "code",
   "execution_count": 174,
   "metadata": {},
   "outputs": [
    {
     "output_type": "execute_result",
     "data": {
      "text/plain": "    user_id                          book_title  rui       est  \\\n1         9                           Atonement  2.0  4.286344   \n22        8                  Great Expectations  2.0  4.095797   \n34        6  The Hobbit or There and Back Again  2.0  3.849466   \n\n                      details  item_rated_by_user  users_rated_on_item  \\\n1   {'was_impossible': False}                  34                    0   \n22  {'was_impossible': False}                  34                    2   \n34  {'was_impossible': False}                  44                    0   \n\n         err  \n1   2.286344  \n22  2.095797  \n34  1.849466  ",
      "text/html": "<div>\n<style scoped>\n    .dataframe tbody tr th:only-of-type {\n        vertical-align: middle;\n    }\n\n    .dataframe tbody tr th {\n        vertical-align: top;\n    }\n\n    .dataframe thead th {\n        text-align: right;\n    }\n</style>\n<table border=\"1\" class=\"dataframe\">\n  <thead>\n    <tr style=\"text-align: right;\">\n      <th></th>\n      <th>user_id</th>\n      <th>book_title</th>\n      <th>rui</th>\n      <th>est</th>\n      <th>details</th>\n      <th>item_rated_by_user</th>\n      <th>users_rated_on_item</th>\n      <th>err</th>\n    </tr>\n  </thead>\n  <tbody>\n    <tr>\n      <th>1</th>\n      <td>9</td>\n      <td>Atonement</td>\n      <td>2.0</td>\n      <td>4.286344</td>\n      <td>{'was_impossible': False}</td>\n      <td>34</td>\n      <td>0</td>\n      <td>2.286344</td>\n    </tr>\n    <tr>\n      <th>22</th>\n      <td>8</td>\n      <td>Great Expectations</td>\n      <td>2.0</td>\n      <td>4.095797</td>\n      <td>{'was_impossible': False}</td>\n      <td>34</td>\n      <td>2</td>\n      <td>2.095797</td>\n    </tr>\n    <tr>\n      <th>34</th>\n      <td>6</td>\n      <td>The Hobbit or There and Back Again</td>\n      <td>2.0</td>\n      <td>3.849466</td>\n      <td>{'was_impossible': False}</td>\n      <td>44</td>\n      <td>0</td>\n      <td>1.849466</td>\n    </tr>\n  </tbody>\n</table>\n</div>"
     },
     "metadata": {},
     "execution_count": 174
    }
   ],
   "source": [
    "predictions_data[predictions_data['rui'] < 3]"
   ]
  },
  {
   "cell_type": "code",
   "execution_count": 171,
   "metadata": {},
   "outputs": [
    {
     "output_type": "execute_result",
     "data": {
      "text/plain": "0    3\n1    4\n2    4\n3    3\n4    4\n5    4\nName: rating, dtype: int64"
     },
     "metadata": {},
     "execution_count": 171
    }
   ],
   "source": [
    "books_data.loc[books_data['book_title'] == \"DAA\"]['rating']"
   ]
  },
  {
   "cell_type": "code",
   "execution_count": 176,
   "metadata": {},
   "outputs": [
    {
     "output_type": "execute_result",
     "data": {
      "text/plain": "(240, 12)"
     },
     "metadata": {},
     "execution_count": 176
    }
   ],
   "source": []
  },
  {
   "cell_type": "code",
   "execution_count": null,
   "metadata": {},
   "outputs": [],
   "source": []
  }
 ],
 "metadata": {
  "language_info": {
   "codemirror_mode": {
    "name": "ipython",
    "version": 3
   },
   "file_extension": ".py",
   "mimetype": "text/x-python",
   "name": "python",
   "nbconvert_exporter": "python",
   "pygments_lexer": "ipython3",
   "version": "3.6.9-final"
  },
  "orig_nbformat": 2,
  "kernelspec": {
   "name": "python36964bit2970312a94514bd6b565c73c64a26829",
   "display_name": "Python 3.6.9 64-bit"
  }
 },
 "nbformat": 4,
 "nbformat_minor": 2
}