{
 "cells": [
  {
   "cell_type": "code",
   "execution_count": 1,
   "metadata": {},
   "outputs": [],
   "source": [
    "import numpy as np\n",
    "import pandas as pd\n",
    "import matplotlib.pyplot as plt\n",
    "%matplotlib inline\n",
    ""
   ]
  },
  {
   "cell_type": "markdown",
   "metadata": {},
   "source": [
    "### Fetch data from sqlite3 to pandas dataframe"
   ]
  },
  {
   "cell_type": "code",
   "execution_count": 2,
   "metadata": {},
   "outputs": [],
   "source": [
    "import sqlite3\n",
    "\n",
    "conn = sqlite3.connect('../db.sqlite3')"
   ]
  },
  {
   "cell_type": "code",
   "execution_count": 3,
   "metadata": {},
   "outputs": [
    {
     "output_type": "execute_result",
     "data": {
      "text/plain": "   id                                     title               publisher  \\\n0   5                                       DAA                   suman   \n1   6                                       DBA                     ram   \n2   7                              cryptography                     ram   \n3   8                          The Hunger Games  Harper Collins Collins   \n4   9  Harry Potter and the Philosopher's Stone  Harper Collins Collins   \n\n                        author  \\\n0                       suuman   \n1                        thapa   \n2                        thapa   \n3              Suzanne Collins   \n4  J.K. Rowling, Mary GrandPré   \n\n                                               image  category_id  available  \n0  book/02_-_Python_e_Django.jpg.250x250_q85_crop...            2          0  \n1                                      book/pos6.jpg            2          1  \n2                                      book/baag.jpg            1          1  \n3  https://images.gr-assets.com/books/1447303603m...            3          7  \n4  https://images.gr-assets.com/books/1474154022m...            4         24  ",
      "text/html": "<div>\n<style scoped>\n    .dataframe tbody tr th:only-of-type {\n        vertical-align: middle;\n    }\n\n    .dataframe tbody tr th {\n        vertical-align: top;\n    }\n\n    .dataframe thead th {\n        text-align: right;\n    }\n</style>\n<table border=\"1\" class=\"dataframe\">\n  <thead>\n    <tr style=\"text-align: right;\">\n      <th></th>\n      <th>id</th>\n      <th>title</th>\n      <th>publisher</th>\n      <th>author</th>\n      <th>image</th>\n      <th>category_id</th>\n      <th>available</th>\n    </tr>\n  </thead>\n  <tbody>\n    <tr>\n      <th>0</th>\n      <td>5</td>\n      <td>DAA</td>\n      <td>suman</td>\n      <td>suuman</td>\n      <td>book/02_-_Python_e_Django.jpg.250x250_q85_crop...</td>\n      <td>2</td>\n      <td>0</td>\n    </tr>\n    <tr>\n      <th>1</th>\n      <td>6</td>\n      <td>DBA</td>\n      <td>ram</td>\n      <td>thapa</td>\n      <td>book/pos6.jpg</td>\n      <td>2</td>\n      <td>1</td>\n    </tr>\n    <tr>\n      <th>2</th>\n      <td>7</td>\n      <td>cryptography</td>\n      <td>ram</td>\n      <td>thapa</td>\n      <td>book/baag.jpg</td>\n      <td>1</td>\n      <td>1</td>\n    </tr>\n    <tr>\n      <th>3</th>\n      <td>8</td>\n      <td>The Hunger Games</td>\n      <td>Harper Collins Collins</td>\n      <td>Suzanne Collins</td>\n      <td>https://images.gr-assets.com/books/1447303603m...</td>\n      <td>3</td>\n      <td>7</td>\n    </tr>\n    <tr>\n      <th>4</th>\n      <td>9</td>\n      <td>Harry Potter and the Philosopher's Stone</td>\n      <td>Harper Collins Collins</td>\n      <td>J.K. Rowling, Mary GrandPré</td>\n      <td>https://images.gr-assets.com/books/1474154022m...</td>\n      <td>4</td>\n      <td>24</td>\n    </tr>\n  </tbody>\n</table>\n</div>"
     },
     "metadata": {},
     "execution_count": 3
    }
   ],
   "source": [
    "\n",
    "FETCH_BOOK_QUERY = \"SELECT `id`, `title`, `publisher`, `author`, `image`, `category_id`, `available` FROM `libraryapp_book` \"\n",
    "\n",
    "book_list = pd.read_sql_query(FETCH_BOOK_QUERY, conn)\n",
    "book_list.head()"
   ]
  },
  {
   "cell_type": "code",
   "execution_count": 4,
   "metadata": {},
   "outputs": [
    {
     "output_type": "execute_result",
     "data": {
      "text/plain": "id             205\ntitle          205\npublisher      205\nauthor         205\nimage          205\ncategory_id    205\navailable      205\ndtype: int64"
     },
     "metadata": {},
     "execution_count": 4
    }
   ],
   "source": [
    "book_list.count()"
   ]
  },
  {
   "cell_type": "code",
   "execution_count": 5,
   "metadata": {},
   "outputs": [
    {
     "output_type": "execute_result",
     "data": {
      "text/plain": "     book_id                                         book_title  \\\n0          5                                                DAA   \n1          6                                                DBA   \n2          7                                       cryptography   \n3          8                                   The Hunger Games   \n4          9           Harry Potter and the Philosopher's Stone   \n..       ...                                                ...   \n200      205  The Devil in the White City: Murder, Magic, an...   \n201      206                                       Bared to You   \n202      207                           The Chronicles of Narnia   \n203      208  Twilight: The Complete Illustrated Movie Compa...   \n204      209                                         Networking   \n\n                       publisher                       author  \\\n0                          suman                       suuman   \n1                            ram                        thapa   \n2                            ram                        thapa   \n3         Harper Collins Collins              Suzanne Collins   \n4         Harper Collins Collins  J.K. Rowling, Mary GrandPré   \n..                           ...                          ...   \n200               New Directions    Erik Larson, Tony Goldwyn   \n201                    Actes Sud                   Sylvia Day   \n202  Penguin Books Ltd. (London)   C.S. Lewis, Pauline Baynes   \n203                Business Plus               Mark Cotta Vaz   \n204                      Pearson                      Unknown   \n\n                                            book_image  category_id  available  \n0    book/02_-_Python_e_Django.jpg.250x250_q85_crop...            2          0  \n1                                        book/pos6.jpg            2          1  \n2                                        book/baag.jpg            1          1  \n3    https://images.gr-assets.com/books/1447303603m...            3          7  \n4    https://images.gr-assets.com/books/1474154022m...            4         24  \n..                                                 ...          ...        ...  \n200  https://images.gr-assets.com/books/1312066724m...            3         47  \n201  https://images.gr-assets.com/books/1477803272m...            4         26  \n202  https://images.gr-assets.com/books/1449868701m...            3         30  \n203  https://images.gr-assets.com/books/1352539022m...            4         49  \n204                      book/alone-tree-sunset-qe.jpg            2          3  \n\n[205 rows x 7 columns]",
      "text/html": "<div>\n<style scoped>\n    .dataframe tbody tr th:only-of-type {\n        vertical-align: middle;\n    }\n\n    .dataframe tbody tr th {\n        vertical-align: top;\n    }\n\n    .dataframe thead th {\n        text-align: right;\n    }\n</style>\n<table border=\"1\" class=\"dataframe\">\n  <thead>\n    <tr style=\"text-align: right;\">\n      <th></th>\n      <th>book_id</th>\n      <th>book_title</th>\n      <th>publisher</th>\n      <th>author</th>\n      <th>book_image</th>\n      <th>category_id</th>\n      <th>available</th>\n    </tr>\n  </thead>\n  <tbody>\n    <tr>\n      <th>0</th>\n      <td>5</td>\n      <td>DAA</td>\n      <td>suman</td>\n      <td>suuman</td>\n      <td>book/02_-_Python_e_Django.jpg.250x250_q85_crop...</td>\n      <td>2</td>\n      <td>0</td>\n    </tr>\n    <tr>\n      <th>1</th>\n      <td>6</td>\n      <td>DBA</td>\n      <td>ram</td>\n      <td>thapa</td>\n      <td>book/pos6.jpg</td>\n      <td>2</td>\n      <td>1</td>\n    </tr>\n    <tr>\n      <th>2</th>\n      <td>7</td>\n      <td>cryptography</td>\n      <td>ram</td>\n      <td>thapa</td>\n      <td>book/baag.jpg</td>\n      <td>1</td>\n      <td>1</td>\n    </tr>\n    <tr>\n      <th>3</th>\n      <td>8</td>\n      <td>The Hunger Games</td>\n      <td>Harper Collins Collins</td>\n      <td>Suzanne Collins</td>\n      <td>https://images.gr-assets.com/books/1447303603m...</td>\n      <td>3</td>\n      <td>7</td>\n    </tr>\n    <tr>\n      <th>4</th>\n      <td>9</td>\n      <td>Harry Potter and the Philosopher's Stone</td>\n      <td>Harper Collins Collins</td>\n      <td>J.K. Rowling, Mary GrandPré</td>\n      <td>https://images.gr-assets.com/books/1474154022m...</td>\n      <td>4</td>\n      <td>24</td>\n    </tr>\n    <tr>\n      <th>...</th>\n      <td>...</td>\n      <td>...</td>\n      <td>...</td>\n      <td>...</td>\n      <td>...</td>\n      <td>...</td>\n      <td>...</td>\n    </tr>\n    <tr>\n      <th>200</th>\n      <td>205</td>\n      <td>The Devil in the White City: Murder, Magic, an...</td>\n      <td>New Directions</td>\n      <td>Erik Larson, Tony Goldwyn</td>\n      <td>https://images.gr-assets.com/books/1312066724m...</td>\n      <td>3</td>\n      <td>47</td>\n    </tr>\n    <tr>\n      <th>201</th>\n      <td>206</td>\n      <td>Bared to You</td>\n      <td>Actes Sud</td>\n      <td>Sylvia Day</td>\n      <td>https://images.gr-assets.com/books/1477803272m...</td>\n      <td>4</td>\n      <td>26</td>\n    </tr>\n    <tr>\n      <th>202</th>\n      <td>207</td>\n      <td>The Chronicles of Narnia</td>\n      <td>Penguin Books Ltd. (London)</td>\n      <td>C.S. Lewis, Pauline Baynes</td>\n      <td>https://images.gr-assets.com/books/1449868701m...</td>\n      <td>3</td>\n      <td>30</td>\n    </tr>\n    <tr>\n      <th>203</th>\n      <td>208</td>\n      <td>Twilight: The Complete Illustrated Movie Compa...</td>\n      <td>Business Plus</td>\n      <td>Mark Cotta Vaz</td>\n      <td>https://images.gr-assets.com/books/1352539022m...</td>\n      <td>4</td>\n      <td>49</td>\n    </tr>\n    <tr>\n      <th>204</th>\n      <td>209</td>\n      <td>Networking</td>\n      <td>Pearson</td>\n      <td>Unknown</td>\n      <td>book/alone-tree-sunset-qe.jpg</td>\n      <td>2</td>\n      <td>3</td>\n    </tr>\n  </tbody>\n</table>\n<p>205 rows × 7 columns</p>\n</div>"
     },
     "metadata": {},
     "execution_count": 5
    }
   ],
   "source": [
    "# rename book list dataframe columns\n",
    "books = book_list.rename(\n",
    "    {'id': 'book_id', 'title': 'book_title', 'image': 'book_image'}, axis=1)\n",
    "books"
   ]
  },
  {
   "cell_type": "code",
   "execution_count": 6,
   "metadata": {},
   "outputs": [
    {
     "output_type": "execute_result",
     "data": {
      "text/plain": "   category_id category_title  \\\n0            1    interseting   \n1            2    educational   \n2            3        Fiction   \n3            4        Fantasy   \n\n                                      category_image  \n0                         bookcategory/download.jpeg  \n1                                bookcategory/e1.jpg  \n2  https://www.google.com/url?sa=i&url=https%3A%2...  \n3  https://www.google.com/url?sa=i&url=https%3A%2...  ",
      "text/html": "<div>\n<style scoped>\n    .dataframe tbody tr th:only-of-type {\n        vertical-align: middle;\n    }\n\n    .dataframe tbody tr th {\n        vertical-align: top;\n    }\n\n    .dataframe thead th {\n        text-align: right;\n    }\n</style>\n<table border=\"1\" class=\"dataframe\">\n  <thead>\n    <tr style=\"text-align: right;\">\n      <th></th>\n      <th>category_id</th>\n      <th>category_title</th>\n      <th>category_image</th>\n    </tr>\n  </thead>\n  <tbody>\n    <tr>\n      <th>0</th>\n      <td>1</td>\n      <td>interseting</td>\n      <td>bookcategory/download.jpeg</td>\n    </tr>\n    <tr>\n      <th>1</th>\n      <td>2</td>\n      <td>educational</td>\n      <td>bookcategory/e1.jpg</td>\n    </tr>\n    <tr>\n      <th>2</th>\n      <td>3</td>\n      <td>Fiction</td>\n      <td>https://www.google.com/url?sa=i&amp;url=https%3A%2...</td>\n    </tr>\n    <tr>\n      <th>3</th>\n      <td>4</td>\n      <td>Fantasy</td>\n      <td>https://www.google.com/url?sa=i&amp;url=https%3A%2...</td>\n    </tr>\n  </tbody>\n</table>\n</div>"
     },
     "metadata": {},
     "execution_count": 6
    }
   ],
   "source": [
    "books_category = pd.read_sql_query(\"SELECT `id` as `category_id`, `title` as `category_title`, `image` as `category_image` FROM `libraryapp_bookcategory`\", conn)\n",
    "\n",
    "books_category.head()"
   ]
  },
  {
   "cell_type": "code",
   "execution_count": 7,
   "metadata": {},
   "outputs": [
    {
     "output_type": "execute_result",
     "data": {
      "text/plain": "     book_id                                         book_title  \\\n0          5                                                DAA   \n1          6                                                DBA   \n2        209                                         Networking   \n3          7                                       cryptography   \n4          8                                   The Hunger Games   \n..       ...                                                ...   \n200      197                                  One for the Money   \n201      202                                    Die Verwandlung   \n202      203                                  The Titan's Curse   \n203      206                                       Bared to You   \n204      208  Twilight: The Complete Illustrated Movie Compa...   \n\n                  publisher                         author  \\\n0                     suman                         suuman   \n1                       ram                          thapa   \n2                   Pearson                        Unknown   \n3                       ram                          thapa   \n4    Harper Collins Collins                Suzanne Collins   \n..                      ...                            ...   \n200           Penguin Books                Janet Evanovich   \n201           Penguin Books  Franz Kafka, Stanley Corngold   \n202    Henry Holt & Company                   Rick Riordan   \n203               Actes Sud                     Sylvia Day   \n204           Business Plus                 Mark Cotta Vaz   \n\n                                            book_image  category_id  \\\n0    book/02_-_Python_e_Django.jpg.250x250_q85_crop...            2   \n1                                        book/pos6.jpg            2   \n2                        book/alone-tree-sunset-qe.jpg            2   \n3                                        book/baag.jpg            1   \n4    https://images.gr-assets.com/books/1447303603m...            3   \n..                                                 ...          ...   \n200  https://images.gr-assets.com/books/1316730230m...            4   \n201  https://images.gr-assets.com/books/1359061917m...            4   \n202  https://images.gr-assets.com/books/1361038385m...            4   \n203  https://images.gr-assets.com/books/1477803272m...            4   \n204  https://images.gr-assets.com/books/1352539022m...            4   \n\n     available category_title  \\\n0            0    educational   \n1            1    educational   \n2            3    educational   \n3            1    interseting   \n4            7        Fiction   \n..         ...            ...   \n200         26        Fantasy   \n201          6        Fantasy   \n202         26        Fantasy   \n203         26        Fantasy   \n204         49        Fantasy   \n\n                                        category_image  \n0                                  bookcategory/e1.jpg  \n1                                  bookcategory/e1.jpg  \n2                                  bookcategory/e1.jpg  \n3                           bookcategory/download.jpeg  \n4    https://www.google.com/url?sa=i&url=https%3A%2...  \n..                                                 ...  \n200  https://www.google.com/url?sa=i&url=https%3A%2...  \n201  https://www.google.com/url?sa=i&url=https%3A%2...  \n202  https://www.google.com/url?sa=i&url=https%3A%2...  \n203  https://www.google.com/url?sa=i&url=https%3A%2...  \n204  https://www.google.com/url?sa=i&url=https%3A%2...  \n\n[205 rows x 9 columns]",
      "text/html": "<div>\n<style scoped>\n    .dataframe tbody tr th:only-of-type {\n        vertical-align: middle;\n    }\n\n    .dataframe tbody tr th {\n        vertical-align: top;\n    }\n\n    .dataframe thead th {\n        text-align: right;\n    }\n</style>\n<table border=\"1\" class=\"dataframe\">\n  <thead>\n    <tr style=\"text-align: right;\">\n      <th></th>\n      <th>book_id</th>\n      <th>book_title</th>\n      <th>publisher</th>\n      <th>author</th>\n      <th>book_image</th>\n      <th>category_id</th>\n      <th>available</th>\n      <th>category_title</th>\n      <th>category_image</th>\n    </tr>\n  </thead>\n  <tbody>\n    <tr>\n      <th>0</th>\n      <td>5</td>\n      <td>DAA</td>\n      <td>suman</td>\n      <td>suuman</td>\n      <td>book/02_-_Python_e_Django.jpg.250x250_q85_crop...</td>\n      <td>2</td>\n      <td>0</td>\n      <td>educational</td>\n      <td>bookcategory/e1.jpg</td>\n    </tr>\n    <tr>\n      <th>1</th>\n      <td>6</td>\n      <td>DBA</td>\n      <td>ram</td>\n      <td>thapa</td>\n      <td>book/pos6.jpg</td>\n      <td>2</td>\n      <td>1</td>\n      <td>educational</td>\n      <td>bookcategory/e1.jpg</td>\n    </tr>\n    <tr>\n      <th>2</th>\n      <td>209</td>\n      <td>Networking</td>\n      <td>Pearson</td>\n      <td>Unknown</td>\n      <td>book/alone-tree-sunset-qe.jpg</td>\n      <td>2</td>\n      <td>3</td>\n      <td>educational</td>\n      <td>bookcategory/e1.jpg</td>\n    </tr>\n    <tr>\n      <th>3</th>\n      <td>7</td>\n      <td>cryptography</td>\n      <td>ram</td>\n      <td>thapa</td>\n      <td>book/baag.jpg</td>\n      <td>1</td>\n      <td>1</td>\n      <td>interseting</td>\n      <td>bookcategory/download.jpeg</td>\n    </tr>\n    <tr>\n      <th>4</th>\n      <td>8</td>\n      <td>The Hunger Games</td>\n      <td>Harper Collins Collins</td>\n      <td>Suzanne Collins</td>\n      <td>https://images.gr-assets.com/books/1447303603m...</td>\n      <td>3</td>\n      <td>7</td>\n      <td>Fiction</td>\n      <td>https://www.google.com/url?sa=i&amp;url=https%3A%2...</td>\n    </tr>\n    <tr>\n      <th>...</th>\n      <td>...</td>\n      <td>...</td>\n      <td>...</td>\n      <td>...</td>\n      <td>...</td>\n      <td>...</td>\n      <td>...</td>\n      <td>...</td>\n      <td>...</td>\n    </tr>\n    <tr>\n      <th>200</th>\n      <td>197</td>\n      <td>One for the Money</td>\n      <td>Penguin Books</td>\n      <td>Janet Evanovich</td>\n      <td>https://images.gr-assets.com/books/1316730230m...</td>\n      <td>4</td>\n      <td>26</td>\n      <td>Fantasy</td>\n      <td>https://www.google.com/url?sa=i&amp;url=https%3A%2...</td>\n    </tr>\n    <tr>\n      <th>201</th>\n      <td>202</td>\n      <td>Die Verwandlung</td>\n      <td>Penguin Books</td>\n      <td>Franz Kafka, Stanley Corngold</td>\n      <td>https://images.gr-assets.com/books/1359061917m...</td>\n      <td>4</td>\n      <td>6</td>\n      <td>Fantasy</td>\n      <td>https://www.google.com/url?sa=i&amp;url=https%3A%2...</td>\n    </tr>\n    <tr>\n      <th>202</th>\n      <td>203</td>\n      <td>The Titan's Curse</td>\n      <td>Henry Holt &amp; Company</td>\n      <td>Rick Riordan</td>\n      <td>https://images.gr-assets.com/books/1361038385m...</td>\n      <td>4</td>\n      <td>26</td>\n      <td>Fantasy</td>\n      <td>https://www.google.com/url?sa=i&amp;url=https%3A%2...</td>\n    </tr>\n    <tr>\n      <th>203</th>\n      <td>206</td>\n      <td>Bared to You</td>\n      <td>Actes Sud</td>\n      <td>Sylvia Day</td>\n      <td>https://images.gr-assets.com/books/1477803272m...</td>\n      <td>4</td>\n      <td>26</td>\n      <td>Fantasy</td>\n      <td>https://www.google.com/url?sa=i&amp;url=https%3A%2...</td>\n    </tr>\n    <tr>\n      <th>204</th>\n      <td>208</td>\n      <td>Twilight: The Complete Illustrated Movie Compa...</td>\n      <td>Business Plus</td>\n      <td>Mark Cotta Vaz</td>\n      <td>https://images.gr-assets.com/books/1352539022m...</td>\n      <td>4</td>\n      <td>49</td>\n      <td>Fantasy</td>\n      <td>https://www.google.com/url?sa=i&amp;url=https%3A%2...</td>\n    </tr>\n  </tbody>\n</table>\n<p>205 rows × 9 columns</p>\n</div>"
     },
     "metadata": {},
     "execution_count": 7
    }
   ],
   "source": [
    "# merge books and book_category\n",
    "books_data = pd.merge(books, books_category, on='category_id')\n",
    "books_data"
   ]
  },
  {
   "cell_type": "code",
   "execution_count": 8,
   "metadata": {},
   "outputs": [
    {
     "output_type": "execute_result",
     "data": {
      "text/plain": "   id  rating  book_id  user_id\n0   1       3        5        5\n1   2       4        5        6\n2   3       4        6        6\n3   4       4        5        6\n4   5       3        5        5",
      "text/html": "<div>\n<style scoped>\n    .dataframe tbody tr th:only-of-type {\n        vertical-align: middle;\n    }\n\n    .dataframe tbody tr th {\n        vertical-align: top;\n    }\n\n    .dataframe thead th {\n        text-align: right;\n    }\n</style>\n<table border=\"1\" class=\"dataframe\">\n  <thead>\n    <tr style=\"text-align: right;\">\n      <th></th>\n      <th>id</th>\n      <th>rating</th>\n      <th>book_id</th>\n      <th>user_id</th>\n    </tr>\n  </thead>\n  <tbody>\n    <tr>\n      <th>0</th>\n      <td>1</td>\n      <td>3</td>\n      <td>5</td>\n      <td>5</td>\n    </tr>\n    <tr>\n      <th>1</th>\n      <td>2</td>\n      <td>4</td>\n      <td>5</td>\n      <td>6</td>\n    </tr>\n    <tr>\n      <th>2</th>\n      <td>3</td>\n      <td>4</td>\n      <td>6</td>\n      <td>6</td>\n    </tr>\n    <tr>\n      <th>3</th>\n      <td>4</td>\n      <td>4</td>\n      <td>5</td>\n      <td>6</td>\n    </tr>\n    <tr>\n      <th>4</th>\n      <td>5</td>\n      <td>3</td>\n      <td>5</td>\n      <td>5</td>\n    </tr>\n  </tbody>\n</table>\n</div>"
     },
     "metadata": {},
     "execution_count": 8
    }
   ],
   "source": [
    "book_ratings = pd.read_sql_query(\"SELECT `id`, `rating`, `book_id`, `user_id` from `libraryapp_bookrating` \", conn)\n",
    "book_ratings.head()"
   ]
  },
  {
   "cell_type": "markdown",
   "metadata": {},
   "source": [
    "# Into Collabarative Filtering\n",
    "---\n",
    "### Merge book_list and book_rating"
   ]
  },
  {
   "cell_type": "code",
   "execution_count": 9,
   "metadata": {},
   "outputs": [
    {
     "output_type": "execute_result",
     "data": {
      "text/plain": "     book_id                                         book_title  \\\n0          5                                                DAA   \n1          5                                                DAA   \n2          5                                                DAA   \n3          5                                                DAA   \n4          5                                                DAA   \n..       ...                                                ...   \n235      206                                       Bared to You   \n236      206                                       Bared to You   \n237      208  Twilight: The Complete Illustrated Movie Compa...   \n238      208  Twilight: The Complete Illustrated Movie Compa...   \n239      208  Twilight: The Complete Illustrated Movie Compa...   \n\n         publisher          author  \\\n0            suman          suuman   \n1            suman          suuman   \n2            suman          suuman   \n3            suman          suuman   \n4            suman          suuman   \n..             ...             ...   \n235      Actes Sud      Sylvia Day   \n236      Actes Sud      Sylvia Day   \n237  Business Plus  Mark Cotta Vaz   \n238  Business Plus  Mark Cotta Vaz   \n239  Business Plus  Mark Cotta Vaz   \n\n                                            book_image  category_id  \\\n0    book/02_-_Python_e_Django.jpg.250x250_q85_crop...            2   \n1    book/02_-_Python_e_Django.jpg.250x250_q85_crop...            2   \n2    book/02_-_Python_e_Django.jpg.250x250_q85_crop...            2   \n3    book/02_-_Python_e_Django.jpg.250x250_q85_crop...            2   \n4    book/02_-_Python_e_Django.jpg.250x250_q85_crop...            2   \n..                                                 ...          ...   \n235  https://images.gr-assets.com/books/1477803272m...            4   \n236  https://images.gr-assets.com/books/1477803272m...            4   \n237  https://images.gr-assets.com/books/1352539022m...            4   \n238  https://images.gr-assets.com/books/1352539022m...            4   \n239  https://images.gr-assets.com/books/1352539022m...            4   \n\n     available category_title  \\\n0            0    educational   \n1            0    educational   \n2            0    educational   \n3            0    educational   \n4            0    educational   \n..         ...            ...   \n235         26        Fantasy   \n236         26        Fantasy   \n237         49        Fantasy   \n238         49        Fantasy   \n239         49        Fantasy   \n\n                                        category_image   id  rating  user_id  \n0                                  bookcategory/e1.jpg    1       3        5  \n1                                  bookcategory/e1.jpg    2       4        6  \n2                                  bookcategory/e1.jpg    4       4        6  \n3                                  bookcategory/e1.jpg    5       3        5  \n4                                  bookcategory/e1.jpg    6       4        6  \n..                                                 ...  ...     ...      ...  \n235  https://www.google.com/url?sa=i&url=https%3A%2...  194       4        8  \n236  https://www.google.com/url?sa=i&url=https%3A%2...  207       5        7  \n237  https://www.google.com/url?sa=i&url=https%3A%2...   56       4        6  \n238  https://www.google.com/url?sa=i&url=https%3A%2...  233       4        8  \n239  https://www.google.com/url?sa=i&url=https%3A%2...  238       4       10  \n\n[240 rows x 12 columns]",
      "text/html": "<div>\n<style scoped>\n    .dataframe tbody tr th:only-of-type {\n        vertical-align: middle;\n    }\n\n    .dataframe tbody tr th {\n        vertical-align: top;\n    }\n\n    .dataframe thead th {\n        text-align: right;\n    }\n</style>\n<table border=\"1\" class=\"dataframe\">\n  <thead>\n    <tr style=\"text-align: right;\">\n      <th></th>\n      <th>book_id</th>\n      <th>book_title</th>\n      <th>publisher</th>\n      <th>author</th>\n      <th>book_image</th>\n      <th>category_id</th>\n      <th>available</th>\n      <th>category_title</th>\n      <th>category_image</th>\n      <th>id</th>\n      <th>rating</th>\n      <th>user_id</th>\n    </tr>\n  </thead>\n  <tbody>\n    <tr>\n      <th>0</th>\n      <td>5</td>\n      <td>DAA</td>\n      <td>suman</td>\n      <td>suuman</td>\n      <td>book/02_-_Python_e_Django.jpg.250x250_q85_crop...</td>\n      <td>2</td>\n      <td>0</td>\n      <td>educational</td>\n      <td>bookcategory/e1.jpg</td>\n      <td>1</td>\n      <td>3</td>\n      <td>5</td>\n    </tr>\n    <tr>\n      <th>1</th>\n      <td>5</td>\n      <td>DAA</td>\n      <td>suman</td>\n      <td>suuman</td>\n      <td>book/02_-_Python_e_Django.jpg.250x250_q85_crop...</td>\n      <td>2</td>\n      <td>0</td>\n      <td>educational</td>\n      <td>bookcategory/e1.jpg</td>\n      <td>2</td>\n      <td>4</td>\n      <td>6</td>\n    </tr>\n    <tr>\n      <th>2</th>\n      <td>5</td>\n      <td>DAA</td>\n      <td>suman</td>\n      <td>suuman</td>\n      <td>book/02_-_Python_e_Django.jpg.250x250_q85_crop...</td>\n      <td>2</td>\n      <td>0</td>\n      <td>educational</td>\n      <td>bookcategory/e1.jpg</td>\n      <td>4</td>\n      <td>4</td>\n      <td>6</td>\n    </tr>\n    <tr>\n      <th>3</th>\n      <td>5</td>\n      <td>DAA</td>\n      <td>suman</td>\n      <td>suuman</td>\n      <td>book/02_-_Python_e_Django.jpg.250x250_q85_crop...</td>\n      <td>2</td>\n      <td>0</td>\n      <td>educational</td>\n      <td>bookcategory/e1.jpg</td>\n      <td>5</td>\n      <td>3</td>\n      <td>5</td>\n    </tr>\n    <tr>\n      <th>4</th>\n      <td>5</td>\n      <td>DAA</td>\n      <td>suman</td>\n      <td>suuman</td>\n      <td>book/02_-_Python_e_Django.jpg.250x250_q85_crop...</td>\n      <td>2</td>\n      <td>0</td>\n      <td>educational</td>\n      <td>bookcategory/e1.jpg</td>\n      <td>6</td>\n      <td>4</td>\n      <td>6</td>\n    </tr>\n    <tr>\n      <th>...</th>\n      <td>...</td>\n      <td>...</td>\n      <td>...</td>\n      <td>...</td>\n      <td>...</td>\n      <td>...</td>\n      <td>...</td>\n      <td>...</td>\n      <td>...</td>\n      <td>...</td>\n      <td>...</td>\n      <td>...</td>\n    </tr>\n    <tr>\n      <th>235</th>\n      <td>206</td>\n      <td>Bared to You</td>\n      <td>Actes Sud</td>\n      <td>Sylvia Day</td>\n      <td>https://images.gr-assets.com/books/1477803272m...</td>\n      <td>4</td>\n      <td>26</td>\n      <td>Fantasy</td>\n      <td>https://www.google.com/url?sa=i&amp;url=https%3A%2...</td>\n      <td>194</td>\n      <td>4</td>\n      <td>8</td>\n    </tr>\n    <tr>\n      <th>236</th>\n      <td>206</td>\n      <td>Bared to You</td>\n      <td>Actes Sud</td>\n      <td>Sylvia Day</td>\n      <td>https://images.gr-assets.com/books/1477803272m...</td>\n      <td>4</td>\n      <td>26</td>\n      <td>Fantasy</td>\n      <td>https://www.google.com/url?sa=i&amp;url=https%3A%2...</td>\n      <td>207</td>\n      <td>5</td>\n      <td>7</td>\n    </tr>\n    <tr>\n      <th>237</th>\n      <td>208</td>\n      <td>Twilight: The Complete Illustrated Movie Compa...</td>\n      <td>Business Plus</td>\n      <td>Mark Cotta Vaz</td>\n      <td>https://images.gr-assets.com/books/1352539022m...</td>\n      <td>4</td>\n      <td>49</td>\n      <td>Fantasy</td>\n      <td>https://www.google.com/url?sa=i&amp;url=https%3A%2...</td>\n      <td>56</td>\n      <td>4</td>\n      <td>6</td>\n    </tr>\n    <tr>\n      <th>238</th>\n      <td>208</td>\n      <td>Twilight: The Complete Illustrated Movie Compa...</td>\n      <td>Business Plus</td>\n      <td>Mark Cotta Vaz</td>\n      <td>https://images.gr-assets.com/books/1352539022m...</td>\n      <td>4</td>\n      <td>49</td>\n      <td>Fantasy</td>\n      <td>https://www.google.com/url?sa=i&amp;url=https%3A%2...</td>\n      <td>233</td>\n      <td>4</td>\n      <td>8</td>\n    </tr>\n    <tr>\n      <th>239</th>\n      <td>208</td>\n      <td>Twilight: The Complete Illustrated Movie Compa...</td>\n      <td>Business Plus</td>\n      <td>Mark Cotta Vaz</td>\n      <td>https://images.gr-assets.com/books/1352539022m...</td>\n      <td>4</td>\n      <td>49</td>\n      <td>Fantasy</td>\n      <td>https://www.google.com/url?sa=i&amp;url=https%3A%2...</td>\n      <td>238</td>\n      <td>4</td>\n      <td>10</td>\n    </tr>\n  </tbody>\n</table>\n<p>240 rows × 12 columns</p>\n</div>"
     },
     "metadata": {},
     "execution_count": 9
    }
   ],
   "source": [
    "books_with_rating = pd.merge(books_data, book_ratings, on='book_id')\n",
    "books_with_rating"
   ]
  },
  {
   "cell_type": "code",
   "execution_count": 10,
   "metadata": {},
   "outputs": [
    {
     "output_type": "execute_result",
     "data": {
      "text/plain": "book_title\n The Fellowship of the Ring                                   2\nA Christmas Carol                                             2\nA Clockwork Orange                                            1\nA Feast for Crows                                             2\nA Game of Thrones                                             2\n                                                             ..\nWhere the Wild Things Are                                     3\nWicked: The Life and Times of the Wicked Witch of the West    1\nWuthering Heights                                             1\ncryptography                                                  4\nАнна Каренина                                                 2\nName: rating, Length: 131, dtype: int64"
     },
     "metadata": {},
     "execution_count": 10
    }
   ],
   "source": [
    "books_with_rating.groupby('book_title')['rating'].count()"
   ]
  },
  {
   "cell_type": "code",
   "execution_count": 11,
   "metadata": {},
   "outputs": [
    {
     "output_type": "error",
     "ename": "NameError",
     "evalue": "name 'book_with_rating' is not defined",
     "traceback": [
      "\u001b[0;31m---------------------------------------------------------------------------\u001b[0m",
      "\u001b[0;31mNameError\u001b[0m                                 Traceback (most recent call last)",
      "\u001b[0;32m<ipython-input-11-f338188e8804>\u001b[0m in \u001b[0;36m<module>\u001b[0;34m\u001b[0m\n\u001b[1;32m      1\u001b[0m \u001b[0mratings\u001b[0m \u001b[0;34m=\u001b[0m \u001b[0mpd\u001b[0m\u001b[0;34m.\u001b[0m\u001b[0mDataFrame\u001b[0m\u001b[0;34m(\u001b[0m\u001b[0mbooks_with_rating\u001b[0m\u001b[0;34m.\u001b[0m\u001b[0mgroupby\u001b[0m\u001b[0;34m(\u001b[0m\u001b[0;34m'book_title'\u001b[0m\u001b[0;34m)\u001b[0m\u001b[0;34m[\u001b[0m\u001b[0;34m'rating'\u001b[0m\u001b[0;34m]\u001b[0m\u001b[0;34m.\u001b[0m\u001b[0mmean\u001b[0m\u001b[0;34m(\u001b[0m\u001b[0;34m)\u001b[0m\u001b[0;34m)\u001b[0m\u001b[0;34m\u001b[0m\u001b[0;34m\u001b[0m\u001b[0m\n\u001b[0;32m----> 2\u001b[0;31m \u001b[0mratings\u001b[0m\u001b[0;34m[\u001b[0m\u001b[0;34m'total_rating'\u001b[0m\u001b[0;34m]\u001b[0m \u001b[0;34m=\u001b[0m \u001b[0mpd\u001b[0m\u001b[0;34m.\u001b[0m\u001b[0mDataFrame\u001b[0m\u001b[0;34m(\u001b[0m\u001b[0mbook_with_rating\u001b[0m\u001b[0;34m.\u001b[0m\u001b[0mgroupby\u001b[0m\u001b[0;34m(\u001b[0m\u001b[0;34m'book_title'\u001b[0m\u001b[0;34m)\u001b[0m\u001b[0;34m[\u001b[0m\u001b[0;34m'rating'\u001b[0m\u001b[0;34m]\u001b[0m\u001b[0;34m.\u001b[0m\u001b[0mcount\u001b[0m\u001b[0;34m(\u001b[0m\u001b[0;34m)\u001b[0m\u001b[0;34m)\u001b[0m\u001b[0;34m\u001b[0m\u001b[0;34m\u001b[0m\u001b[0m\n\u001b[0m\u001b[1;32m      3\u001b[0m \u001b[0mratings\u001b[0m\u001b[0;34m\u001b[0m\u001b[0;34m\u001b[0m\u001b[0m\n",
      "\u001b[0;31mNameError\u001b[0m: name 'book_with_rating' is not defined"
     ]
    }
   ],
   "source": [
    "ratings = pd.DataFrame(books_with_rating.groupby('book_title')['rating'].mean())\n",
    "ratings['total_rating'] = pd.DataFrame(book_with_rating.groupby('book_title')['rating'].count())\n",
    "ratings"
   ]
  },
  {
   "cell_type": "code",
   "execution_count": 12,
   "metadata": {},
   "outputs": [
    {
     "output_type": "error",
     "ename": "KeyError",
     "evalue": "'total_rating'",
     "traceback": [
      "\u001b[0;31m---------------------------------------------------------------------------\u001b[0m",
      "\u001b[0;31mKeyError\u001b[0m                                  Traceback (most recent call last)",
      "\u001b[0;32m~/development_tools/anaconda3/lib/python3.7/site-packages/pandas/core/indexes/base.py\u001b[0m in \u001b[0;36mget_loc\u001b[0;34m(self, key, method, tolerance)\u001b[0m\n\u001b[1;32m   2645\u001b[0m             \u001b[0;32mtry\u001b[0m\u001b[0;34m:\u001b[0m\u001b[0;34m\u001b[0m\u001b[0;34m\u001b[0m\u001b[0m\n\u001b[0;32m-> 2646\u001b[0;31m                 \u001b[0;32mreturn\u001b[0m \u001b[0mself\u001b[0m\u001b[0;34m.\u001b[0m\u001b[0m_engine\u001b[0m\u001b[0;34m.\u001b[0m\u001b[0mget_loc\u001b[0m\u001b[0;34m(\u001b[0m\u001b[0mkey\u001b[0m\u001b[0;34m)\u001b[0m\u001b[0;34m\u001b[0m\u001b[0;34m\u001b[0m\u001b[0m\n\u001b[0m\u001b[1;32m   2647\u001b[0m             \u001b[0;32mexcept\u001b[0m \u001b[0mKeyError\u001b[0m\u001b[0;34m:\u001b[0m\u001b[0;34m\u001b[0m\u001b[0;34m\u001b[0m\u001b[0m\n",
      "\u001b[0;32mpandas/_libs/index.pyx\u001b[0m in \u001b[0;36mpandas._libs.index.IndexEngine.get_loc\u001b[0;34m()\u001b[0m\n",
      "\u001b[0;32mpandas/_libs/index.pyx\u001b[0m in \u001b[0;36mpandas._libs.index.IndexEngine.get_loc\u001b[0;34m()\u001b[0m\n",
      "\u001b[0;32mpandas/_libs/hashtable_class_helper.pxi\u001b[0m in \u001b[0;36mpandas._libs.hashtable.PyObjectHashTable.get_item\u001b[0;34m()\u001b[0m\n",
      "\u001b[0;32mpandas/_libs/hashtable_class_helper.pxi\u001b[0m in \u001b[0;36mpandas._libs.hashtable.PyObjectHashTable.get_item\u001b[0;34m()\u001b[0m\n",
      "\u001b[0;31mKeyError\u001b[0m: 'total_rating'",
      "\nDuring handling of the above exception, another exception occurred:\n",
      "\u001b[0;31mKeyError\u001b[0m                                  Traceback (most recent call last)",
      "\u001b[0;32m<ipython-input-12-10eb53fe3633>\u001b[0m in \u001b[0;36m<module>\u001b[0;34m\u001b[0m\n\u001b[0;32m----> 1\u001b[0;31m \u001b[0mratings\u001b[0m\u001b[0;34m[\u001b[0m\u001b[0;34m'total_rating'\u001b[0m\u001b[0;34m]\u001b[0m\u001b[0;34m.\u001b[0m\u001b[0mhist\u001b[0m\u001b[0;34m(\u001b[0m\u001b[0mbins\u001b[0m\u001b[0;34m=\u001b[0m\u001b[0;36m70\u001b[0m\u001b[0;34m)\u001b[0m\u001b[0;34m;\u001b[0m\u001b[0;34m\u001b[0m\u001b[0;34m\u001b[0m\u001b[0m\n\u001b[0m",
      "\u001b[0;32m~/development_tools/anaconda3/lib/python3.7/site-packages/pandas/core/frame.py\u001b[0m in \u001b[0;36m__getitem__\u001b[0;34m(self, key)\u001b[0m\n\u001b[1;32m   2798\u001b[0m             \u001b[0;32mif\u001b[0m \u001b[0mself\u001b[0m\u001b[0;34m.\u001b[0m\u001b[0mcolumns\u001b[0m\u001b[0;34m.\u001b[0m\u001b[0mnlevels\u001b[0m \u001b[0;34m>\u001b[0m \u001b[0;36m1\u001b[0m\u001b[0;34m:\u001b[0m\u001b[0;34m\u001b[0m\u001b[0;34m\u001b[0m\u001b[0m\n\u001b[1;32m   2799\u001b[0m                 \u001b[0;32mreturn\u001b[0m \u001b[0mself\u001b[0m\u001b[0;34m.\u001b[0m\u001b[0m_getitem_multilevel\u001b[0m\u001b[0;34m(\u001b[0m\u001b[0mkey\u001b[0m\u001b[0;34m)\u001b[0m\u001b[0;34m\u001b[0m\u001b[0;34m\u001b[0m\u001b[0m\n\u001b[0;32m-> 2800\u001b[0;31m             \u001b[0mindexer\u001b[0m \u001b[0;34m=\u001b[0m \u001b[0mself\u001b[0m\u001b[0;34m.\u001b[0m\u001b[0mcolumns\u001b[0m\u001b[0;34m.\u001b[0m\u001b[0mget_loc\u001b[0m\u001b[0;34m(\u001b[0m\u001b[0mkey\u001b[0m\u001b[0;34m)\u001b[0m\u001b[0;34m\u001b[0m\u001b[0;34m\u001b[0m\u001b[0m\n\u001b[0m\u001b[1;32m   2801\u001b[0m             \u001b[0;32mif\u001b[0m \u001b[0mis_integer\u001b[0m\u001b[0;34m(\u001b[0m\u001b[0mindexer\u001b[0m\u001b[0;34m)\u001b[0m\u001b[0;34m:\u001b[0m\u001b[0;34m\u001b[0m\u001b[0;34m\u001b[0m\u001b[0m\n\u001b[1;32m   2802\u001b[0m                 \u001b[0mindexer\u001b[0m \u001b[0;34m=\u001b[0m \u001b[0;34m[\u001b[0m\u001b[0mindexer\u001b[0m\u001b[0;34m]\u001b[0m\u001b[0;34m\u001b[0m\u001b[0;34m\u001b[0m\u001b[0m\n",
      "\u001b[0;32m~/development_tools/anaconda3/lib/python3.7/site-packages/pandas/core/indexes/base.py\u001b[0m in \u001b[0;36mget_loc\u001b[0;34m(self, key, method, tolerance)\u001b[0m\n\u001b[1;32m   2646\u001b[0m                 \u001b[0;32mreturn\u001b[0m \u001b[0mself\u001b[0m\u001b[0;34m.\u001b[0m\u001b[0m_engine\u001b[0m\u001b[0;34m.\u001b[0m\u001b[0mget_loc\u001b[0m\u001b[0;34m(\u001b[0m\u001b[0mkey\u001b[0m\u001b[0;34m)\u001b[0m\u001b[0;34m\u001b[0m\u001b[0;34m\u001b[0m\u001b[0m\n\u001b[1;32m   2647\u001b[0m             \u001b[0;32mexcept\u001b[0m \u001b[0mKeyError\u001b[0m\u001b[0;34m:\u001b[0m\u001b[0;34m\u001b[0m\u001b[0;34m\u001b[0m\u001b[0m\n\u001b[0;32m-> 2648\u001b[0;31m                 \u001b[0;32mreturn\u001b[0m \u001b[0mself\u001b[0m\u001b[0;34m.\u001b[0m\u001b[0m_engine\u001b[0m\u001b[0;34m.\u001b[0m\u001b[0mget_loc\u001b[0m\u001b[0;34m(\u001b[0m\u001b[0mself\u001b[0m\u001b[0;34m.\u001b[0m\u001b[0m_maybe_cast_indexer\u001b[0m\u001b[0;34m(\u001b[0m\u001b[0mkey\u001b[0m\u001b[0;34m)\u001b[0m\u001b[0;34m)\u001b[0m\u001b[0;34m\u001b[0m\u001b[0;34m\u001b[0m\u001b[0m\n\u001b[0m\u001b[1;32m   2649\u001b[0m         \u001b[0mindexer\u001b[0m \u001b[0;34m=\u001b[0m \u001b[0mself\u001b[0m\u001b[0;34m.\u001b[0m\u001b[0mget_indexer\u001b[0m\u001b[0;34m(\u001b[0m\u001b[0;34m[\u001b[0m\u001b[0mkey\u001b[0m\u001b[0;34m]\u001b[0m\u001b[0;34m,\u001b[0m \u001b[0mmethod\u001b[0m\u001b[0;34m=\u001b[0m\u001b[0mmethod\u001b[0m\u001b[0;34m,\u001b[0m \u001b[0mtolerance\u001b[0m\u001b[0;34m=\u001b[0m\u001b[0mtolerance\u001b[0m\u001b[0;34m)\u001b[0m\u001b[0;34m\u001b[0m\u001b[0;34m\u001b[0m\u001b[0m\n\u001b[1;32m   2650\u001b[0m         \u001b[0;32mif\u001b[0m \u001b[0mindexer\u001b[0m\u001b[0;34m.\u001b[0m\u001b[0mndim\u001b[0m \u001b[0;34m>\u001b[0m \u001b[0;36m1\u001b[0m \u001b[0;32mor\u001b[0m \u001b[0mindexer\u001b[0m\u001b[0;34m.\u001b[0m\u001b[0msize\u001b[0m \u001b[0;34m>\u001b[0m \u001b[0;36m1\u001b[0m\u001b[0;34m:\u001b[0m\u001b[0;34m\u001b[0m\u001b[0;34m\u001b[0m\u001b[0m\n",
      "\u001b[0;32mpandas/_libs/index.pyx\u001b[0m in \u001b[0;36mpandas._libs.index.IndexEngine.get_loc\u001b[0;34m()\u001b[0m\n",
      "\u001b[0;32mpandas/_libs/index.pyx\u001b[0m in \u001b[0;36mpandas._libs.index.IndexEngine.get_loc\u001b[0;34m()\u001b[0m\n",
      "\u001b[0;32mpandas/_libs/hashtable_class_helper.pxi\u001b[0m in \u001b[0;36mpandas._libs.hashtable.PyObjectHashTable.get_item\u001b[0;34m()\u001b[0m\n",
      "\u001b[0;32mpandas/_libs/hashtable_class_helper.pxi\u001b[0m in \u001b[0;36mpandas._libs.hashtable.PyObjectHashTable.get_item\u001b[0;34m()\u001b[0m\n",
      "\u001b[0;31mKeyError\u001b[0m: 'total_rating'"
     ]
    }
   ],
   "source": [
    "ratings['total_rating'].hist(bins=70);"
   ]
  },
  {
   "cell_type": "code",
   "execution_count": 13,
   "metadata": {},
   "outputs": [
    {
     "output_type": "display_data",
     "data": {
      "text/plain": "<Figure size 432x288 with 1 Axes>",
      "image/svg+xml": "<?xml version=\"1.0\" encoding=\"utf-8\" standalone=\"no\"?>\n<!DOCTYPE svg PUBLIC \"-//W3C//DTD SVG 1.1//EN\"\n  \"http://www.w3.org/Graphics/SVG/1.1/DTD/svg11.dtd\">\n<!-- Created with matplotlib (https://matplotlib.org/) -->\n<svg height=\"248.518125pt\" version=\"1.1\" viewBox=\"0 0 368.925 248.518125\" width=\"368.925pt\" xmlns=\"http://www.w3.org/2000/svg\" xmlns:xlink=\"http://www.w3.org/1999/xlink\">\n <defs>\n  <style type=\"text/css\">\n*{stroke-linecap:butt;stroke-linejoin:round;}\n  </style>\n </defs>\n <g id=\"figure_1\">\n  <g id=\"patch_1\">\n   <path d=\"M -0 248.518125 \nL 368.925 248.518125 \nL 368.925 0 \nL -0 0 \nz\n\" style=\"fill:none;\"/>\n  </g>\n  <g id=\"axes_1\">\n   <g id=\"patch_2\">\n    <path d=\"M 26.925 224.64 \nL 361.725 224.64 \nL 361.725 7.2 \nL 26.925 7.2 \nz\n\" style=\"fill:#ffffff;\"/>\n   </g>\n   <g id=\"patch_3\">\n    <path clip-path=\"url(#p3d256a1894)\" d=\"M 42.143182 224.64 \nL 72.579545 224.64 \nL 72.579545 193.577143 \nL 42.143182 193.577143 \nz\n\" style=\"fill:#1f77b4;\"/>\n   </g>\n   <g id=\"patch_4\">\n    <path clip-path=\"url(#p3d256a1894)\" d=\"M 72.579545 224.64 \nL 103.015909 224.64 \nL 103.015909 214.285714 \nL 72.579545 214.285714 \nz\n\" style=\"fill:#1f77b4;\"/>\n   </g>\n   <g id=\"patch_5\">\n    <path clip-path=\"url(#p3d256a1894)\" d=\"M 103.015909 224.64 \nL 133.452273 224.64 \nL 133.452273 214.285714 \nL 103.015909 214.285714 \nz\n\" style=\"fill:#1f77b4;\"/>\n   </g>\n   <g id=\"patch_6\">\n    <path clip-path=\"url(#p3d256a1894)\" d=\"M 133.452273 224.64 \nL 163.888636 224.64 \nL 163.888636 162.514286 \nL 133.452273 162.514286 \nz\n\" style=\"fill:#1f77b4;\"/>\n   </g>\n   <g id=\"patch_7\">\n    <path clip-path=\"url(#p3d256a1894)\" d=\"M 163.888636 224.64 \nL 194.325 224.64 \nL 194.325 214.285714 \nL 163.888636 214.285714 \nz\n\" style=\"fill:#1f77b4;\"/>\n   </g>\n   <g id=\"patch_8\">\n    <path clip-path=\"url(#p3d256a1894)\" d=\"M 194.325 224.64 \nL 224.761364 224.64 \nL 224.761364 183.222857 \nL 194.325 183.222857 \nz\n\" style=\"fill:#1f77b4;\"/>\n   </g>\n   <g id=\"patch_9\">\n    <path clip-path=\"url(#p3d256a1894)\" d=\"M 224.761364 224.64 \nL 255.197727 224.64 \nL 255.197727 17.554286 \nL 224.761364 17.554286 \nz\n\" style=\"fill:#1f77b4;\"/>\n   </g>\n   <g id=\"patch_10\">\n    <path clip-path=\"url(#p3d256a1894)\" d=\"M 255.197727 224.64 \nL 285.634091 224.64 \nL 285.634091 198.754286 \nL 255.197727 198.754286 \nz\n\" style=\"fill:#1f77b4;\"/>\n   </g>\n   <g id=\"patch_11\">\n    <path clip-path=\"url(#p3d256a1894)\" d=\"M 285.634091 224.64 \nL 316.070455 224.64 \nL 316.070455 146.982857 \nL 285.634091 146.982857 \nz\n\" style=\"fill:#1f77b4;\"/>\n   </g>\n   <g id=\"patch_12\">\n    <path clip-path=\"url(#p3d256a1894)\" d=\"M 316.070455 224.64 \nL 346.506818 224.64 \nL 346.506818 22.731429 \nL 316.070455 22.731429 \nz\n\" style=\"fill:#1f77b4;\"/>\n   </g>\n   <g id=\"matplotlib.axis_1\">\n    <g id=\"xtick_1\">\n     <g id=\"line2d_1\">\n      <path clip-path=\"url(#p3d256a1894)\" d=\"M 42.143182 224.64 \nL 42.143182 7.2 \n\" style=\"fill:none;stroke:#b0b0b0;stroke-linecap:square;stroke-width:0.8;\"/>\n     </g>\n     <g id=\"line2d_2\">\n      <defs>\n       <path d=\"M 0 0 \nL 0 3.5 \n\" id=\"mc5b00064a2\" style=\"stroke:#000000;stroke-width:0.8;\"/>\n      </defs>\n      <g>\n       <use style=\"stroke:#000000;stroke-width:0.8;\" x=\"42.143182\" xlink:href=\"#mc5b00064a2\" y=\"224.64\"/>\n      </g>\n     </g>\n     <g id=\"text_1\">\n      <!-- 2.0 -->\n      <defs>\n       <path d=\"M 19.1875 8.296875 \nL 53.609375 8.296875 \nL 53.609375 0 \nL 7.328125 0 \nL 7.328125 8.296875 \nQ 12.9375 14.109375 22.625 23.890625 \nQ 32.328125 33.6875 34.8125 36.53125 \nQ 39.546875 41.84375 41.421875 45.53125 \nQ 43.3125 49.21875 43.3125 52.78125 \nQ 43.3125 58.59375 39.234375 62.25 \nQ 35.15625 65.921875 28.609375 65.921875 \nQ 23.96875 65.921875 18.8125 64.3125 \nQ 13.671875 62.703125 7.8125 59.421875 \nL 7.8125 69.390625 \nQ 13.765625 71.78125 18.9375 73 \nQ 24.125 74.21875 28.421875 74.21875 \nQ 39.75 74.21875 46.484375 68.546875 \nQ 53.21875 62.890625 53.21875 53.421875 \nQ 53.21875 48.921875 51.53125 44.890625 \nQ 49.859375 40.875 45.40625 35.40625 \nQ 44.1875 33.984375 37.640625 27.21875 \nQ 31.109375 20.453125 19.1875 8.296875 \nz\n\" id=\"DejaVuSans-50\"/>\n       <path d=\"M 10.6875 12.40625 \nL 21 12.40625 \nL 21 0 \nL 10.6875 0 \nz\n\" id=\"DejaVuSans-46\"/>\n       <path d=\"M 31.78125 66.40625 \nQ 24.171875 66.40625 20.328125 58.90625 \nQ 16.5 51.421875 16.5 36.375 \nQ 16.5 21.390625 20.328125 13.890625 \nQ 24.171875 6.390625 31.78125 6.390625 \nQ 39.453125 6.390625 43.28125 13.890625 \nQ 47.125 21.390625 47.125 36.375 \nQ 47.125 51.421875 43.28125 58.90625 \nQ 39.453125 66.40625 31.78125 66.40625 \nz\nM 31.78125 74.21875 \nQ 44.046875 74.21875 50.515625 64.515625 \nQ 56.984375 54.828125 56.984375 36.375 \nQ 56.984375 17.96875 50.515625 8.265625 \nQ 44.046875 -1.421875 31.78125 -1.421875 \nQ 19.53125 -1.421875 13.0625 8.265625 \nQ 6.59375 17.96875 6.59375 36.375 \nQ 6.59375 54.828125 13.0625 64.515625 \nQ 19.53125 74.21875 31.78125 74.21875 \nz\n\" id=\"DejaVuSans-48\"/>\n      </defs>\n      <g transform=\"translate(34.191619 239.238437)scale(0.1 -0.1)\">\n       <use xlink:href=\"#DejaVuSans-50\"/>\n       <use x=\"63.623047\" xlink:href=\"#DejaVuSans-46\"/>\n       <use x=\"95.410156\" xlink:href=\"#DejaVuSans-48\"/>\n      </g>\n     </g>\n    </g>\n    <g id=\"xtick_2\">\n     <g id=\"line2d_3\">\n      <path clip-path=\"url(#p3d256a1894)\" d=\"M 92.870455 224.64 \nL 92.870455 7.2 \n\" style=\"fill:none;stroke:#b0b0b0;stroke-linecap:square;stroke-width:0.8;\"/>\n     </g>\n     <g id=\"line2d_4\">\n      <g>\n       <use style=\"stroke:#000000;stroke-width:0.8;\" x=\"92.870455\" xlink:href=\"#mc5b00064a2\" y=\"224.64\"/>\n      </g>\n     </g>\n     <g id=\"text_2\">\n      <!-- 2.5 -->\n      <defs>\n       <path d=\"M 10.796875 72.90625 \nL 49.515625 72.90625 \nL 49.515625 64.59375 \nL 19.828125 64.59375 \nL 19.828125 46.734375 \nQ 21.96875 47.46875 24.109375 47.828125 \nQ 26.265625 48.1875 28.421875 48.1875 \nQ 40.625 48.1875 47.75 41.5 \nQ 54.890625 34.8125 54.890625 23.390625 \nQ 54.890625 11.625 47.5625 5.09375 \nQ 40.234375 -1.421875 26.90625 -1.421875 \nQ 22.3125 -1.421875 17.546875 -0.640625 \nQ 12.796875 0.140625 7.71875 1.703125 \nL 7.71875 11.625 \nQ 12.109375 9.234375 16.796875 8.0625 \nQ 21.484375 6.890625 26.703125 6.890625 \nQ 35.15625 6.890625 40.078125 11.328125 \nQ 45.015625 15.765625 45.015625 23.390625 \nQ 45.015625 31 40.078125 35.4375 \nQ 35.15625 39.890625 26.703125 39.890625 \nQ 22.75 39.890625 18.8125 39.015625 \nQ 14.890625 38.140625 10.796875 36.28125 \nz\n\" id=\"DejaVuSans-53\"/>\n      </defs>\n      <g transform=\"translate(84.918892 239.238437)scale(0.1 -0.1)\">\n       <use xlink:href=\"#DejaVuSans-50\"/>\n       <use x=\"63.623047\" xlink:href=\"#DejaVuSans-46\"/>\n       <use x=\"95.410156\" xlink:href=\"#DejaVuSans-53\"/>\n      </g>\n     </g>\n    </g>\n    <g id=\"xtick_3\">\n     <g id=\"line2d_5\">\n      <path clip-path=\"url(#p3d256a1894)\" d=\"M 143.597727 224.64 \nL 143.597727 7.2 \n\" style=\"fill:none;stroke:#b0b0b0;stroke-linecap:square;stroke-width:0.8;\"/>\n     </g>\n     <g id=\"line2d_6\">\n      <g>\n       <use style=\"stroke:#000000;stroke-width:0.8;\" x=\"143.597727\" xlink:href=\"#mc5b00064a2\" y=\"224.64\"/>\n      </g>\n     </g>\n     <g id=\"text_3\">\n      <!-- 3.0 -->\n      <defs>\n       <path d=\"M 40.578125 39.3125 \nQ 47.65625 37.796875 51.625 33 \nQ 55.609375 28.21875 55.609375 21.1875 \nQ 55.609375 10.40625 48.1875 4.484375 \nQ 40.765625 -1.421875 27.09375 -1.421875 \nQ 22.515625 -1.421875 17.65625 -0.515625 \nQ 12.796875 0.390625 7.625 2.203125 \nL 7.625 11.71875 \nQ 11.71875 9.328125 16.59375 8.109375 \nQ 21.484375 6.890625 26.8125 6.890625 \nQ 36.078125 6.890625 40.9375 10.546875 \nQ 45.796875 14.203125 45.796875 21.1875 \nQ 45.796875 27.640625 41.28125 31.265625 \nQ 36.765625 34.90625 28.71875 34.90625 \nL 20.21875 34.90625 \nL 20.21875 43.015625 \nL 29.109375 43.015625 \nQ 36.375 43.015625 40.234375 45.921875 \nQ 44.09375 48.828125 44.09375 54.296875 \nQ 44.09375 59.90625 40.109375 62.90625 \nQ 36.140625 65.921875 28.71875 65.921875 \nQ 24.65625 65.921875 20.015625 65.03125 \nQ 15.375 64.15625 9.8125 62.3125 \nL 9.8125 71.09375 \nQ 15.4375 72.65625 20.34375 73.4375 \nQ 25.25 74.21875 29.59375 74.21875 \nQ 40.828125 74.21875 47.359375 69.109375 \nQ 53.90625 64.015625 53.90625 55.328125 \nQ 53.90625 49.265625 50.4375 45.09375 \nQ 46.96875 40.921875 40.578125 39.3125 \nz\n\" id=\"DejaVuSans-51\"/>\n      </defs>\n      <g transform=\"translate(135.646165 239.238437)scale(0.1 -0.1)\">\n       <use xlink:href=\"#DejaVuSans-51\"/>\n       <use x=\"63.623047\" xlink:href=\"#DejaVuSans-46\"/>\n       <use x=\"95.410156\" xlink:href=\"#DejaVuSans-48\"/>\n      </g>\n     </g>\n    </g>\n    <g id=\"xtick_4\">\n     <g id=\"line2d_7\">\n      <path clip-path=\"url(#p3d256a1894)\" d=\"M 194.325 224.64 \nL 194.325 7.2 \n\" style=\"fill:none;stroke:#b0b0b0;stroke-linecap:square;stroke-width:0.8;\"/>\n     </g>\n     <g id=\"line2d_8\">\n      <g>\n       <use style=\"stroke:#000000;stroke-width:0.8;\" x=\"194.325\" xlink:href=\"#mc5b00064a2\" y=\"224.64\"/>\n      </g>\n     </g>\n     <g id=\"text_4\">\n      <!-- 3.5 -->\n      <g transform=\"translate(186.373437 239.238437)scale(0.1 -0.1)\">\n       <use xlink:href=\"#DejaVuSans-51\"/>\n       <use x=\"63.623047\" xlink:href=\"#DejaVuSans-46\"/>\n       <use x=\"95.410156\" xlink:href=\"#DejaVuSans-53\"/>\n      </g>\n     </g>\n    </g>\n    <g id=\"xtick_5\">\n     <g id=\"line2d_9\">\n      <path clip-path=\"url(#p3d256a1894)\" d=\"M 245.052273 224.64 \nL 245.052273 7.2 \n\" style=\"fill:none;stroke:#b0b0b0;stroke-linecap:square;stroke-width:0.8;\"/>\n     </g>\n     <g id=\"line2d_10\">\n      <g>\n       <use style=\"stroke:#000000;stroke-width:0.8;\" x=\"245.052273\" xlink:href=\"#mc5b00064a2\" y=\"224.64\"/>\n      </g>\n     </g>\n     <g id=\"text_5\">\n      <!-- 4.0 -->\n      <defs>\n       <path d=\"M 37.796875 64.3125 \nL 12.890625 25.390625 \nL 37.796875 25.390625 \nz\nM 35.203125 72.90625 \nL 47.609375 72.90625 \nL 47.609375 25.390625 \nL 58.015625 25.390625 \nL 58.015625 17.1875 \nL 47.609375 17.1875 \nL 47.609375 0 \nL 37.796875 0 \nL 37.796875 17.1875 \nL 4.890625 17.1875 \nL 4.890625 26.703125 \nz\n\" id=\"DejaVuSans-52\"/>\n      </defs>\n      <g transform=\"translate(237.10071 239.238437)scale(0.1 -0.1)\">\n       <use xlink:href=\"#DejaVuSans-52\"/>\n       <use x=\"63.623047\" xlink:href=\"#DejaVuSans-46\"/>\n       <use x=\"95.410156\" xlink:href=\"#DejaVuSans-48\"/>\n      </g>\n     </g>\n    </g>\n    <g id=\"xtick_6\">\n     <g id=\"line2d_11\">\n      <path clip-path=\"url(#p3d256a1894)\" d=\"M 295.779545 224.64 \nL 295.779545 7.2 \n\" style=\"fill:none;stroke:#b0b0b0;stroke-linecap:square;stroke-width:0.8;\"/>\n     </g>\n     <g id=\"line2d_12\">\n      <g>\n       <use style=\"stroke:#000000;stroke-width:0.8;\" x=\"295.779545\" xlink:href=\"#mc5b00064a2\" y=\"224.64\"/>\n      </g>\n     </g>\n     <g id=\"text_6\">\n      <!-- 4.5 -->\n      <g transform=\"translate(287.827983 239.238437)scale(0.1 -0.1)\">\n       <use xlink:href=\"#DejaVuSans-52\"/>\n       <use x=\"63.623047\" xlink:href=\"#DejaVuSans-46\"/>\n       <use x=\"95.410156\" xlink:href=\"#DejaVuSans-53\"/>\n      </g>\n     </g>\n    </g>\n    <g id=\"xtick_7\">\n     <g id=\"line2d_13\">\n      <path clip-path=\"url(#p3d256a1894)\" d=\"M 346.506818 224.64 \nL 346.506818 7.2 \n\" style=\"fill:none;stroke:#b0b0b0;stroke-linecap:square;stroke-width:0.8;\"/>\n     </g>\n     <g id=\"line2d_14\">\n      <g>\n       <use style=\"stroke:#000000;stroke-width:0.8;\" x=\"346.506818\" xlink:href=\"#mc5b00064a2\" y=\"224.64\"/>\n      </g>\n     </g>\n     <g id=\"text_7\">\n      <!-- 5.0 -->\n      <g transform=\"translate(338.555256 239.238437)scale(0.1 -0.1)\">\n       <use xlink:href=\"#DejaVuSans-53\"/>\n       <use x=\"63.623047\" xlink:href=\"#DejaVuSans-46\"/>\n       <use x=\"95.410156\" xlink:href=\"#DejaVuSans-48\"/>\n      </g>\n     </g>\n    </g>\n   </g>\n   <g id=\"matplotlib.axis_2\">\n    <g id=\"ytick_1\">\n     <g id=\"line2d_15\">\n      <path clip-path=\"url(#p3d256a1894)\" d=\"M 26.925 224.64 \nL 361.725 224.64 \n\" style=\"fill:none;stroke:#b0b0b0;stroke-linecap:square;stroke-width:0.8;\"/>\n     </g>\n     <g id=\"line2d_16\">\n      <defs>\n       <path d=\"M 0 0 \nL -3.5 0 \n\" id=\"m570b93c153\" style=\"stroke:#000000;stroke-width:0.8;\"/>\n      </defs>\n      <g>\n       <use style=\"stroke:#000000;stroke-width:0.8;\" x=\"26.925\" xlink:href=\"#m570b93c153\" y=\"224.64\"/>\n      </g>\n     </g>\n     <g id=\"text_8\">\n      <!-- 0 -->\n      <g transform=\"translate(13.5625 228.439219)scale(0.1 -0.1)\">\n       <use xlink:href=\"#DejaVuSans-48\"/>\n      </g>\n     </g>\n    </g>\n    <g id=\"ytick_2\">\n     <g id=\"line2d_17\">\n      <path clip-path=\"url(#p3d256a1894)\" d=\"M 26.925 198.754286 \nL 361.725 198.754286 \n\" style=\"fill:none;stroke:#b0b0b0;stroke-linecap:square;stroke-width:0.8;\"/>\n     </g>\n     <g id=\"line2d_18\">\n      <g>\n       <use style=\"stroke:#000000;stroke-width:0.8;\" x=\"26.925\" xlink:href=\"#m570b93c153\" y=\"198.754286\"/>\n      </g>\n     </g>\n     <g id=\"text_9\">\n      <!-- 5 -->\n      <g transform=\"translate(13.5625 202.553504)scale(0.1 -0.1)\">\n       <use xlink:href=\"#DejaVuSans-53\"/>\n      </g>\n     </g>\n    </g>\n    <g id=\"ytick_3\">\n     <g id=\"line2d_19\">\n      <path clip-path=\"url(#p3d256a1894)\" d=\"M 26.925 172.868571 \nL 361.725 172.868571 \n\" style=\"fill:none;stroke:#b0b0b0;stroke-linecap:square;stroke-width:0.8;\"/>\n     </g>\n     <g id=\"line2d_20\">\n      <g>\n       <use style=\"stroke:#000000;stroke-width:0.8;\" x=\"26.925\" xlink:href=\"#m570b93c153\" y=\"172.868571\"/>\n      </g>\n     </g>\n     <g id=\"text_10\">\n      <!-- 10 -->\n      <defs>\n       <path d=\"M 12.40625 8.296875 \nL 28.515625 8.296875 \nL 28.515625 63.921875 \nL 10.984375 60.40625 \nL 10.984375 69.390625 \nL 28.421875 72.90625 \nL 38.28125 72.90625 \nL 38.28125 8.296875 \nL 54.390625 8.296875 \nL 54.390625 0 \nL 12.40625 0 \nz\n\" id=\"DejaVuSans-49\"/>\n      </defs>\n      <g transform=\"translate(7.2 176.66779)scale(0.1 -0.1)\">\n       <use xlink:href=\"#DejaVuSans-49\"/>\n       <use x=\"63.623047\" xlink:href=\"#DejaVuSans-48\"/>\n      </g>\n     </g>\n    </g>\n    <g id=\"ytick_4\">\n     <g id=\"line2d_21\">\n      <path clip-path=\"url(#p3d256a1894)\" d=\"M 26.925 146.982857 \nL 361.725 146.982857 \n\" style=\"fill:none;stroke:#b0b0b0;stroke-linecap:square;stroke-width:0.8;\"/>\n     </g>\n     <g id=\"line2d_22\">\n      <g>\n       <use style=\"stroke:#000000;stroke-width:0.8;\" x=\"26.925\" xlink:href=\"#m570b93c153\" y=\"146.982857\"/>\n      </g>\n     </g>\n     <g id=\"text_11\">\n      <!-- 15 -->\n      <g transform=\"translate(7.2 150.782076)scale(0.1 -0.1)\">\n       <use xlink:href=\"#DejaVuSans-49\"/>\n       <use x=\"63.623047\" xlink:href=\"#DejaVuSans-53\"/>\n      </g>\n     </g>\n    </g>\n    <g id=\"ytick_5\">\n     <g id=\"line2d_23\">\n      <path clip-path=\"url(#p3d256a1894)\" d=\"M 26.925 121.097143 \nL 361.725 121.097143 \n\" style=\"fill:none;stroke:#b0b0b0;stroke-linecap:square;stroke-width:0.8;\"/>\n     </g>\n     <g id=\"line2d_24\">\n      <g>\n       <use style=\"stroke:#000000;stroke-width:0.8;\" x=\"26.925\" xlink:href=\"#m570b93c153\" y=\"121.097143\"/>\n      </g>\n     </g>\n     <g id=\"text_12\">\n      <!-- 20 -->\n      <g transform=\"translate(7.2 124.896362)scale(0.1 -0.1)\">\n       <use xlink:href=\"#DejaVuSans-50\"/>\n       <use x=\"63.623047\" xlink:href=\"#DejaVuSans-48\"/>\n      </g>\n     </g>\n    </g>\n    <g id=\"ytick_6\">\n     <g id=\"line2d_25\">\n      <path clip-path=\"url(#p3d256a1894)\" d=\"M 26.925 95.211429 \nL 361.725 95.211429 \n\" style=\"fill:none;stroke:#b0b0b0;stroke-linecap:square;stroke-width:0.8;\"/>\n     </g>\n     <g id=\"line2d_26\">\n      <g>\n       <use style=\"stroke:#000000;stroke-width:0.8;\" x=\"26.925\" xlink:href=\"#m570b93c153\" y=\"95.211429\"/>\n      </g>\n     </g>\n     <g id=\"text_13\">\n      <!-- 25 -->\n      <g transform=\"translate(7.2 99.010647)scale(0.1 -0.1)\">\n       <use xlink:href=\"#DejaVuSans-50\"/>\n       <use x=\"63.623047\" xlink:href=\"#DejaVuSans-53\"/>\n      </g>\n     </g>\n    </g>\n    <g id=\"ytick_7\">\n     <g id=\"line2d_27\">\n      <path clip-path=\"url(#p3d256a1894)\" d=\"M 26.925 69.325714 \nL 361.725 69.325714 \n\" style=\"fill:none;stroke:#b0b0b0;stroke-linecap:square;stroke-width:0.8;\"/>\n     </g>\n     <g id=\"line2d_28\">\n      <g>\n       <use style=\"stroke:#000000;stroke-width:0.8;\" x=\"26.925\" xlink:href=\"#m570b93c153\" y=\"69.325714\"/>\n      </g>\n     </g>\n     <g id=\"text_14\">\n      <!-- 30 -->\n      <g transform=\"translate(7.2 73.124933)scale(0.1 -0.1)\">\n       <use xlink:href=\"#DejaVuSans-51\"/>\n       <use x=\"63.623047\" xlink:href=\"#DejaVuSans-48\"/>\n      </g>\n     </g>\n    </g>\n    <g id=\"ytick_8\">\n     <g id=\"line2d_29\">\n      <path clip-path=\"url(#p3d256a1894)\" d=\"M 26.925 43.44 \nL 361.725 43.44 \n\" style=\"fill:none;stroke:#b0b0b0;stroke-linecap:square;stroke-width:0.8;\"/>\n     </g>\n     <g id=\"line2d_30\">\n      <g>\n       <use style=\"stroke:#000000;stroke-width:0.8;\" x=\"26.925\" xlink:href=\"#m570b93c153\" y=\"43.44\"/>\n      </g>\n     </g>\n     <g id=\"text_15\">\n      <!-- 35 -->\n      <g transform=\"translate(7.2 47.239219)scale(0.1 -0.1)\">\n       <use xlink:href=\"#DejaVuSans-51\"/>\n       <use x=\"63.623047\" xlink:href=\"#DejaVuSans-53\"/>\n      </g>\n     </g>\n    </g>\n    <g id=\"ytick_9\">\n     <g id=\"line2d_31\">\n      <path clip-path=\"url(#p3d256a1894)\" d=\"M 26.925 17.554286 \nL 361.725 17.554286 \n\" style=\"fill:none;stroke:#b0b0b0;stroke-linecap:square;stroke-width:0.8;\"/>\n     </g>\n     <g id=\"line2d_32\">\n      <g>\n       <use style=\"stroke:#000000;stroke-width:0.8;\" x=\"26.925\" xlink:href=\"#m570b93c153\" y=\"17.554286\"/>\n      </g>\n     </g>\n     <g id=\"text_16\">\n      <!-- 40 -->\n      <g transform=\"translate(7.2 21.353504)scale(0.1 -0.1)\">\n       <use xlink:href=\"#DejaVuSans-52\"/>\n       <use x=\"63.623047\" xlink:href=\"#DejaVuSans-48\"/>\n      </g>\n     </g>\n    </g>\n   </g>\n   <g id=\"patch_13\">\n    <path d=\"M 26.925 224.64 \nL 26.925 7.2 \n\" style=\"fill:none;stroke:#000000;stroke-linecap:square;stroke-linejoin:miter;stroke-width:0.8;\"/>\n   </g>\n   <g id=\"patch_14\">\n    <path d=\"M 361.725 224.64 \nL 361.725 7.2 \n\" style=\"fill:none;stroke:#000000;stroke-linecap:square;stroke-linejoin:miter;stroke-width:0.8;\"/>\n   </g>\n   <g id=\"patch_15\">\n    <path d=\"M 26.925 224.64 \nL 361.725 224.64 \n\" style=\"fill:none;stroke:#000000;stroke-linecap:square;stroke-linejoin:miter;stroke-width:0.8;\"/>\n   </g>\n   <g id=\"patch_16\">\n    <path d=\"M 26.925 7.2 \nL 361.725 7.2 \n\" style=\"fill:none;stroke:#000000;stroke-linecap:square;stroke-linejoin:miter;stroke-width:0.8;\"/>\n   </g>\n  </g>\n </g>\n <defs>\n  <clipPath id=\"p3d256a1894\">\n   <rect height=\"217.44\" width=\"334.8\" x=\"26.925\" y=\"7.2\"/>\n  </clipPath>\n </defs>\n</svg>\n",
      "image/png": "[encoded data removed]"
     },
     "metadata": {
      "needs_background": "light"
     }
    }
   ],
   "source": [
    "ratings['rating'].hist();"
   ]
  },
  {
   "cell_type": "code",
   "execution_count": 14,
   "metadata": {},
   "outputs": [
    {
     "output_type": "execute_result",
     "data": {
      "text/plain": "book_title   The Fellowship of the Ring  A Christmas Carol  \\\nuser_id                                                      \n5                                   NaN                1.0   \n6                                   NaN                5.0   \n7                                   NaN                NaN   \n8                                   5.0                NaN   \n9                                   4.0                NaN   \n10                                  NaN                NaN   \n11                                  NaN                NaN   \n\nbook_title  A Clockwork Orange  A Feast for Crows  A Game of Thrones  \\\nuser_id                                                                \n5                          NaN                4.0                NaN   \n6                          NaN                NaN                NaN   \n7                          NaN                4.0                5.0   \n8                          4.0                NaN                1.0   \n9                          NaN                NaN                NaN   \n10                         NaN                NaN                NaN   \n11                         NaN                NaN                NaN   \n\nbook_title  A Storm of Swords  A Thousand Splendid Suns  A Time to Kill  \\\nuser_id                                                                   \n5                         NaN                       3.0             NaN   \n6                         2.0                       4.0             5.0   \n7                         NaN                       NaN             5.0   \n8                         NaN                       NaN             NaN   \n9                         NaN                       NaN             NaN   \n10                        NaN                       NaN             NaN   \n11                        NaN                       NaN             NaN   \n\nbook_title  A Walk to Remember  Allegiant  ...  \\\nuser_id                                    ...   \n5                          NaN        NaN  ...   \n6                          NaN        5.0  ...   \n7                          NaN        NaN  ...   \n8                          NaN        NaN  ...   \n9                          4.0        NaN  ...   \n10                         NaN        NaN  ...   \n11                         NaN        NaN  ...   \n\nbook_title  Twilight: The Complete Illustrated Movie Companion  \\\nuser_id                                                          \n5                                                         NaN    \n6                                                         4.0    \n7                                                         NaN    \n8                                                         4.0    \n9                                                         NaN    \n10                                                        4.0    \n11                                                        NaN    \n\nbook_title  Un di Velt Hot Geshvign  \\\nuser_id                               \n5                               5.0   \n6                               4.0   \n7                               NaN   \n8                               NaN   \n9                               NaN   \n10                              NaN   \n11                              NaN   \n\nbook_title  Unbroken: A World War II Story of Survival, Resilience, and Redemption  \\\nuser_id                                                                              \n5                                                         NaN                        \n6                                                         NaN                        \n7                                                         NaN                        \n8                                                         4.0                        \n9                                                         NaN                        \n10                                                        NaN                        \n11                                                        NaN                        \n\nbook_title  Watchmen  Water for Elephants  Where the Wild Things Are  \\\nuser_id                                                                \n5                4.0                  NaN                        NaN   \n6                5.0                  NaN                        NaN   \n7                NaN                  NaN                        4.5   \n8                NaN                  4.0                        NaN   \n9                5.0                  NaN                        5.0   \n10               NaN                  NaN                        NaN   \n11               NaN                  NaN                        NaN   \n\nbook_title  Wicked: The Life and Times of the Wicked Witch of the West  \\\nuser_id                                                                  \n5                                                         NaN            \n6                                                         NaN            \n7                                                         5.0            \n8                                                         NaN            \n9                                                         NaN            \n10                                                        NaN            \n11                                                        NaN            \n\nbook_title  Wuthering Heights  cryptography  Анна Каренина  \nuser_id                                                     \n5                         NaN           NaN            NaN  \n6                         NaN      2.666667            4.0  \n7                         NaN           NaN            NaN  \n8                         5.0           NaN            5.0  \n9                         NaN           NaN            NaN  \n10                        NaN           NaN            NaN  \n11                        NaN      3.000000            NaN  \n\n[7 rows x 131 columns]",
      "text/html": "<div>\n<style scoped>\n    .dataframe tbody tr th:only-of-type {\n        vertical-align: middle;\n    }\n\n    .dataframe tbody tr th {\n        vertical-align: top;\n    }\n\n    .dataframe thead th {\n        text-align: right;\n    }\n</style>\n<table border=\"1\" class=\"dataframe\">\n  <thead>\n    <tr style=\"text-align: right;\">\n      <th>book_title</th>\n      <th>The Fellowship of the Ring</th>\n      <th>A Christmas Carol</th>\n      <th>A Clockwork Orange</th>\n      <th>A Feast for Crows</th>\n      <th>A Game of Thrones</th>\n      <th>A Storm of Swords</th>\n      <th>A Thousand Splendid Suns</th>\n      <th>A Time to Kill</th>\n      <th>A Walk to Remember</th>\n      <th>Allegiant</th>\n      <th>...</th>\n      <th>Twilight: The Complete Illustrated Movie Companion</th>\n      <th>Un di Velt Hot Geshvign</th>\n      <th>Unbroken: A World War II Story of Survival, Resilience, and Redemption</th>\n      <th>Watchmen</th>\n      <th>Water for Elephants</th>\n      <th>Where the Wild Things Are</th>\n      <th>Wicked: The Life and Times of the Wicked Witch of the West</th>\n      <th>Wuthering Heights</th>\n      <th>cryptography</th>\n      <th>Анна Каренина</th>\n    </tr>\n    <tr>\n      <th>user_id</th>\n      <th></th>\n      <th></th>\n      <th></th>\n      <th></th>\n      <th></th>\n      <th></th>\n      <th></th>\n      <th></th>\n      <th></th>\n      <th></th>\n      <th></th>\n      <th></th>\n      <th></th>\n      <th></th>\n      <th></th>\n      <th></th>\n      <th></th>\n      <th></th>\n      <th></th>\n      <th></th>\n      <th></th>\n    </tr>\n  </thead>\n  <tbody>\n    <tr>\n      <th>5</th>\n      <td>NaN</td>\n      <td>1.0</td>\n      <td>NaN</td>\n      <td>4.0</td>\n      <td>NaN</td>\n      <td>NaN</td>\n      <td>3.0</td>\n      <td>NaN</td>\n      <td>NaN</td>\n      <td>NaN</td>\n      <td>...</td>\n      <td>NaN</td>\n      <td>5.0</td>\n      <td>NaN</td>\n      <td>4.0</td>\n      <td>NaN</td>\n      <td>NaN</td>\n      <td>NaN</td>\n      <td>NaN</td>\n      <td>NaN</td>\n      <td>NaN</td>\n    </tr>\n    <tr>\n      <th>6</th>\n      <td>NaN</td>\n      <td>5.0</td>\n      <td>NaN</td>\n      <td>NaN</td>\n      <td>NaN</td>\n      <td>2.0</td>\n      <td>4.0</td>\n      <td>5.0</td>\n      <td>NaN</td>\n      <td>5.0</td>\n      <td>...</td>\n      <td>4.0</td>\n      <td>4.0</td>\n      <td>NaN</td>\n      <td>5.0</td>\n      <td>NaN</td>\n      <td>NaN</td>\n      <td>NaN</td>\n      <td>NaN</td>\n      <td>2.666667</td>\n      <td>4.0</td>\n    </tr>\n    <tr>\n      <th>7</th>\n      <td>NaN</td>\n      <td>NaN</td>\n      <td>NaN</td>\n      <td>4.0</td>\n      <td>5.0</td>\n      <td>NaN</td>\n      <td>NaN</td>\n      <td>5.0</td>\n      <td>NaN</td>\n      <td>NaN</td>\n      <td>...</td>\n      <td>NaN</td>\n      <td>NaN</td>\n      <td>NaN</td>\n      <td>NaN</td>\n      <td>NaN</td>\n      <td>4.5</td>\n      <td>5.0</td>\n      <td>NaN</td>\n      <td>NaN</td>\n      <td>NaN</td>\n    </tr>\n    <tr>\n      <th>8</th>\n      <td>5.0</td>\n      <td>NaN</td>\n      <td>4.0</td>\n      <td>NaN</td>\n      <td>1.0</td>\n      <td>NaN</td>\n      <td>NaN</td>\n      <td>NaN</td>\n      <td>NaN</td>\n      <td>NaN</td>\n      <td>...</td>\n      <td>4.0</td>\n      <td>NaN</td>\n      <td>4.0</td>\n      <td>NaN</td>\n      <td>4.0</td>\n      <td>NaN</td>\n      <td>NaN</td>\n      <td>5.0</td>\n      <td>NaN</td>\n      <td>5.0</td>\n    </tr>\n    <tr>\n      <th>9</th>\n      <td>4.0</td>\n      <td>NaN</td>\n      <td>NaN</td>\n      <td>NaN</td>\n      <td>NaN</td>\n      <td>NaN</td>\n      <td>NaN</td>\n      <td>NaN</td>\n      <td>4.0</td>\n      <td>NaN</td>\n      <td>...</td>\n      <td>NaN</td>\n      <td>NaN</td>\n      <td>NaN</td>\n      <td>5.0</td>\n      <td>NaN</td>\n      <td>5.0</td>\n      <td>NaN</td>\n      <td>NaN</td>\n      <td>NaN</td>\n      <td>NaN</td>\n    </tr>\n    <tr>\n      <th>10</th>\n      <td>NaN</td>\n      <td>NaN</td>\n      <td>NaN</td>\n      <td>NaN</td>\n      <td>NaN</td>\n      <td>NaN</td>\n      <td>NaN</td>\n      <td>NaN</td>\n      <td>NaN</td>\n      <td>NaN</td>\n      <td>...</td>\n      <td>4.0</td>\n      <td>NaN</td>\n      <td>NaN</td>\n      <td>NaN</td>\n      <td>NaN</td>\n      <td>NaN</td>\n      <td>NaN</td>\n      <td>NaN</td>\n      <td>NaN</td>\n      <td>NaN</td>\n    </tr>\n    <tr>\n      <th>11</th>\n      <td>NaN</td>\n      <td>NaN</td>\n      <td>NaN</td>\n      <td>NaN</td>\n      <td>NaN</td>\n      <td>NaN</td>\n      <td>NaN</td>\n      <td>NaN</td>\n      <td>NaN</td>\n      <td>NaN</td>\n      <td>...</td>\n      <td>NaN</td>\n      <td>NaN</td>\n      <td>NaN</td>\n      <td>NaN</td>\n      <td>NaN</td>\n      <td>NaN</td>\n      <td>NaN</td>\n      <td>NaN</td>\n      <td>3.000000</td>\n      <td>NaN</td>\n    </tr>\n  </tbody>\n</table>\n<p>7 rows × 131 columns</p>\n</div>"
     },
     "metadata": {},
     "execution_count": 14
    }
   ],
   "source": [
    "books_mat = books_with_rating.pivot_table(index='user_id',columns='book_title', values='rating')\n",
    "books_mat"
   ]
  },
  {
   "cell_type": "code",
   "execution_count": 15,
   "metadata": {},
   "outputs": [
    {
     "output_type": "execute_result",
     "data": {
      "text/plain": "131"
     },
     "metadata": {},
     "execution_count": 15
    }
   ],
   "source": [
    "len(books_mat.columns)"
   ]
  },
  {
   "cell_type": "code",
   "execution_count": 16,
   "metadata": {},
   "outputs": [
    {
     "output_type": "execute_result",
     "data": {
      "text/plain": "book_title   The Fellowship of the Ring  A Christmas Carol  \\\nuser_id                                                      \n5                                   0.0                1.0   \n6                                   0.0                5.0   \n7                                   0.0                0.0   \n8                                   5.0                0.0   \n9                                   4.0                0.0   \n10                                  0.0                0.0   \n11                                  0.0                0.0   \n\nbook_title  A Clockwork Orange  A Feast for Crows  A Game of Thrones  \\\nuser_id                                                                \n5                          0.0                4.0                0.0   \n6                          0.0                0.0                0.0   \n7                          0.0                4.0                5.0   \n8                          4.0                0.0                1.0   \n9                          0.0                0.0                0.0   \n10                         0.0                0.0                0.0   \n11                         0.0                0.0                0.0   \n\nbook_title  A Storm of Swords  A Thousand Splendid Suns  A Time to Kill  \\\nuser_id                                                                   \n5                         0.0                       3.0             0.0   \n6                         2.0                       4.0             5.0   \n7                         0.0                       0.0             5.0   \n8                         0.0                       0.0             0.0   \n9                         0.0                       0.0             0.0   \n10                        0.0                       0.0             0.0   \n11                        0.0                       0.0             0.0   \n\nbook_title  A Walk to Remember  Allegiant  ...  \\\nuser_id                                    ...   \n5                          0.0        0.0  ...   \n6                          0.0        5.0  ...   \n7                          0.0        0.0  ...   \n8                          0.0        0.0  ...   \n9                          4.0        0.0  ...   \n10                         0.0        0.0  ...   \n11                         0.0        0.0  ...   \n\nbook_title  Twilight: The Complete Illustrated Movie Companion  \\\nuser_id                                                          \n5                                                         0.0    \n6                                                         4.0    \n7                                                         0.0    \n8                                                         4.0    \n9                                                         0.0    \n10                                                        4.0    \n11                                                        0.0    \n\nbook_title  Un di Velt Hot Geshvign  \\\nuser_id                               \n5                               5.0   \n6                               4.0   \n7                               0.0   \n8                               0.0   \n9                               0.0   \n10                              0.0   \n11                              0.0   \n\nbook_title  Unbroken: A World War II Story of Survival, Resilience, and Redemption  \\\nuser_id                                                                              \n5                                                         0.0                        \n6                                                         0.0                        \n7                                                         0.0                        \n8                                                         4.0                        \n9                                                         0.0                        \n10                                                        0.0                        \n11                                                        0.0                        \n\nbook_title  Watchmen  Water for Elephants  Where the Wild Things Are  \\\nuser_id                                                                \n5                4.0                  0.0                        0.0   \n6                5.0                  0.0                        0.0   \n7                0.0                  0.0                        4.5   \n8                0.0                  4.0                        0.0   \n9                5.0                  0.0                        5.0   \n10               0.0                  0.0                        0.0   \n11               0.0                  0.0                        0.0   \n\nbook_title  Wicked: The Life and Times of the Wicked Witch of the West  \\\nuser_id                                                                  \n5                                                         0.0            \n6                                                         0.0            \n7                                                         5.0            \n8                                                         0.0            \n9                                                         0.0            \n10                                                        0.0            \n11                                                        0.0            \n\nbook_title  Wuthering Heights  cryptography  Анна Каренина  \nuser_id                                                     \n5                         0.0      0.000000            0.0  \n6                         0.0      2.666667            4.0  \n7                         0.0      0.000000            0.0  \n8                         5.0      0.000000            5.0  \n9                         0.0      0.000000            0.0  \n10                        0.0      0.000000            0.0  \n11                        0.0      3.000000            0.0  \n\n[7 rows x 131 columns]",
      "text/html": "<div>\n<style scoped>\n    .dataframe tbody tr th:only-of-type {\n        vertical-align: middle;\n    }\n\n    .dataframe tbody tr th {\n        vertical-align: top;\n    }\n\n    .dataframe thead th {\n        text-align: right;\n    }\n</style>\n<table border=\"1\" class=\"dataframe\">\n  <thead>\n    <tr style=\"text-align: right;\">\n      <th>book_title</th>\n      <th>The Fellowship of the Ring</th>\n      <th>A Christmas Carol</th>\n      <th>A Clockwork Orange</th>\n      <th>A Feast for Crows</th>\n      <th>A Game of Thrones</th>\n      <th>A Storm of Swords</th>\n      <th>A Thousand Splendid Suns</th>\n      <th>A Time to Kill</th>\n      <th>A Walk to Remember</th>\n      <th>Allegiant</th>\n      <th>...</th>\n      <th>Twilight: The Complete Illustrated Movie Companion</th>\n      <th>Un di Velt Hot Geshvign</th>\n      <th>Unbroken: A World War II Story of Survival, Resilience, and Redemption</th>\n      <th>Watchmen</th>\n      <th>Water for Elephants</th>\n      <th>Where the Wild Things Are</th>\n      <th>Wicked: The Life and Times of the Wicked Witch of the West</th>\n      <th>Wuthering Heights</th>\n      <th>cryptography</th>\n      <th>Анна Каренина</th>\n    </tr>\n    <tr>\n      <th>user_id</th>\n      <th></th>\n      <th></th>\n      <th></th>\n      <th></th>\n      <th></th>\n      <th></th>\n      <th></th>\n      <th></th>\n      <th></th>\n      <th></th>\n      <th></th>\n      <th></th>\n      <th></th>\n      <th></th>\n      <th></th>\n      <th></th>\n      <th></th>\n      <th></th>\n      <th></th>\n      <th></th>\n      <th></th>\n    </tr>\n  </thead>\n  <tbody>\n    <tr>\n      <th>5</th>\n      <td>0.0</td>\n      <td>1.0</td>\n      <td>0.0</td>\n      <td>4.0</td>\n      <td>0.0</td>\n      <td>0.0</td>\n      <td>3.0</td>\n      <td>0.0</td>\n      <td>0.0</td>\n      <td>0.0</td>\n      <td>...</td>\n      <td>0.0</td>\n      <td>5.0</td>\n      <td>0.0</td>\n      <td>4.0</td>\n      <td>0.0</td>\n      <td>0.0</td>\n      <td>0.0</td>\n      <td>0.0</td>\n      <td>0.000000</td>\n      <td>0.0</td>\n    </tr>\n    <tr>\n      <th>6</th>\n      <td>0.0</td>\n      <td>5.0</td>\n      <td>0.0</td>\n      <td>0.0</td>\n      <td>0.0</td>\n      <td>2.0</td>\n      <td>4.0</td>\n      <td>5.0</td>\n      <td>0.0</td>\n      <td>5.0</td>\n      <td>...</td>\n      <td>4.0</td>\n      <td>4.0</td>\n      <td>0.0</td>\n      <td>5.0</td>\n      <td>0.0</td>\n      <td>0.0</td>\n      <td>0.0</td>\n      <td>0.0</td>\n      <td>2.666667</td>\n      <td>4.0</td>\n    </tr>\n    <tr>\n      <th>7</th>\n      <td>0.0</td>\n      <td>0.0</td>\n      <td>0.0</td>\n      <td>4.0</td>\n      <td>5.0</td>\n      <td>0.0</td>\n      <td>0.0</td>\n      <td>5.0</td>\n      <td>0.0</td>\n      <td>0.0</td>\n      <td>...</td>\n      <td>0.0</td>\n      <td>0.0</td>\n      <td>0.0</td>\n      <td>0.0</td>\n      <td>0.0</td>\n      <td>4.5</td>\n      <td>5.0</td>\n      <td>0.0</td>\n      <td>0.000000</td>\n      <td>0.0</td>\n    </tr>\n    <tr>\n      <th>8</th>\n      <td>5.0</td>\n      <td>0.0</td>\n      <td>4.0</td>\n      <td>0.0</td>\n      <td>1.0</td>\n      <td>0.0</td>\n      <td>0.0</td>\n      <td>0.0</td>\n      <td>0.0</td>\n      <td>0.0</td>\n      <td>...</td>\n      <td>4.0</td>\n      <td>0.0</td>\n      <td>4.0</td>\n      <td>0.0</td>\n      <td>4.0</td>\n      <td>0.0</td>\n      <td>0.0</td>\n      <td>5.0</td>\n      <td>0.000000</td>\n      <td>5.0</td>\n    </tr>\n    <tr>\n      <th>9</th>\n      <td>4.0</td>\n      <td>0.0</td>\n      <td>0.0</td>\n      <td>0.0</td>\n      <td>0.0</td>\n      <td>0.0</td>\n      <td>0.0</td>\n      <td>0.0</td>\n      <td>4.0</td>\n      <td>0.0</td>\n      <td>...</td>\n      <td>0.0</td>\n      <td>0.0</td>\n      <td>0.0</td>\n      <td>5.0</td>\n      <td>0.0</td>\n      <td>5.0</td>\n      <td>0.0</td>\n      <td>0.0</td>\n      <td>0.000000</td>\n      <td>0.0</td>\n    </tr>\n    <tr>\n      <th>10</th>\n      <td>0.0</td>\n      <td>0.0</td>\n      <td>0.0</td>\n      <td>0.0</td>\n      <td>0.0</td>\n      <td>0.0</td>\n      <td>0.0</td>\n      <td>0.0</td>\n      <td>0.0</td>\n      <td>0.0</td>\n      <td>...</td>\n      <td>4.0</td>\n      <td>0.0</td>\n      <td>0.0</td>\n      <td>0.0</td>\n      <td>0.0</td>\n      <td>0.0</td>\n      <td>0.0</td>\n      <td>0.0</td>\n      <td>0.000000</td>\n      <td>0.0</td>\n    </tr>\n    <tr>\n      <th>11</th>\n      <td>0.0</td>\n      <td>0.0</td>\n      <td>0.0</td>\n      <td>0.0</td>\n      <td>0.0</td>\n      <td>0.0</td>\n      <td>0.0</td>\n      <td>0.0</td>\n      <td>0.0</td>\n      <td>0.0</td>\n      <td>...</td>\n      <td>0.0</td>\n      <td>0.0</td>\n      <td>0.0</td>\n      <td>0.0</td>\n      <td>0.0</td>\n      <td>0.0</td>\n      <td>0.0</td>\n      <td>0.0</td>\n      <td>3.000000</td>\n      <td>0.0</td>\n    </tr>\n  </tbody>\n</table>\n<p>7 rows × 131 columns</p>\n</div>"
     },
     "metadata": {},
     "execution_count": 16
    }
   ],
   "source": [
    "book_list_matrix = books_mat.fillna(0)\n",
    "book_list_matrix"
   ]
  },
  {
   "cell_type": "code",
   "execution_count": 17,
   "metadata": {},
   "outputs": [
    {
     "output_type": "execute_result",
     "data": {
      "text/plain": "array([[ 1.        , -0.31137499,  0.73954416, ...,  0.73954416,\n        -0.39563027,  0.45631068],\n       [-0.31137499,  1.        , -0.20272121, ..., -0.20272121,\n         0.54673297,  0.4958935 ],\n       [ 0.73954416, -0.20272121,  1.        , ...,  1.        ,\n        -0.25757576,  0.73954416],\n       ...,\n       [ 0.73954416, -0.20272121,  1.        , ...,  1.        ,\n        -0.25757576,  0.73954416],\n       [-0.39563027,  0.54673297, -0.25757576, ..., -0.25757576,\n         1.        ,  0.18359313],\n       [ 0.45631068,  0.4958935 ,  0.73954416, ...,  0.73954416,\n         0.18359313,  1.        ]])"
     },
     "metadata": {},
     "execution_count": 17
    }
   ],
   "source": [
    "book_corr = np.corrcoef(book_list_matrix.T)\n",
    "book_corr"
   ]
  },
  {
   "cell_type": "code",
   "execution_count": 18,
   "metadata": {},
   "outputs": [
    {
     "output_type": "execute_result",
     "data": {
      "text/plain": "[' The Fellowship of the Ring',\n 'A Christmas Carol',\n 'A Clockwork Orange',\n 'A Feast for Crows',\n 'A Game of Thrones',\n 'A Storm of Swords',\n 'A Thousand Splendid Suns',\n 'A Time to Kill',\n 'A Walk to Remember',\n 'Allegiant',\n 'American Gods',\n 'An Excellent conceited Tragedie of Romeo and Juliet',\n \"Angela's Ashes: A Memoir\",\n 'Angels & Demons ',\n 'Animal Farm: A Fairy Story',\n 'Anne of Green Gables',\n 'Atonement',\n 'Bared to You',\n 'Beautiful Creatures',\n 'Blink: The Power of Thinking Without Thinking',\n 'Brave New World',\n 'Catching Fire',\n 'Charlie and the Chocolate Factory',\n 'Clockwork Angel',\n 'DAA',\n 'DBA',\n 'Digital Fortress',\n 'Divine Secrets of the Ya-Ya Sisterhood',\n 'Dracula',\n 'Dune',\n \"Eat, pray, love: one woman's search for everything across Italy, India and Indonesia\",\n 'Eleanor & Park',\n 'Fahrenheit 451',\n 'Fifty Shades Freed',\n 'Fight Club',\n 'Frankenstein; or, The Modern Prometheus',\n 'Girl with a Pearl Earring',\n 'Gone Girl',\n 'Gone with the Wind',\n 'Great Expectations',\n 'Green Eggs and Ham',\n 'Harry Potter and the Chamber of Secrets',\n 'Harry Potter and the Deathly Hallows',\n 'Harry Potter and the Goblet of Fire',\n 'Harry Potter and the Half-Blood Prince',\n 'Harry Potter and the Order of the Phoenix',\n \"Harry Potter and the Philosopher's Stone\",\n 'Harry Potter and the Prisoner of Azkaban',\n 'If I Stay',\n 'Insurgent',\n 'Interview with the Vampire',\n 'It',\n 'Jane Eyre',\n 'Jurassic Park',\n 'Le Petit Prince',\n 'Looking for Alaska',\n 'Luftslottet som sprängdes',\n 'Matilda',\n 'Me Talk Pretty One Day',\n 'Memoirs of a Geisha',\n 'Middlesex',\n 'Miss Peregrine’s Home for Peculiar Children',\n 'Moby Dick; or, The Whale',\n \"My Sister's Keeper\",\n 'Män som hatar kvinnor',\n 'New Moon (Twilight, #2)',\n 'Nineteen Eighty-Four',\n 'O Alquimista',\n 'Of Mice and Men ',\n 'Pride and Prejudice',\n 'Room',\n 'Sense and Sensibility',\n 'Siddhartha',\n 'Something Borrowed',\n 'Steve Jobs',\n 'Ten Little Niggers',\n 'The Adventures of Tom Sawyer',\n 'The Battle of the Labyrinth',\n 'The Bell Jar',\n 'The Book Thief',\n 'The Chronicles of Narnia',\n 'The Color Purple',\n 'The Devil Wears Prada',\n 'The Fault in Our Stars',\n 'The Five People You Meet in Heaven',\n 'The Girl on the Train',\n 'The Giver',\n 'The Giving Tree',\n 'The Goldfinch',\n 'The Grapes of Wrath',\n 'The Great Gatsby',\n \"The Handmaid's Tale\",\n \"The Hitchhiker's Guide to the Galaxy\",\n 'The Hobbit or There and Back Again',\n 'The Host',\n 'The Hunger Games',\n 'The Immortal Life of Henrietta Lacks',\n 'The Joy Luck Club',\n 'The Kite Runner ',\n 'The Last Song',\n 'The Lion, the Witch and the Wardrobe',\n 'The Lord of the Rings',\n 'The Lost Hero',\n 'The Lovely Bones',\n 'The Maze Runner',\n 'The Name of the Wind',\n 'The Notebook',\n 'The Old Man and the Sea',\n 'The Pillars of the Earth',\n 'The Poisonwood Bible',\n 'The Return of the King',\n 'The Road',\n 'The Scarlet Letter',\n 'The Sea of Monsters',\n 'The Secret Garden',\n 'The Shining',\n 'The Silence of the Lambs',\n 'The Stand',\n \"The Titan's Curse\",\n 'Thirteen Reasons Why',\n 'To Kill a Mockingbird',\n 'Twilight: The Complete Illustrated Movie Companion',\n 'Un di Velt Hot Geshvign',\n 'Unbroken: A World War II Story of Survival, Resilience, and Redemption',\n 'Watchmen',\n 'Water for Elephants',\n 'Where the Wild Things Are',\n 'Wicked: The Life and Times of the Wicked Witch of the West',\n 'Wuthering Heights',\n 'cryptography',\n 'Анна Каренина']"
     },
     "metadata": {},
     "execution_count": 18
    }
   ],
   "source": [
    "book_titles = list(book_list_matrix)\n",
    "book_titles"
   ]
  },
  {
   "cell_type": "code",
   "execution_count": 19,
   "metadata": {},
   "outputs": [
    {
     "output_type": "execute_result",
     "data": {
      "text/plain": "     book_id                                         book_title  \\\n0          5                                                DAA   \n1          5                                                DAA   \n2          5                                                DAA   \n3          5                                                DAA   \n4          5                                                DAA   \n..       ...                                                ...   \n235      206                                       Bared to You   \n236      206                                       Bared to You   \n237      208  Twilight: The Complete Illustrated Movie Compa...   \n238      208  Twilight: The Complete Illustrated Movie Compa...   \n239      208  Twilight: The Complete Illustrated Movie Compa...   \n\n         publisher          author  \\\n0            suman          suuman   \n1            suman          suuman   \n2            suman          suuman   \n3            suman          suuman   \n4            suman          suuman   \n..             ...             ...   \n235      Actes Sud      Sylvia Day   \n236      Actes Sud      Sylvia Day   \n237  Business Plus  Mark Cotta Vaz   \n238  Business Plus  Mark Cotta Vaz   \n239  Business Plus  Mark Cotta Vaz   \n\n                                            book_image  category_id  \\\n0    book/02_-_Python_e_Django.jpg.250x250_q85_crop...            2   \n1    book/02_-_Python_e_Django.jpg.250x250_q85_crop...            2   \n2    book/02_-_Python_e_Django.jpg.250x250_q85_crop...            2   \n3    book/02_-_Python_e_Django.jpg.250x250_q85_crop...            2   \n4    book/02_-_Python_e_Django.jpg.250x250_q85_crop...            2   \n..                                                 ...          ...   \n235  https://images.gr-assets.com/books/1477803272m...            4   \n236  https://images.gr-assets.com/books/1477803272m...            4   \n237  https://images.gr-assets.com/books/1352539022m...            4   \n238  https://images.gr-assets.com/books/1352539022m...            4   \n239  https://images.gr-assets.com/books/1352539022m...            4   \n\n     available category_title  \\\n0            0    educational   \n1            0    educational   \n2            0    educational   \n3            0    educational   \n4            0    educational   \n..         ...            ...   \n235         26        Fantasy   \n236         26        Fantasy   \n237         49        Fantasy   \n238         49        Fantasy   \n239         49        Fantasy   \n\n                                        category_image   id  rating  user_id  \n0                                  bookcategory/e1.jpg    1       3        5  \n1                                  bookcategory/e1.jpg    2       4        6  \n2                                  bookcategory/e1.jpg    4       4        6  \n3                                  bookcategory/e1.jpg    5       3        5  \n4                                  bookcategory/e1.jpg    6       4        6  \n..                                                 ...  ...     ...      ...  \n235  https://www.google.com/url?sa=i&url=https%3A%2...  194       4        8  \n236  https://www.google.com/url?sa=i&url=https%3A%2...  207       5        7  \n237  https://www.google.com/url?sa=i&url=https%3A%2...   56       4        6  \n238  https://www.google.com/url?sa=i&url=https%3A%2...  233       4        8  \n239  https://www.google.com/url?sa=i&url=https%3A%2...  238       4       10  \n\n[240 rows x 12 columns]",
      "text/html": "<div>\n<style scoped>\n    .dataframe tbody tr th:only-of-type {\n        vertical-align: middle;\n    }\n\n    .dataframe tbody tr th {\n        vertical-align: top;\n    }\n\n    .dataframe thead th {\n        text-align: right;\n    }\n</style>\n<table border=\"1\" class=\"dataframe\">\n  <thead>\n    <tr style=\"text-align: right;\">\n      <th></th>\n      <th>book_id</th>\n      <th>book_title</th>\n      <th>publisher</th>\n      <th>author</th>\n      <th>book_image</th>\n      <th>category_id</th>\n      <th>available</th>\n      <th>category_title</th>\n      <th>category_image</th>\n      <th>id</th>\n      <th>rating</th>\n      <th>user_id</th>\n    </tr>\n  </thead>\n  <tbody>\n    <tr>\n      <th>0</th>\n      <td>5</td>\n      <td>DAA</td>\n      <td>suman</td>\n      <td>suuman</td>\n      <td>book/02_-_Python_e_Django.jpg.250x250_q85_crop...</td>\n      <td>2</td>\n      <td>0</td>\n      <td>educational</td>\n      <td>bookcategory/e1.jpg</td>\n      <td>1</td>\n      <td>3</td>\n      <td>5</td>\n    </tr>\n    <tr>\n      <th>1</th>\n      <td>5</td>\n      <td>DAA</td>\n      <td>suman</td>\n      <td>suuman</td>\n      <td>book/02_-_Python_e_Django.jpg.250x250_q85_crop...</td>\n      <td>2</td>\n      <td>0</td>\n      <td>educational</td>\n      <td>bookcategory/e1.jpg</td>\n      <td>2</td>\n      <td>4</td>\n      <td>6</td>\n    </tr>\n    <tr>\n      <th>2</th>\n      <td>5</td>\n      <td>DAA</td>\n      <td>suman</td>\n      <td>suuman</td>\n      <td>book/02_-_Python_e_Django.jpg.250x250_q85_crop...</td>\n      <td>2</td>\n      <td>0</td>\n      <td>educational</td>\n      <td>bookcategory/e1.jpg</td>\n      <td>4</td>\n      <td>4</td>\n      <td>6</td>\n    </tr>\n    <tr>\n      <th>3</th>\n      <td>5</td>\n      <td>DAA</td>\n      <td>suman</td>\n      <td>suuman</td>\n      <td>book/02_-_Python_e_Django.jpg.250x250_q85_crop...</td>\n      <td>2</td>\n      <td>0</td>\n      <td>educational</td>\n      <td>bookcategory/e1.jpg</td>\n      <td>5</td>\n      <td>3</td>\n      <td>5</td>\n    </tr>\n    <tr>\n      <th>4</th>\n      <td>5</td>\n      <td>DAA</td>\n      <td>suman</td>\n      <td>suuman</td>\n      <td>book/02_-_Python_e_Django.jpg.250x250_q85_crop...</td>\n      <td>2</td>\n      <td>0</td>\n      <td>educational</td>\n      <td>bookcategory/e1.jpg</td>\n      <td>6</td>\n      <td>4</td>\n      <td>6</td>\n    </tr>\n    <tr>\n      <th>...</th>\n      <td>...</td>\n      <td>...</td>\n      <td>...</td>\n      <td>...</td>\n      <td>...</td>\n      <td>...</td>\n      <td>...</td>\n      <td>...</td>\n      <td>...</td>\n      <td>...</td>\n      <td>...</td>\n      <td>...</td>\n    </tr>\n    <tr>\n      <th>235</th>\n      <td>206</td>\n      <td>Bared to You</td>\n      <td>Actes Sud</td>\n      <td>Sylvia Day</td>\n      <td>https://images.gr-assets.com/books/1477803272m...</td>\n      <td>4</td>\n      <td>26</td>\n      <td>Fantasy</td>\n      <td>https://www.google.com/url?sa=i&amp;url=https%3A%2...</td>\n      <td>194</td>\n      <td>4</td>\n      <td>8</td>\n    </tr>\n    <tr>\n      <th>236</th>\n      <td>206</td>\n      <td>Bared to You</td>\n      <td>Actes Sud</td>\n      <td>Sylvia Day</td>\n      <td>https://images.gr-assets.com/books/1477803272m...</td>\n      <td>4</td>\n      <td>26</td>\n      <td>Fantasy</td>\n      <td>https://www.google.com/url?sa=i&amp;url=https%3A%2...</td>\n      <td>207</td>\n      <td>5</td>\n      <td>7</td>\n    </tr>\n    <tr>\n      <th>237</th>\n      <td>208</td>\n      <td>Twilight: The Complete Illustrated Movie Compa...</td>\n      <td>Business Plus</td>\n      <td>Mark Cotta Vaz</td>\n      <td>https://images.gr-assets.com/books/1352539022m...</td>\n      <td>4</td>\n      <td>49</td>\n      <td>Fantasy</td>\n      <td>https://www.google.com/url?sa=i&amp;url=https%3A%2...</td>\n      <td>56</td>\n      <td>4</td>\n      <td>6</td>\n    </tr>\n    <tr>\n      <th>238</th>\n      <td>208</td>\n      <td>Twilight: The Complete Illustrated Movie Compa...</td>\n      <td>Business Plus</td>\n      <td>Mark Cotta Vaz</td>\n      <td>https://images.gr-assets.com/books/1352539022m...</td>\n      <td>4</td>\n      <td>49</td>\n      <td>Fantasy</td>\n      <td>https://www.google.com/url?sa=i&amp;url=https%3A%2...</td>\n      <td>233</td>\n      <td>4</td>\n      <td>8</td>\n    </tr>\n    <tr>\n      <th>239</th>\n      <td>208</td>\n      <td>Twilight: The Complete Illustrated Movie Compa...</td>\n      <td>Business Plus</td>\n      <td>Mark Cotta Vaz</td>\n      <td>https://images.gr-assets.com/books/1352539022m...</td>\n      <td>4</td>\n      <td>49</td>\n      <td>Fantasy</td>\n      <td>https://www.google.com/url?sa=i&amp;url=https%3A%2...</td>\n      <td>238</td>\n      <td>4</td>\n      <td>10</td>\n    </tr>\n  </tbody>\n</table>\n<p>240 rows × 12 columns</p>\n</div>"
     },
     "metadata": {},
     "execution_count": 19
    }
   ],
   "source": [
    "books_with_rating"
   ]
  },
  {
   "cell_type": "code",
   "execution_count": 20,
   "metadata": {},
   "outputs": [],
   "source": [
    "# def get_recommendation(user_id, corr_limit):\n",
    "#     user_rated_books = books_with_rating.loc[books_with_rating['user_id'] == user_id]['book_title']\n",
    "#     print(\"User Rated Book: \", user_rated_books)\n",
    "#     books_list = list(user_rated_books)\n",
    "#     print('********************')\n",
    "#     print('Book List: ', books_list)\n",
    "#     # self.get_recommendation_list(book_list)\n",
    "#     book_similarities = np.zeros(book_corr.shape[0])\n",
    "\n",
    "#     # print(book_similarities)\n",
    "#     book_preferences = []\n",
    "#     for book in books_list:\n",
    "#         print(\"book: \", book)\n",
    "#         book_index = book_titles.index(book)\n",
    "#         print(\"index :\", book_index)\n",
    "#         book_similarities += book_corr[book_index]\n",
    "#         print(\"Book Similarities:\", book_similarities[book_index])\n",
    "\n",
    "#     for i in range(len(book_titles)):\n",
    "#         print(\"Iteration{}: {}\".format(i, book_similarities[i]))\n",
    "#         if book_similarities[i] > corr_limit :\n",
    "#             # pass book title\n",
    "#             book_preferences.append(book_titles[i])\n",
    "#             print(\"Added: \", book_titles[i])\n",
    "\n",
    "#     # return sorted(book_preferences, key= lambda x: x[1],      reverse=True)\n",
    "#     print(\"Similarities Matrix:\", book_similarities)\n",
    "#     return book_preferences\n",
    "\n"
   ]
  },
  {
   "cell_type": "code",
   "execution_count": 128,
   "metadata": {},
   "outputs": [],
   "source": [
    "def get_recommendation(user_id, corr_limit):\n",
    "    user_rated_books = books_with_rating.loc[books_with_rating['user_id'] == user_id]['book_title']\n",
    "    print(\"User Rated Book: \", user_rated_books)\n",
    "    books_list = list(user_rated_books)\n",
    "\n",
    "    # books_list = ['The Old Man and the Sea']\n",
    "\n",
    "    print('********************')\n",
    "    print('Book List: ', books_list)\n",
    "    # self.get_recommendation_list(book_list)\n",
    "    book_similarities = np.zeros(book_corr.shape[0])\n",
    "\n",
    "    # print(book_similarities)\n",
    "    book_preferences = []\n",
    "    for book in books_list:\n",
    "        print(\"book: \", book)\n",
    "        book_index = book_titles.index(book)\n",
    "        print(\"index :\", book_index)\n",
    "        book_similarities += book_corr[book_index]\n",
    "        print(\"Book Similarities:\", book_similarities[book_index])\n",
    "\n",
    "    for i in range(len(book_titles)):\n",
    "        print(\"Iteration{}: {}\".format(i, book_similarities[i]))\n",
    "        if book_similarities[i] > corr_limit and book_titles[i] not in books_list :\n",
    "            # pass book title\n",
    "            book_preferences.append(book_titles[i])\n",
    "            print(\"Added: \", book_titles[i])\n",
    "\n",
    "    # return sorted(book_preferences, key= lambda x: x[1],      reverse=True)\n",
    "    print(\"Similarities Matrix:\", book_similarities)\n",
    "    return book_preferences\n",
    "\n",
    ""
   ]
  },
  {
   "cell_type": "markdown",
   "metadata": {},
   "source": [
    "## Test Recommendation Engine"
   ]
  },
  {
   "cell_type": "code",
   "execution_count": 129,
   "metadata": {},
   "outputs": [
    {
     "output_type": "stream",
     "name": "stdout",
     "text": "User Rated Book:  13          cryptography\n233    The Titan's Curse\nName: book_title, dtype: object\n********************\nBook List:  ['cryptography', \"The Titan's Curse\"]\nbook:  cryptography\nindex : 129\nBook Similarities: 1.0\nbook:  The Titan's Curse\nindex : 118\nBook Similarities: 1.696969696969697\nIteration0: -0.6516263238414578\nIteration1: 0.344011756276102\nAdded:  A Christmas Carol\nIteration2: -0.4242424242424242\nIteration3: -0.6572335375382281\nIteration4: -0.5160176344141528\nIteration5: 0.4242424242424242\nAdded:  A Storm of Swords\nIteration6: 0.09257728676678456\nIteration7: -1.1102230246251565e-16\nIteration8: -0.4242424242424242\nIteration9: 0.4242424242424242\nAdded:  Allegiant\nIteration10: -0.4242424242424241\nIteration11: -0.630238723509994\nIteration12: -0.4242424242424241\nIteration13: -0.6572335375382283\nIteration14: -0.6516263238414578\nIteration15: -0.4242424242424242\nIteration16: -0.6113984054376054\nIteration17: -0.5968687523380136\nIteration18: -0.4242424242424241\nIteration19: -0.4242424242424242\nIteration20: -0.4242424242424242\nIteration21: -0.36403567724464064\nIteration22: -0.4242424242424241\nIteration23: -0.8907773288598737\nIteration24: 0.09257728676678456\nIteration25: -0.05940582174664291\nIteration26: -0.6302387235099941\nIteration27: -0.4242424242424242\nIteration28: -0.4242424242424242\nIteration29: -1.1102230246251565e-16\nIteration30: -0.4242424242424242\nIteration31: -0.8151978739168071\nIteration32: -0.535914858860512\nIteration33: -0.4242424242424242\nIteration34: 0.42424242424242437\nAdded:  Fight Club\nIteration35: -0.4242424242424242\nIteration36: -0.4242424242424242\nIteration37: -0.6572335375382283\nIteration38: -0.4242424242424242\nIteration39: 0.1279139037602633\nIteration40: -0.6480410073674925\nIteration41: -0.0385674931129478\nIteration42: -0.6516263238414578\nIteration43: 0.4242424242424242\nAdded:  Harry Potter and the Goblet of Fire\nIteration44: -0.4242424242424241\nIteration45: -0.4242424242424242\nIteration46: -1.1102230246251565e-16\nIteration47: -0.4242424242424241\nIteration48: -0.6516263238414578\nIteration49: -5.551115123125783e-17\nIteration50: 0.42424242424242437\nAdded:  Interview with the Vampire\nIteration51: -0.2548642342001682\nIteration52: -0.6572335375382283\nIteration53: -0.4242424242424242\nIteration54: -0.6480410073674925\nIteration55: 0.4242424242424242\nAdded:  Looking for Alaska\nIteration56: -0.4242424242424242\nIteration57: -0.4242424242424241\nIteration58: -0.6516263238414578\nIteration59: -0.4242424242424242\nIteration60: 0.4242424242424242\nAdded:  Middlesex\nIteration61: -0.4242424242424242\nIteration62: -0.4242424242424242\nIteration63: -0.4242424242424241\nIteration64: 0.4242424242424242\nAdded:  Män som hatar kvinnor\nIteration65: -0.4242424242424242\nIteration66: -0.8920248197005884\nIteration67: -0.4242424242424242\nIteration68: -0.6113984054376054\nIteration69: -0.6572335375382283\nIteration70: -0.6572335375382283\nIteration71: -0.4242424242424242\nIteration72: -0.4242424242424242\nIteration73: -0.4242424242424242\nIteration74: 0.4242424242424242\nAdded:  Steve Jobs\nIteration75: -0.8999540851465151\nIteration76: -0.4242424242424241\nIteration77: -0.4242424242424241\nIteration78: -0.4242424242424241\nIteration79: 0.4242424242424242\nAdded:  The Book Thief\nIteration80: -0.6395695188013168\nIteration81: -0.6254738722522785\nIteration82: 0.4242424242424242\nAdded:  The Devil Wears Prada\nIteration83: -0.4242424242424241\nIteration84: -0.4242424242424242\nIteration85: -0.6516263238414578\nIteration86: -0.4242424242424241\nIteration87: -0.4242424242424242\nIteration88: -0.4242424242424242\nIteration89: -5.551115123125783e-17\nIteration90: 0.4242424242424242\nAdded:  The Great Gatsby\nIteration91: -0.887213950734269\nIteration92: -0.46568564183593675\nIteration93: 0.4242424242424242\nAdded:  The Hobbit or There and Back Again\nIteration94: -0.6572335375382283\nIteration95: -0.1448058497425463\nIteration96: 0.4242424242424242\nAdded:  The Immortal Life of Henrietta Lacks\nIteration97: 0.4242424242424242\nAdded:  The Joy Luck Club\nIteration98: -0.6480410073674925\nIteration99: -0.4242424242424243\nIteration100: -0.4242424242424242\nIteration101: -0.608802222136768\nIteration102: -0.6516263238414578\nIteration103: -0.4242424242424242\nIteration104: -0.4242424242424242\nIteration105: -0.6572335375382283\nIteration106: -1.1102230246251565e-16\nIteration107: -0.4242424242424243\nIteration108: -0.4242424242424243\nIteration109: -0.6747504353878532\nIteration110: -0.23007775829251417\nIteration111: 0.4242424242424242\nAdded:  The Road\nIteration112: -0.6572335375382281\nIteration113: -0.4242424242424242\nIteration114: -0.6572335375382281\nIteration115: -0.6572335375382283\nIteration116: -0.4242424242424242\nIteration117: -0.09257728676678467\nIteration118: 1.696969696969697\nIteration119: -0.6572335375382283\nIteration120: -0.4242424242424242\nIteration121: -0.2999846950488384\nIteration122: -0.07240292487127323\nIteration123: -0.4242424242424242\nIteration124: -0.25486423420016824\nIteration125: -0.4242424242424242\nIteration126: -0.6559628182822073\nIteration127: -0.4242424242424242\nIteration128: -0.4242424242424242\nIteration129: 1.696969696969697\nIteration130: -0.07240292487127323\nSimilarities Matrix: [-6.51626324e-01  3.44011756e-01 -4.24242424e-01 -6.57233538e-01\n -5.16017634e-01  4.24242424e-01  9.25772868e-02 -1.11022302e-16\n -4.24242424e-01  4.24242424e-01 -4.24242424e-01 -6.30238724e-01\n -4.24242424e-01 -6.57233538e-01 -6.51626324e-01 -4.24242424e-01\n -6.11398405e-01 -5.96868752e-01 -4.24242424e-01 -4.24242424e-01\n -4.24242424e-01 -3.64035677e-01 -4.24242424e-01 -8.90777329e-01\n  9.25772868e-02 -5.94058217e-02 -6.30238724e-01 -4.24242424e-01\n -4.24242424e-01 -1.11022302e-16 -4.24242424e-01 -8.15197874e-01\n -5.35914859e-01 -4.24242424e-01  4.24242424e-01 -4.24242424e-01\n -4.24242424e-01 -6.57233538e-01 -4.24242424e-01  1.27913904e-01\n -6.48041007e-01 -3.85674931e-02 -6.51626324e-01  4.24242424e-01\n -4.24242424e-01 -4.24242424e-01 -1.11022302e-16 -4.24242424e-01\n -6.51626324e-01 -5.55111512e-17  4.24242424e-01 -2.54864234e-01\n -6.57233538e-01 -4.24242424e-01 -6.48041007e-01  4.24242424e-01\n -4.24242424e-01 -4.24242424e-01 -6.51626324e-01 -4.24242424e-01\n  4.24242424e-01 -4.24242424e-01 -4.24242424e-01 -4.24242424e-01\n  4.24242424e-01 -4.24242424e-01 -8.92024820e-01 -4.24242424e-01\n -6.11398405e-01 -6.57233538e-01 -6.57233538e-01 -4.24242424e-01\n -4.24242424e-01 -4.24242424e-01  4.24242424e-01 -8.99954085e-01\n -4.24242424e-01 -4.24242424e-01 -4.24242424e-01  4.24242424e-01\n -6.39569519e-01 -6.25473872e-01  4.24242424e-01 -4.24242424e-01\n -4.24242424e-01 -6.51626324e-01 -4.24242424e-01 -4.24242424e-01\n -4.24242424e-01 -5.55111512e-17  4.24242424e-01 -8.87213951e-01\n -4.65685642e-01  4.24242424e-01 -6.57233538e-01 -1.44805850e-01\n  4.24242424e-01  4.24242424e-01 -6.48041007e-01 -4.24242424e-01\n -4.24242424e-01 -6.08802222e-01 -6.51626324e-01 -4.24242424e-01\n -4.24242424e-01 -6.57233538e-01 -1.11022302e-16 -4.24242424e-01\n -4.24242424e-01 -6.74750435e-01 -2.30077758e-01  4.24242424e-01\n -6.57233538e-01 -4.24242424e-01 -6.57233538e-01 -6.57233538e-01\n -4.24242424e-01 -9.25772868e-02  1.69696970e+00 -6.57233538e-01\n -4.24242424e-01 -2.99984695e-01 -7.24029249e-02 -4.24242424e-01\n -2.54864234e-01 -4.24242424e-01 -6.55962818e-01 -4.24242424e-01\n -4.24242424e-01  1.69696970e+00 -7.24029249e-02]\nRecommended: ['A Christmas Carol', 'A Storm of Swords', 'Allegiant', 'Fight Club', 'Harry Potter and the Goblet of Fire', 'Interview with the Vampire', 'Looking for Alaska', 'Middlesex', 'Män som hatar kvinnor', 'Steve Jobs', 'The Book Thief', 'The Devil Wears Prada', 'The Great Gatsby', 'The Hobbit or There and Back Again', 'The Immortal Life of Henrietta Lacks', 'The Joy Luck Club', 'The Road']\n"
    }
   ],
   "source": [
    "preferred_books = get_recommendation(11, 0.2)\n",
    "print(\"Recommended:\", preferred_books)"
   ]
  },
  {
   "cell_type": "code",
   "execution_count": 116,
   "metadata": {},
   "outputs": [
    {
     "output_type": "execute_result",
     "data": {
      "text/plain": "book_title\nDAA                                        1.000000\nA Thousand Splendid Suns                   1.000000\nHarry Potter and the Chamber of Secrets    0.972062\nDBA                                        0.962533\nUn di Velt Hot Geshvign                    0.955877\nA Christmas Carol                          0.877375\nInterview with the Vampire                 0.763763\nFight Club                                 0.763763\nThe Hobbit or There and Back Again         0.763763\nThe Devil Wears Prada                      0.763763\ndtype: float64"
     },
     "metadata": {},
     "execution_count": 116
    }
   ],
   "source": [
    "rated_books = book_list_matrix['DAA']\n",
    "rated_books\n",
    "similarities_with_other = book_list_matrix.corrwith(rated_books).sort_values(ascending=False)\n",
    "similarities_with_other.head(10)\n",
    ""
   ]
  },
  {
   "cell_type": "code",
   "execution_count": 110,
   "metadata": {},
   "outputs": [],
   "source": [
    "from collections import Iterable\n",
    "\n",
    "def flattern(lst):\n",
    "    for item in lst:\n",
    "        if not isinstance(item, Iterable):\n",
    "            yield item\n",
    "        else:\n",
    "            for child in flattern(item):\n",
    "                yield child\n",
    ""
   ]
  },
  {
   "cell_type": "code",
   "execution_count": 114,
   "metadata": {},
   "outputs": [
    {
     "output_type": "execute_result",
     "data": {
      "text/plain": "[['A Thousand Splendid Suns',\n  'Harry Potter and the Chamber of Secrets',\n  'Un di Velt Hot Geshvign',\n  'A Christmas Carol',\n  'Interview with the Vampire',\n  'Fight Club',\n  'The Hobbit or There and Back Again',\n  'The Devil Wears Prada',\n  'Looking for Alaska',\n  'A Storm of Swords'],\n ['Un di Velt Hot Geshvign',\n  'Harry Potter and the Chamber of Secrets',\n  'A Thousand Splendid Suns',\n  'The Old Man and the Sea',\n  'The Battle of the Labyrinth',\n  'The Pillars of the Earth',\n  'Moby Dick; or, The Whale',\n  'The Goldfinch',\n  'Brave New World',\n  'A Christmas Carol']]"
     },
     "metadata": {},
     "execution_count": 114
    }
   ],
   "source": [
    "book_list = ['DAA', 'DBA']\n",
    "# book_list = ['The Old Man and the Sea']\n",
    "preferred_books = []\n",
    "correlation_level = 0.4\n",
    "for book in book_list:\n",
    "    rated_books = book_list_matrix[book]\n",
    "    similar_books = book_list_matrix.corrwith(rated_books).sort_values(ascending=False)\n",
    "    similar_books = similar_books.drop(labels=book_list)\n",
    "    \n",
    "    preferred_books.append(similar_books.head(10).index.tolist())\n",
    "\n",
    "# preferred_books.append(similar_books.values > correlation_level.index.tolist())\n",
    "# preferred_books\n",
    "preferred_books\n",
    "# similar_books"
   ]
  },
  {
   "cell_type": "code",
   "execution_count": 115,
   "metadata": {},
   "outputs": [
    {
     "output_type": "stream",
     "name": "stdout",
     "text": "['A Thousand Splendid Suns', 'Harry Potter and the Chamber of Secrets', 'Un di Velt Hot Geshvign', 'A Christmas Carol', 'Interview with the Vampire', 'Fight Club', 'The Hobbit or There and Back Again', 'The Devil Wears Prada', 'Looking for Alaska', 'A Storm of Swords', 'Un di Velt Hot Geshvign', 'Harry Potter and the Chamber of Secrets', 'A Thousand Splendid Suns', 'The Old Man and the Sea', 'The Battle of the Labyrinth', 'The Pillars of the Earth', 'Moby Dick; or, The Whale', 'The Goldfinch', 'Brave New World', 'A Christmas Carol']\n"
    }
   ],
   "source": [
    "result = []\n",
    "for sublist in preferred_books:\n",
    "    for item in sublist:\n",
    "        result.append(item)\n",
    "\n",
    "print(result)"
   ]
  },
  {
   "cell_type": "markdown",
   "metadata": {},
   "source": [
    ">Recommendation Engine"
   ]
  },
  {
   "cell_type": "code",
   "execution_count": 23,
   "metadata": {},
   "outputs": [],
   "source": [
    "  "
   ]
  },
  {
   "cell_type": "code",
   "execution_count": 23,
   "metadata": {},
   "outputs": [
    {
     "output_type": "error",
     "ename": "NameError",
     "evalue": "name 'book_mat' is not defined",
     "traceback": [
      "\u001b[0;31m---------------------------------------------------------------------------\u001b[0m",
      "\u001b[0;31mNameError\u001b[0m                                 Traceback (most recent call last)",
      "\u001b[0;32m<ipython-input-23-a5bff63edb41>\u001b[0m in \u001b[0;36m<module>\u001b[0;34m\u001b[0m\n\u001b[1;32m      1\u001b[0m \u001b[0;31m# find similar book\u001b[0m\u001b[0;34m\u001b[0m\u001b[0;34m\u001b[0m\u001b[0;34m\u001b[0m\u001b[0m\n\u001b[0;32m----> 2\u001b[0;31m \u001b[0msimilar_to_daa\u001b[0m \u001b[0;34m=\u001b[0m \u001b[0mbook_mat\u001b[0m\u001b[0;34m.\u001b[0m\u001b[0mcorrwith\u001b[0m\u001b[0;34m(\u001b[0m\u001b[0mdaa_rating\u001b[0m\u001b[0;34m)\u001b[0m\u001b[0;34m\u001b[0m\u001b[0;34m\u001b[0m\u001b[0m\n\u001b[0m\u001b[1;32m      3\u001b[0m \u001b[0mcorr_daa\u001b[0m \u001b[0;34m=\u001b[0m \u001b[0mpd\u001b[0m\u001b[0;34m.\u001b[0m\u001b[0mDataFrame\u001b[0m\u001b[0;34m(\u001b[0m\u001b[0msimilar_to_daa\u001b[0m\u001b[0;34m,\u001b[0m \u001b[0mcolumns\u001b[0m\u001b[0;34m=\u001b[0m\u001b[0;34m[\u001b[0m\u001b[0;34m'correlation'\u001b[0m\u001b[0;34m]\u001b[0m\u001b[0;34m)\u001b[0m\u001b[0;34m\u001b[0m\u001b[0;34m\u001b[0m\u001b[0m\n\u001b[1;32m      4\u001b[0m \u001b[0mcorr_daa\u001b[0m\u001b[0;34m.\u001b[0m\u001b[0mdropna\u001b[0m\u001b[0;34m(\u001b[0m\u001b[0minplace\u001b[0m \u001b[0;34m=\u001b[0m \u001b[0;32mTrue\u001b[0m\u001b[0;34m)\u001b[0m\u001b[0;34m\u001b[0m\u001b[0;34m\u001b[0m\u001b[0m\n\u001b[1;32m      5\u001b[0m \u001b[0mcorr_daa\u001b[0m\u001b[0;34m\u001b[0m\u001b[0;34m\u001b[0m\u001b[0m\n",
      "\u001b[0;31mNameError\u001b[0m: name 'book_mat' is not defined"
     ]
    }
   ],
   "source": [
    "# find similar book\n",
    "similar_to_daa = book_mat.corrwith(daa_rating)\n",
    "corr_daa = pd.DataFrame(similar_to_daa, columns=['correlation'])\n",
    "corr_daa.dropna(inplace = True)\n",
    "corr_daa"
   ]
  },
  {
   "cell_type": "markdown",
   "metadata": {},
   "source": [
    "### Merge book_list and book_category"
   ]
  },
  {
   "cell_type": "code",
   "execution_count": 24,
   "metadata": {},
   "outputs": [
    {
     "output_type": "error",
     "ename": "NameError",
     "evalue": "name 'book_category' is not defined",
     "traceback": [
      "\u001b[0;31m---------------------------------------------------------------------------\u001b[0m",
      "\u001b[0;31mNameError\u001b[0m                                 Traceback (most recent call last)",
      "\u001b[0;32m<ipython-input-24-c411634eed1c>\u001b[0m in \u001b[0;36m<module>\u001b[0;34m\u001b[0m\n\u001b[0;32m----> 1\u001b[0;31m \u001b[0mbook_data\u001b[0m \u001b[0;34m=\u001b[0m \u001b[0mpd\u001b[0m\u001b[0;34m.\u001b[0m\u001b[0mmerge\u001b[0m\u001b[0;34m(\u001b[0m\u001b[0mbook_list\u001b[0m\u001b[0;34m,\u001b[0m \u001b[0mbook_category\u001b[0m\u001b[0;34m,\u001b[0m \u001b[0mon\u001b[0m\u001b[0;34m=\u001b[0m\u001b[0;34m'category_id'\u001b[0m\u001b[0;34m)\u001b[0m\u001b[0;34m\u001b[0m\u001b[0;34m\u001b[0m\u001b[0m\n\u001b[0m\u001b[1;32m      2\u001b[0m \u001b[0mbook_data\u001b[0m\u001b[0;34m.\u001b[0m\u001b[0mhead\u001b[0m\u001b[0;34m(\u001b[0m\u001b[0;34m)\u001b[0m\u001b[0;34m\u001b[0m\u001b[0;34m\u001b[0m\u001b[0m\n",
      "\u001b[0;31mNameError\u001b[0m: name 'book_category' is not defined"
     ]
    }
   ],
   "source": [
    "book_data = pd.merge(book_list, book_category, on='category_id')\n",
    "book_data.head()"
   ]
  },
  {
   "cell_type": "code",
   "execution_count": 32,
   "metadata": {},
   "outputs": [
    {
     "data": {
      "text/plain": [
       "numpy.int64"
      ]
     },
     "execution_count": 32,
     "metadata": {},
     "output_type": "execute_result"
    }
   ],
   "source": []
  },
  {
   "cell_type": "code",
   "execution_count": null,
   "metadata": {},
   "outputs": [],
   "source": []
  }
 ],
 "metadata": {
  "kernelspec": {
   "display_name": "Python 3.7.6 64-bit ('base': conda)",
   "language": "python",
   "name": "python37664bitbasecondaf631feb9dce648b4b38faae4f8a84778"
  },
  "language_info": {
   "codemirror_mode": {
    "name": "ipython",
    "version": 3
   },
   "file_extension": ".py",
   "mimetype": "text/x-python",
   "name": "python",
   "nbconvert_exporter": "python",
   "pygments_lexer": "ipython3",
   "version": "3.6.9-final"
  },
  "pycharm": {
   "stem_cell": {
    "cell_type": "raw",
    "metadata": {
     "collapsed": false
    },
    "source": [
     "\n",
     "#%\n",
     "\n"
    ]
   }
  }
 },
 "nbformat": 4,
 "nbformat_minor": 4
}